{
 "cells": [
  {
   "cell_type": "markdown",
   "id": "be0ec859-4185-46cf-b0b9-25421c605514",
   "metadata": {},
   "source": [
    "## Anomaly Detection "
   ]
  },
  {
   "cell_type": "markdown",
   "id": "1acaeda6-0f60-413e-b359-b37bcd3505ca",
   "metadata": {},
   "source": [
    "Ref : http://www.pycaret.org/tutorials/html/ANO101.html"
   ]
  },
  {
   "cell_type": "code",
   "execution_count": 1,
   "id": "5db8047c-522a-4021-89b8-a96d90748296",
   "metadata": {},
   "outputs": [],
   "source": [
    "from pycaret.datasets import get_data "
   ]
  },
  {
   "cell_type": "code",
   "execution_count": 2,
   "id": "c910daae-def4-4a82-b43e-9e890ab9892a",
   "metadata": {},
   "outputs": [
    {
     "data": {
      "text/html": [
       "<div>\n",
       "<style scoped>\n",
       "    .dataframe tbody tr th:only-of-type {\n",
       "        vertical-align: middle;\n",
       "    }\n",
       "\n",
       "    .dataframe tbody tr th {\n",
       "        vertical-align: top;\n",
       "    }\n",
       "\n",
       "    .dataframe thead th {\n",
       "        text-align: right;\n",
       "    }\n",
       "</style>\n",
       "<table border=\"1\" class=\"dataframe\">\n",
       "  <thead>\n",
       "    <tr style=\"text-align: right;\">\n",
       "      <th></th>\n",
       "      <th>MouseID</th>\n",
       "      <th>DYRK1A_N</th>\n",
       "      <th>ITSN1_N</th>\n",
       "      <th>BDNF_N</th>\n",
       "      <th>NR1_N</th>\n",
       "      <th>NR2A_N</th>\n",
       "      <th>pAKT_N</th>\n",
       "      <th>pBRAF_N</th>\n",
       "      <th>pCAMKII_N</th>\n",
       "      <th>pCREB_N</th>\n",
       "      <th>...</th>\n",
       "      <th>pCFOS_N</th>\n",
       "      <th>SYP_N</th>\n",
       "      <th>H3AcK18_N</th>\n",
       "      <th>EGR1_N</th>\n",
       "      <th>H3MeK4_N</th>\n",
       "      <th>CaNA_N</th>\n",
       "      <th>Genotype</th>\n",
       "      <th>Treatment</th>\n",
       "      <th>Behavior</th>\n",
       "      <th>class</th>\n",
       "    </tr>\n",
       "  </thead>\n",
       "  <tbody>\n",
       "    <tr>\n",
       "      <th>0</th>\n",
       "      <td>309_1</td>\n",
       "      <td>0.503644</td>\n",
       "      <td>0.747193</td>\n",
       "      <td>0.430175</td>\n",
       "      <td>2.816329</td>\n",
       "      <td>5.990152</td>\n",
       "      <td>0.218830</td>\n",
       "      <td>0.177565</td>\n",
       "      <td>2.373744</td>\n",
       "      <td>0.232224</td>\n",
       "      <td>...</td>\n",
       "      <td>0.108336</td>\n",
       "      <td>0.427099</td>\n",
       "      <td>0.114783</td>\n",
       "      <td>0.131790</td>\n",
       "      <td>0.128186</td>\n",
       "      <td>1.675652</td>\n",
       "      <td>Control</td>\n",
       "      <td>Memantine</td>\n",
       "      <td>C/S</td>\n",
       "      <td>c-CS-m</td>\n",
       "    </tr>\n",
       "    <tr>\n",
       "      <th>1</th>\n",
       "      <td>309_2</td>\n",
       "      <td>0.514617</td>\n",
       "      <td>0.689064</td>\n",
       "      <td>0.411770</td>\n",
       "      <td>2.789514</td>\n",
       "      <td>5.685038</td>\n",
       "      <td>0.211636</td>\n",
       "      <td>0.172817</td>\n",
       "      <td>2.292150</td>\n",
       "      <td>0.226972</td>\n",
       "      <td>...</td>\n",
       "      <td>0.104315</td>\n",
       "      <td>0.441581</td>\n",
       "      <td>0.111974</td>\n",
       "      <td>0.135103</td>\n",
       "      <td>0.131119</td>\n",
       "      <td>1.743610</td>\n",
       "      <td>Control</td>\n",
       "      <td>Memantine</td>\n",
       "      <td>C/S</td>\n",
       "      <td>c-CS-m</td>\n",
       "    </tr>\n",
       "    <tr>\n",
       "      <th>2</th>\n",
       "      <td>309_3</td>\n",
       "      <td>0.509183</td>\n",
       "      <td>0.730247</td>\n",
       "      <td>0.418309</td>\n",
       "      <td>2.687201</td>\n",
       "      <td>5.622059</td>\n",
       "      <td>0.209011</td>\n",
       "      <td>0.175722</td>\n",
       "      <td>2.283337</td>\n",
       "      <td>0.230247</td>\n",
       "      <td>...</td>\n",
       "      <td>0.106219</td>\n",
       "      <td>0.435777</td>\n",
       "      <td>0.111883</td>\n",
       "      <td>0.133362</td>\n",
       "      <td>0.127431</td>\n",
       "      <td>1.926427</td>\n",
       "      <td>Control</td>\n",
       "      <td>Memantine</td>\n",
       "      <td>C/S</td>\n",
       "      <td>c-CS-m</td>\n",
       "    </tr>\n",
       "    <tr>\n",
       "      <th>3</th>\n",
       "      <td>309_4</td>\n",
       "      <td>0.442107</td>\n",
       "      <td>0.617076</td>\n",
       "      <td>0.358626</td>\n",
       "      <td>2.466947</td>\n",
       "      <td>4.979503</td>\n",
       "      <td>0.222886</td>\n",
       "      <td>0.176463</td>\n",
       "      <td>2.152301</td>\n",
       "      <td>0.207004</td>\n",
       "      <td>...</td>\n",
       "      <td>0.111262</td>\n",
       "      <td>0.391691</td>\n",
       "      <td>0.130405</td>\n",
       "      <td>0.147444</td>\n",
       "      <td>0.146901</td>\n",
       "      <td>1.700563</td>\n",
       "      <td>Control</td>\n",
       "      <td>Memantine</td>\n",
       "      <td>C/S</td>\n",
       "      <td>c-CS-m</td>\n",
       "    </tr>\n",
       "    <tr>\n",
       "      <th>4</th>\n",
       "      <td>309_5</td>\n",
       "      <td>0.434940</td>\n",
       "      <td>0.617430</td>\n",
       "      <td>0.358802</td>\n",
       "      <td>2.365785</td>\n",
       "      <td>4.718679</td>\n",
       "      <td>0.213106</td>\n",
       "      <td>0.173627</td>\n",
       "      <td>2.134014</td>\n",
       "      <td>0.192158</td>\n",
       "      <td>...</td>\n",
       "      <td>0.110694</td>\n",
       "      <td>0.434154</td>\n",
       "      <td>0.118481</td>\n",
       "      <td>0.140314</td>\n",
       "      <td>0.148380</td>\n",
       "      <td>1.839730</td>\n",
       "      <td>Control</td>\n",
       "      <td>Memantine</td>\n",
       "      <td>C/S</td>\n",
       "      <td>c-CS-m</td>\n",
       "    </tr>\n",
       "  </tbody>\n",
       "</table>\n",
       "<p>5 rows × 82 columns</p>\n",
       "</div>"
      ],
      "text/plain": [
       "  MouseID  DYRK1A_N   ITSN1_N    BDNF_N     NR1_N    NR2A_N    pAKT_N  \\\n",
       "0   309_1  0.503644  0.747193  0.430175  2.816329  5.990152  0.218830   \n",
       "1   309_2  0.514617  0.689064  0.411770  2.789514  5.685038  0.211636   \n",
       "2   309_3  0.509183  0.730247  0.418309  2.687201  5.622059  0.209011   \n",
       "3   309_4  0.442107  0.617076  0.358626  2.466947  4.979503  0.222886   \n",
       "4   309_5  0.434940  0.617430  0.358802  2.365785  4.718679  0.213106   \n",
       "\n",
       "    pBRAF_N  pCAMKII_N   pCREB_N  ...   pCFOS_N     SYP_N  H3AcK18_N  \\\n",
       "0  0.177565   2.373744  0.232224  ...  0.108336  0.427099   0.114783   \n",
       "1  0.172817   2.292150  0.226972  ...  0.104315  0.441581   0.111974   \n",
       "2  0.175722   2.283337  0.230247  ...  0.106219  0.435777   0.111883   \n",
       "3  0.176463   2.152301  0.207004  ...  0.111262  0.391691   0.130405   \n",
       "4  0.173627   2.134014  0.192158  ...  0.110694  0.434154   0.118481   \n",
       "\n",
       "     EGR1_N  H3MeK4_N    CaNA_N  Genotype  Treatment  Behavior   class  \n",
       "0  0.131790  0.128186  1.675652   Control  Memantine       C/S  c-CS-m  \n",
       "1  0.135103  0.131119  1.743610   Control  Memantine       C/S  c-CS-m  \n",
       "2  0.133362  0.127431  1.926427   Control  Memantine       C/S  c-CS-m  \n",
       "3  0.147444  0.146901  1.700563   Control  Memantine       C/S  c-CS-m  \n",
       "4  0.140314  0.148380  1.839730   Control  Memantine       C/S  c-CS-m  \n",
       "\n",
       "[5 rows x 82 columns]"
      ]
     },
     "metadata": {},
     "output_type": "display_data"
    }
   ],
   "source": [
    "dataset = get_data('mice')"
   ]
  },
  {
   "cell_type": "code",
   "execution_count": 3,
   "id": "d83cae22-079f-4caf-a8bf-aa4faff585c3",
   "metadata": {},
   "outputs": [],
   "source": [
    "data = dataset.sample(frac = 0.9, random_state = 7)"
   ]
  },
  {
   "cell_type": "code",
   "execution_count": 4,
   "id": "21f2b7dc-29ea-425b-9859-3c9b50b4d280",
   "metadata": {},
   "outputs": [
    {
     "name": "stdout",
     "output_type": "stream",
     "text": [
      "1080 972 108\n"
     ]
    }
   ],
   "source": [
    "test = dataset.drop(data.index).reset_index()\n",
    "train = data.reset_index()\n",
    "print(len(dataset), len(train), len(test))"
   ]
  },
  {
   "cell_type": "code",
   "execution_count": 5,
   "id": "da1ef82f-9717-4c18-a32d-5ed40047f41a",
   "metadata": {},
   "outputs": [],
   "source": [
    "from pycaret.anomaly import *"
   ]
  },
  {
   "cell_type": "code",
   "execution_count": 6,
   "id": "9b9701ab-4a58-4f9f-9214-418b47535cca",
   "metadata": {},
   "outputs": [
    {
     "data": {
      "text/html": [
       "<style type=\"text/css\">\n",
       "#T_85e9e_row2_col1, #T_85e9e_row21_col1 {\n",
       "  background-color: lightgreen;\n",
       "}\n",
       "</style>\n",
       "<table id=\"T_85e9e_\">\n",
       "  <thead>\n",
       "    <tr>\n",
       "      <th class=\"blank level0\" >&nbsp;</th>\n",
       "      <th class=\"col_heading level0 col0\" >Description</th>\n",
       "      <th class=\"col_heading level0 col1\" >Value</th>\n",
       "    </tr>\n",
       "  </thead>\n",
       "  <tbody>\n",
       "    <tr>\n",
       "      <th id=\"T_85e9e_level0_row0\" class=\"row_heading level0 row0\" >0</th>\n",
       "      <td id=\"T_85e9e_row0_col0\" class=\"data row0 col0\" >session_id</td>\n",
       "      <td id=\"T_85e9e_row0_col1\" class=\"data row0 col1\" >100</td>\n",
       "    </tr>\n",
       "    <tr>\n",
       "      <th id=\"T_85e9e_level0_row1\" class=\"row_heading level0 row1\" >1</th>\n",
       "      <td id=\"T_85e9e_row1_col0\" class=\"data row1 col0\" >Original Data</td>\n",
       "      <td id=\"T_85e9e_row1_col1\" class=\"data row1 col1\" >(972, 82)</td>\n",
       "    </tr>\n",
       "    <tr>\n",
       "      <th id=\"T_85e9e_level0_row2\" class=\"row_heading level0 row2\" >2</th>\n",
       "      <td id=\"T_85e9e_row2_col0\" class=\"data row2 col0\" >Missing Values</td>\n",
       "      <td id=\"T_85e9e_row2_col1\" class=\"data row2 col1\" >True</td>\n",
       "    </tr>\n",
       "    <tr>\n",
       "      <th id=\"T_85e9e_level0_row3\" class=\"row_heading level0 row3\" >3</th>\n",
       "      <td id=\"T_85e9e_row3_col0\" class=\"data row3 col0\" >Numeric Features</td>\n",
       "      <td id=\"T_85e9e_row3_col1\" class=\"data row3 col1\" >77</td>\n",
       "    </tr>\n",
       "    <tr>\n",
       "      <th id=\"T_85e9e_level0_row4\" class=\"row_heading level0 row4\" >4</th>\n",
       "      <td id=\"T_85e9e_row4_col0\" class=\"data row4 col0\" >Categorical Features</td>\n",
       "      <td id=\"T_85e9e_row4_col1\" class=\"data row4 col1\" >4</td>\n",
       "    </tr>\n",
       "    <tr>\n",
       "      <th id=\"T_85e9e_level0_row5\" class=\"row_heading level0 row5\" >5</th>\n",
       "      <td id=\"T_85e9e_row5_col0\" class=\"data row5 col0\" >Ordinal Features</td>\n",
       "      <td id=\"T_85e9e_row5_col1\" class=\"data row5 col1\" >False</td>\n",
       "    </tr>\n",
       "    <tr>\n",
       "      <th id=\"T_85e9e_level0_row6\" class=\"row_heading level0 row6\" >6</th>\n",
       "      <td id=\"T_85e9e_row6_col0\" class=\"data row6 col0\" >High Cardinality Features</td>\n",
       "      <td id=\"T_85e9e_row6_col1\" class=\"data row6 col1\" >False</td>\n",
       "    </tr>\n",
       "    <tr>\n",
       "      <th id=\"T_85e9e_level0_row7\" class=\"row_heading level0 row7\" >7</th>\n",
       "      <td id=\"T_85e9e_row7_col0\" class=\"data row7 col0\" >High Cardinality Method</td>\n",
       "      <td id=\"T_85e9e_row7_col1\" class=\"data row7 col1\" >None</td>\n",
       "    </tr>\n",
       "    <tr>\n",
       "      <th id=\"T_85e9e_level0_row8\" class=\"row_heading level0 row8\" >8</th>\n",
       "      <td id=\"T_85e9e_row8_col0\" class=\"data row8 col0\" >Transformed Data</td>\n",
       "      <td id=\"T_85e9e_row8_col1\" class=\"data row8 col1\" >(972, 91)</td>\n",
       "    </tr>\n",
       "    <tr>\n",
       "      <th id=\"T_85e9e_level0_row9\" class=\"row_heading level0 row9\" >9</th>\n",
       "      <td id=\"T_85e9e_row9_col0\" class=\"data row9 col0\" >CPU Jobs</td>\n",
       "      <td id=\"T_85e9e_row9_col1\" class=\"data row9 col1\" >-1</td>\n",
       "    </tr>\n",
       "    <tr>\n",
       "      <th id=\"T_85e9e_level0_row10\" class=\"row_heading level0 row10\" >10</th>\n",
       "      <td id=\"T_85e9e_row10_col0\" class=\"data row10 col0\" >Use GPU</td>\n",
       "      <td id=\"T_85e9e_row10_col1\" class=\"data row10 col1\" >False</td>\n",
       "    </tr>\n",
       "    <tr>\n",
       "      <th id=\"T_85e9e_level0_row11\" class=\"row_heading level0 row11\" >11</th>\n",
       "      <td id=\"T_85e9e_row11_col0\" class=\"data row11 col0\" >Log Experiment</td>\n",
       "      <td id=\"T_85e9e_row11_col1\" class=\"data row11 col1\" >False</td>\n",
       "    </tr>\n",
       "    <tr>\n",
       "      <th id=\"T_85e9e_level0_row12\" class=\"row_heading level0 row12\" >12</th>\n",
       "      <td id=\"T_85e9e_row12_col0\" class=\"data row12 col0\" >Experiment Name</td>\n",
       "      <td id=\"T_85e9e_row12_col1\" class=\"data row12 col1\" >anomaly-default-name</td>\n",
       "    </tr>\n",
       "    <tr>\n",
       "      <th id=\"T_85e9e_level0_row13\" class=\"row_heading level0 row13\" >13</th>\n",
       "      <td id=\"T_85e9e_row13_col0\" class=\"data row13 col0\" >USI</td>\n",
       "      <td id=\"T_85e9e_row13_col1\" class=\"data row13 col1\" >1de3</td>\n",
       "    </tr>\n",
       "    <tr>\n",
       "      <th id=\"T_85e9e_level0_row14\" class=\"row_heading level0 row14\" >14</th>\n",
       "      <td id=\"T_85e9e_row14_col0\" class=\"data row14 col0\" >Imputation Type</td>\n",
       "      <td id=\"T_85e9e_row14_col1\" class=\"data row14 col1\" >simple</td>\n",
       "    </tr>\n",
       "    <tr>\n",
       "      <th id=\"T_85e9e_level0_row15\" class=\"row_heading level0 row15\" >15</th>\n",
       "      <td id=\"T_85e9e_row15_col0\" class=\"data row15 col0\" >Iterative Imputation Iteration</td>\n",
       "      <td id=\"T_85e9e_row15_col1\" class=\"data row15 col1\" >None</td>\n",
       "    </tr>\n",
       "    <tr>\n",
       "      <th id=\"T_85e9e_level0_row16\" class=\"row_heading level0 row16\" >16</th>\n",
       "      <td id=\"T_85e9e_row16_col0\" class=\"data row16 col0\" >Numeric Imputer</td>\n",
       "      <td id=\"T_85e9e_row16_col1\" class=\"data row16 col1\" >mean</td>\n",
       "    </tr>\n",
       "    <tr>\n",
       "      <th id=\"T_85e9e_level0_row17\" class=\"row_heading level0 row17\" >17</th>\n",
       "      <td id=\"T_85e9e_row17_col0\" class=\"data row17 col0\" >Iterative Imputation Numeric Model</td>\n",
       "      <td id=\"T_85e9e_row17_col1\" class=\"data row17 col1\" >None</td>\n",
       "    </tr>\n",
       "    <tr>\n",
       "      <th id=\"T_85e9e_level0_row18\" class=\"row_heading level0 row18\" >18</th>\n",
       "      <td id=\"T_85e9e_row18_col0\" class=\"data row18 col0\" >Categorical Imputer</td>\n",
       "      <td id=\"T_85e9e_row18_col1\" class=\"data row18 col1\" >mode</td>\n",
       "    </tr>\n",
       "    <tr>\n",
       "      <th id=\"T_85e9e_level0_row19\" class=\"row_heading level0 row19\" >19</th>\n",
       "      <td id=\"T_85e9e_row19_col0\" class=\"data row19 col0\" >Iterative Imputation Categorical Model</td>\n",
       "      <td id=\"T_85e9e_row19_col1\" class=\"data row19 col1\" >None</td>\n",
       "    </tr>\n",
       "    <tr>\n",
       "      <th id=\"T_85e9e_level0_row20\" class=\"row_heading level0 row20\" >20</th>\n",
       "      <td id=\"T_85e9e_row20_col0\" class=\"data row20 col0\" >Unknown Categoricals Handling</td>\n",
       "      <td id=\"T_85e9e_row20_col1\" class=\"data row20 col1\" >least_frequent</td>\n",
       "    </tr>\n",
       "    <tr>\n",
       "      <th id=\"T_85e9e_level0_row21\" class=\"row_heading level0 row21\" >21</th>\n",
       "      <td id=\"T_85e9e_row21_col0\" class=\"data row21 col0\" >Normalize</td>\n",
       "      <td id=\"T_85e9e_row21_col1\" class=\"data row21 col1\" >True</td>\n",
       "    </tr>\n",
       "    <tr>\n",
       "      <th id=\"T_85e9e_level0_row22\" class=\"row_heading level0 row22\" >22</th>\n",
       "      <td id=\"T_85e9e_row22_col0\" class=\"data row22 col0\" >Normalize Method</td>\n",
       "      <td id=\"T_85e9e_row22_col1\" class=\"data row22 col1\" >zscore</td>\n",
       "    </tr>\n",
       "    <tr>\n",
       "      <th id=\"T_85e9e_level0_row23\" class=\"row_heading level0 row23\" >23</th>\n",
       "      <td id=\"T_85e9e_row23_col0\" class=\"data row23 col0\" >Transformation</td>\n",
       "      <td id=\"T_85e9e_row23_col1\" class=\"data row23 col1\" >False</td>\n",
       "    </tr>\n",
       "    <tr>\n",
       "      <th id=\"T_85e9e_level0_row24\" class=\"row_heading level0 row24\" >24</th>\n",
       "      <td id=\"T_85e9e_row24_col0\" class=\"data row24 col0\" >Transformation Method</td>\n",
       "      <td id=\"T_85e9e_row24_col1\" class=\"data row24 col1\" >None</td>\n",
       "    </tr>\n",
       "    <tr>\n",
       "      <th id=\"T_85e9e_level0_row25\" class=\"row_heading level0 row25\" >25</th>\n",
       "      <td id=\"T_85e9e_row25_col0\" class=\"data row25 col0\" >PCA</td>\n",
       "      <td id=\"T_85e9e_row25_col1\" class=\"data row25 col1\" >False</td>\n",
       "    </tr>\n",
       "    <tr>\n",
       "      <th id=\"T_85e9e_level0_row26\" class=\"row_heading level0 row26\" >26</th>\n",
       "      <td id=\"T_85e9e_row26_col0\" class=\"data row26 col0\" >PCA Method</td>\n",
       "      <td id=\"T_85e9e_row26_col1\" class=\"data row26 col1\" >None</td>\n",
       "    </tr>\n",
       "    <tr>\n",
       "      <th id=\"T_85e9e_level0_row27\" class=\"row_heading level0 row27\" >27</th>\n",
       "      <td id=\"T_85e9e_row27_col0\" class=\"data row27 col0\" >PCA Components</td>\n",
       "      <td id=\"T_85e9e_row27_col1\" class=\"data row27 col1\" >None</td>\n",
       "    </tr>\n",
       "    <tr>\n",
       "      <th id=\"T_85e9e_level0_row28\" class=\"row_heading level0 row28\" >28</th>\n",
       "      <td id=\"T_85e9e_row28_col0\" class=\"data row28 col0\" >Ignore Low Variance</td>\n",
       "      <td id=\"T_85e9e_row28_col1\" class=\"data row28 col1\" >False</td>\n",
       "    </tr>\n",
       "    <tr>\n",
       "      <th id=\"T_85e9e_level0_row29\" class=\"row_heading level0 row29\" >29</th>\n",
       "      <td id=\"T_85e9e_row29_col0\" class=\"data row29 col0\" >Combine Rare Levels</td>\n",
       "      <td id=\"T_85e9e_row29_col1\" class=\"data row29 col1\" >False</td>\n",
       "    </tr>\n",
       "    <tr>\n",
       "      <th id=\"T_85e9e_level0_row30\" class=\"row_heading level0 row30\" >30</th>\n",
       "      <td id=\"T_85e9e_row30_col0\" class=\"data row30 col0\" >Rare Level Threshold</td>\n",
       "      <td id=\"T_85e9e_row30_col1\" class=\"data row30 col1\" >None</td>\n",
       "    </tr>\n",
       "    <tr>\n",
       "      <th id=\"T_85e9e_level0_row31\" class=\"row_heading level0 row31\" >31</th>\n",
       "      <td id=\"T_85e9e_row31_col0\" class=\"data row31 col0\" >Numeric Binning</td>\n",
       "      <td id=\"T_85e9e_row31_col1\" class=\"data row31 col1\" >False</td>\n",
       "    </tr>\n",
       "    <tr>\n",
       "      <th id=\"T_85e9e_level0_row32\" class=\"row_heading level0 row32\" >32</th>\n",
       "      <td id=\"T_85e9e_row32_col0\" class=\"data row32 col0\" >Remove Outliers</td>\n",
       "      <td id=\"T_85e9e_row32_col1\" class=\"data row32 col1\" >False</td>\n",
       "    </tr>\n",
       "    <tr>\n",
       "      <th id=\"T_85e9e_level0_row33\" class=\"row_heading level0 row33\" >33</th>\n",
       "      <td id=\"T_85e9e_row33_col0\" class=\"data row33 col0\" >Outliers Threshold</td>\n",
       "      <td id=\"T_85e9e_row33_col1\" class=\"data row33 col1\" >None</td>\n",
       "    </tr>\n",
       "    <tr>\n",
       "      <th id=\"T_85e9e_level0_row34\" class=\"row_heading level0 row34\" >34</th>\n",
       "      <td id=\"T_85e9e_row34_col0\" class=\"data row34 col0\" >Remove Multicollinearity</td>\n",
       "      <td id=\"T_85e9e_row34_col1\" class=\"data row34 col1\" >False</td>\n",
       "    </tr>\n",
       "    <tr>\n",
       "      <th id=\"T_85e9e_level0_row35\" class=\"row_heading level0 row35\" >35</th>\n",
       "      <td id=\"T_85e9e_row35_col0\" class=\"data row35 col0\" >Multicollinearity Threshold</td>\n",
       "      <td id=\"T_85e9e_row35_col1\" class=\"data row35 col1\" >None</td>\n",
       "    </tr>\n",
       "    <tr>\n",
       "      <th id=\"T_85e9e_level0_row36\" class=\"row_heading level0 row36\" >36</th>\n",
       "      <td id=\"T_85e9e_row36_col0\" class=\"data row36 col0\" >Remove Perfect Collinearity</td>\n",
       "      <td id=\"T_85e9e_row36_col1\" class=\"data row36 col1\" >False</td>\n",
       "    </tr>\n",
       "    <tr>\n",
       "      <th id=\"T_85e9e_level0_row37\" class=\"row_heading level0 row37\" >37</th>\n",
       "      <td id=\"T_85e9e_row37_col0\" class=\"data row37 col0\" >Clustering</td>\n",
       "      <td id=\"T_85e9e_row37_col1\" class=\"data row37 col1\" >False</td>\n",
       "    </tr>\n",
       "    <tr>\n",
       "      <th id=\"T_85e9e_level0_row38\" class=\"row_heading level0 row38\" >38</th>\n",
       "      <td id=\"T_85e9e_row38_col0\" class=\"data row38 col0\" >Clustering Iteration</td>\n",
       "      <td id=\"T_85e9e_row38_col1\" class=\"data row38 col1\" >None</td>\n",
       "    </tr>\n",
       "    <tr>\n",
       "      <th id=\"T_85e9e_level0_row39\" class=\"row_heading level0 row39\" >39</th>\n",
       "      <td id=\"T_85e9e_row39_col0\" class=\"data row39 col0\" >Polynomial Features</td>\n",
       "      <td id=\"T_85e9e_row39_col1\" class=\"data row39 col1\" >False</td>\n",
       "    </tr>\n",
       "    <tr>\n",
       "      <th id=\"T_85e9e_level0_row40\" class=\"row_heading level0 row40\" >40</th>\n",
       "      <td id=\"T_85e9e_row40_col0\" class=\"data row40 col0\" >Polynomial Degree</td>\n",
       "      <td id=\"T_85e9e_row40_col1\" class=\"data row40 col1\" >None</td>\n",
       "    </tr>\n",
       "    <tr>\n",
       "      <th id=\"T_85e9e_level0_row41\" class=\"row_heading level0 row41\" >41</th>\n",
       "      <td id=\"T_85e9e_row41_col0\" class=\"data row41 col0\" >Trignometry Features</td>\n",
       "      <td id=\"T_85e9e_row41_col1\" class=\"data row41 col1\" >False</td>\n",
       "    </tr>\n",
       "    <tr>\n",
       "      <th id=\"T_85e9e_level0_row42\" class=\"row_heading level0 row42\" >42</th>\n",
       "      <td id=\"T_85e9e_row42_col0\" class=\"data row42 col0\" >Polynomial Threshold</td>\n",
       "      <td id=\"T_85e9e_row42_col1\" class=\"data row42 col1\" >None</td>\n",
       "    </tr>\n",
       "    <tr>\n",
       "      <th id=\"T_85e9e_level0_row43\" class=\"row_heading level0 row43\" >43</th>\n",
       "      <td id=\"T_85e9e_row43_col0\" class=\"data row43 col0\" >Group Features</td>\n",
       "      <td id=\"T_85e9e_row43_col1\" class=\"data row43 col1\" >False</td>\n",
       "    </tr>\n",
       "    <tr>\n",
       "      <th id=\"T_85e9e_level0_row44\" class=\"row_heading level0 row44\" >44</th>\n",
       "      <td id=\"T_85e9e_row44_col0\" class=\"data row44 col0\" >Feature Selection</td>\n",
       "      <td id=\"T_85e9e_row44_col1\" class=\"data row44 col1\" >False</td>\n",
       "    </tr>\n",
       "    <tr>\n",
       "      <th id=\"T_85e9e_level0_row45\" class=\"row_heading level0 row45\" >45</th>\n",
       "      <td id=\"T_85e9e_row45_col0\" class=\"data row45 col0\" >Feature Selection Method</td>\n",
       "      <td id=\"T_85e9e_row45_col1\" class=\"data row45 col1\" >classic</td>\n",
       "    </tr>\n",
       "    <tr>\n",
       "      <th id=\"T_85e9e_level0_row46\" class=\"row_heading level0 row46\" >46</th>\n",
       "      <td id=\"T_85e9e_row46_col0\" class=\"data row46 col0\" >Features Selection Threshold</td>\n",
       "      <td id=\"T_85e9e_row46_col1\" class=\"data row46 col1\" >None</td>\n",
       "    </tr>\n",
       "    <tr>\n",
       "      <th id=\"T_85e9e_level0_row47\" class=\"row_heading level0 row47\" >47</th>\n",
       "      <td id=\"T_85e9e_row47_col0\" class=\"data row47 col0\" >Feature Interaction</td>\n",
       "      <td id=\"T_85e9e_row47_col1\" class=\"data row47 col1\" >False</td>\n",
       "    </tr>\n",
       "    <tr>\n",
       "      <th id=\"T_85e9e_level0_row48\" class=\"row_heading level0 row48\" >48</th>\n",
       "      <td id=\"T_85e9e_row48_col0\" class=\"data row48 col0\" >Feature Ratio</td>\n",
       "      <td id=\"T_85e9e_row48_col1\" class=\"data row48 col1\" >False</td>\n",
       "    </tr>\n",
       "    <tr>\n",
       "      <th id=\"T_85e9e_level0_row49\" class=\"row_heading level0 row49\" >49</th>\n",
       "      <td id=\"T_85e9e_row49_col0\" class=\"data row49 col0\" >Interaction Threshold</td>\n",
       "      <td id=\"T_85e9e_row49_col1\" class=\"data row49 col1\" >None</td>\n",
       "    </tr>\n",
       "  </tbody>\n",
       "</table>\n"
      ],
      "text/plain": [
       "<pandas.io.formats.style.Styler at 0x7f47d63026d0>"
      ]
     },
     "metadata": {},
     "output_type": "display_data"
    }
   ],
   "source": [
    "ano101 = setup(data, normalize = True, ignore_features=['MouseID'], session_id=100)"
   ]
  },
  {
   "cell_type": "markdown",
   "id": "5a625d6a-e819-4090-aca3-6948dd619d9e",
   "metadata": {},
   "source": [
    "<br>\n",
    "**session_id** : A pseduo-random number distributed as a seed in all functions for later reproducibility. If no session_id is passed, a random number is automatically generated that is distributed to all functions. In this experiment session_id is set as 123 for later reproducibility.\n",
    "\n",
    "**Missing Values** : When there are missing values in original data it will show as True. Notice that Missing Values in the information grid above is True as the data contains missing values which are automatically imputed using mean for numeric features and constant for categorical features. The method of imputation can be changed using `numeric_imputation` and `categorical_imputation` parameter in `setup()`.\n",
    "\n",
    "**Original Data** : Displays the original shape of dataset. In this experiment (972, 82) means 972 samples and 82 features.\n",
    "\n",
    "**Transformed Data** : Displays the shape of transformed dataset. Notice that shape original dataset (972, 82) is transformed into (972, 91). The number of features has increased due to encoding of categorical features in the dataset.\n",
    "\n",
    "**Numeric Features** : Number of features inferred as numeric. In this dataset, 77 out of 82 features are inferred as numeric.\n",
    "\n",
    "**Categorical Features** : Number of features inferred as categorical. In this dataset, 5 out of 82 features are inferred as categorical. Also notice, we have ignored one categorical feature i.e. MouseID using `ignore_feature` parameter."
   ]
  },
  {
   "cell_type": "markdown",
   "id": "64f4ad9f-e26a-4a03-b95b-b8f4defeb1d0",
   "metadata": {},
   "source": [
    "### Create a Model"
   ]
  },
  {
   "cell_type": "markdown",
   "id": "924a7dc2-b769-4f11-8832-196fd13fbb8c",
   "metadata": {},
   "source": [
    "model iforest"
   ]
  },
  {
   "cell_type": "code",
   "execution_count": 7,
   "id": "913e7575-d138-4394-a7c7-ac2f57ada7f2",
   "metadata": {},
   "outputs": [
    {
     "name": "stdout",
     "output_type": "stream",
     "text": [
      "IForest(behaviour='new', bootstrap=False, contamination=0.05,\n",
      "    max_features=1.0, max_samples='auto', n_estimators=100, n_jobs=-1,\n",
      "    random_state=100, verbose=0)\n"
     ]
    }
   ],
   "source": [
    "iforest = create_model('iforest')\n",
    "print(iforest)"
   ]
  },
  {
   "cell_type": "markdown",
   "id": "f3ce7a29-462d-4bf0-94f4-0f6137380906",
   "metadata": {},
   "source": [
    "model svm"
   ]
  },
  {
   "cell_type": "code",
   "execution_count": 11,
   "id": "b34b39b2-8cb3-48ef-8a46-fa2015d66f0d",
   "metadata": {},
   "outputs": [
    {
     "name": "stdout",
     "output_type": "stream",
     "text": [
      "OCSVM(cache_size=200, coef0=0.0, contamination=0.025, degree=3, gamma='auto',\n",
      "   kernel='rbf', max_iter=-1, nu=0.5, shrinking=True, tol=0.001,\n",
      "   verbose=False)\n"
     ]
    }
   ],
   "source": [
    "svm = create_model('svm', fraction=0.025)\n",
    "print(svm)"
   ]
  },
  {
   "cell_type": "markdown",
   "id": "b7b94992-f362-43ea-bb6b-363a02f6d389",
   "metadata": {},
   "source": [
    "### Assign a Model"
   ]
  },
  {
   "cell_type": "code",
   "execution_count": 13,
   "id": "1a2090e7-e4d8-4424-89f4-d1a897900ceb",
   "metadata": {},
   "outputs": [
    {
     "data": {
      "text/html": [
       "<div>\n",
       "<style scoped>\n",
       "    .dataframe tbody tr th:only-of-type {\n",
       "        vertical-align: middle;\n",
       "    }\n",
       "\n",
       "    .dataframe tbody tr th {\n",
       "        vertical-align: top;\n",
       "    }\n",
       "\n",
       "    .dataframe thead th {\n",
       "        text-align: right;\n",
       "    }\n",
       "</style>\n",
       "<table border=\"1\" class=\"dataframe\">\n",
       "  <thead>\n",
       "    <tr style=\"text-align: right;\">\n",
       "      <th></th>\n",
       "      <th>MouseID</th>\n",
       "      <th>DYRK1A_N</th>\n",
       "      <th>ITSN1_N</th>\n",
       "      <th>BDNF_N</th>\n",
       "      <th>NR1_N</th>\n",
       "      <th>NR2A_N</th>\n",
       "      <th>pAKT_N</th>\n",
       "      <th>pBRAF_N</th>\n",
       "      <th>pCAMKII_N</th>\n",
       "      <th>pCREB_N</th>\n",
       "      <th>...</th>\n",
       "      <th>H3AcK18_N</th>\n",
       "      <th>EGR1_N</th>\n",
       "      <th>H3MeK4_N</th>\n",
       "      <th>CaNA_N</th>\n",
       "      <th>Genotype</th>\n",
       "      <th>Treatment</th>\n",
       "      <th>Behavior</th>\n",
       "      <th>class</th>\n",
       "      <th>Anomaly</th>\n",
       "      <th>Anomaly_Score</th>\n",
       "    </tr>\n",
       "  </thead>\n",
       "  <tbody>\n",
       "    <tr>\n",
       "      <th>838</th>\n",
       "      <td>3606_14</td>\n",
       "      <td>0.362090</td>\n",
       "      <td>0.582989</td>\n",
       "      <td>0.286513</td>\n",
       "      <td>1.889915</td>\n",
       "      <td>3.128311</td>\n",
       "      <td>0.228433</td>\n",
       "      <td>0.167679</td>\n",
       "      <td>3.791252</td>\n",
       "      <td>0.165978</td>\n",
       "      <td>...</td>\n",
       "      <td>0.151431</td>\n",
       "      <td>0.217021</td>\n",
       "      <td>0.189582</td>\n",
       "      <td>0.911519</td>\n",
       "      <td>Ts65Dn</td>\n",
       "      <td>Memantine</td>\n",
       "      <td>S/C</td>\n",
       "      <td>t-SC-m</td>\n",
       "      <td>0</td>\n",
       "      <td>-0.069811</td>\n",
       "    </tr>\n",
       "    <tr>\n",
       "      <th>518</th>\n",
       "      <td>3489_9</td>\n",
       "      <td>0.211814</td>\n",
       "      <td>0.422099</td>\n",
       "      <td>0.304722</td>\n",
       "      <td>2.491493</td>\n",
       "      <td>3.806347</td>\n",
       "      <td>0.246033</td>\n",
       "      <td>0.188301</td>\n",
       "      <td>2.601032</td>\n",
       "      <td>0.220990</td>\n",
       "      <td>...</td>\n",
       "      <td>0.116017</td>\n",
       "      <td>0.144303</td>\n",
       "      <td>0.181902</td>\n",
       "      <td>1.256755</td>\n",
       "      <td>Control</td>\n",
       "      <td>Saline</td>\n",
       "      <td>S/C</td>\n",
       "      <td>c-SC-s</td>\n",
       "      <td>0</td>\n",
       "      <td>-0.091390</td>\n",
       "    </tr>\n",
       "    <tr>\n",
       "      <th>913</th>\n",
       "      <td>50810B_14</td>\n",
       "      <td>0.451402</td>\n",
       "      <td>0.631308</td>\n",
       "      <td>0.245794</td>\n",
       "      <td>1.810981</td>\n",
       "      <td>2.760748</td>\n",
       "      <td>0.198598</td>\n",
       "      <td>0.145327</td>\n",
       "      <td>1.402336</td>\n",
       "      <td>0.173131</td>\n",
       "      <td>...</td>\n",
       "      <td>0.118395</td>\n",
       "      <td>0.188758</td>\n",
       "      <td>0.178632</td>\n",
       "      <td>1.227963</td>\n",
       "      <td>Ts65Dn</td>\n",
       "      <td>Saline</td>\n",
       "      <td>C/S</td>\n",
       "      <td>t-CS-s</td>\n",
       "      <td>0</td>\n",
       "      <td>-0.054669</td>\n",
       "    </tr>\n",
       "    <tr>\n",
       "      <th>703</th>\n",
       "      <td>363_14</td>\n",
       "      <td>0.590334</td>\n",
       "      <td>0.791139</td>\n",
       "      <td>0.331991</td>\n",
       "      <td>2.174914</td>\n",
       "      <td>3.023878</td>\n",
       "      <td>0.281646</td>\n",
       "      <td>0.223533</td>\n",
       "      <td>4.934695</td>\n",
       "      <td>0.233314</td>\n",
       "      <td>...</td>\n",
       "      <td>0.207562</td>\n",
       "      <td>0.229840</td>\n",
       "      <td>0.278946</td>\n",
       "      <td>1.396454</td>\n",
       "      <td>Ts65Dn</td>\n",
       "      <td>Memantine</td>\n",
       "      <td>C/S</td>\n",
       "      <td>t-CS-m</td>\n",
       "      <td>0</td>\n",
       "      <td>-0.034482</td>\n",
       "    </tr>\n",
       "    <tr>\n",
       "      <th>750</th>\n",
       "      <td>3501_1</td>\n",
       "      <td>0.342508</td>\n",
       "      <td>0.710544</td>\n",
       "      <td>0.362708</td>\n",
       "      <td>2.791454</td>\n",
       "      <td>5.502664</td>\n",
       "      <td>0.263152</td>\n",
       "      <td>0.181354</td>\n",
       "      <td>5.229523</td>\n",
       "      <td>0.267925</td>\n",
       "      <td>...</td>\n",
       "      <td>0.248805</td>\n",
       "      <td>0.184094</td>\n",
       "      <td>0.201123</td>\n",
       "      <td>1.019479</td>\n",
       "      <td>Ts65Dn</td>\n",
       "      <td>Memantine</td>\n",
       "      <td>S/C</td>\n",
       "      <td>t-SC-m</td>\n",
       "      <td>0</td>\n",
       "      <td>-0.053764</td>\n",
       "    </tr>\n",
       "  </tbody>\n",
       "</table>\n",
       "<p>5 rows × 84 columns</p>\n",
       "</div>"
      ],
      "text/plain": [
       "       MouseID  DYRK1A_N   ITSN1_N    BDNF_N     NR1_N    NR2A_N    pAKT_N  \\\n",
       "838    3606_14  0.362090  0.582989  0.286513  1.889915  3.128311  0.228433   \n",
       "518     3489_9  0.211814  0.422099  0.304722  2.491493  3.806347  0.246033   \n",
       "913  50810B_14  0.451402  0.631308  0.245794  1.810981  2.760748  0.198598   \n",
       "703     363_14  0.590334  0.791139  0.331991  2.174914  3.023878  0.281646   \n",
       "750     3501_1  0.342508  0.710544  0.362708  2.791454  5.502664  0.263152   \n",
       "\n",
       "      pBRAF_N  pCAMKII_N   pCREB_N  ...  H3AcK18_N    EGR1_N  H3MeK4_N  \\\n",
       "838  0.167679   3.791252  0.165978  ...   0.151431  0.217021  0.189582   \n",
       "518  0.188301   2.601032  0.220990  ...   0.116017  0.144303  0.181902   \n",
       "913  0.145327   1.402336  0.173131  ...   0.118395  0.188758  0.178632   \n",
       "703  0.223533   4.934695  0.233314  ...   0.207562  0.229840  0.278946   \n",
       "750  0.181354   5.229523  0.267925  ...   0.248805  0.184094  0.201123   \n",
       "\n",
       "       CaNA_N  Genotype  Treatment  Behavior   class  Anomaly  Anomaly_Score  \n",
       "838  0.911519    Ts65Dn  Memantine       S/C  t-SC-m        0      -0.069811  \n",
       "518  1.256755   Control     Saline       S/C  c-SC-s        0      -0.091390  \n",
       "913  1.227963    Ts65Dn     Saline       C/S  t-CS-s        0      -0.054669  \n",
       "703  1.396454    Ts65Dn  Memantine       C/S  t-CS-m        0      -0.034482  \n",
       "750  1.019479    Ts65Dn  Memantine       S/C  t-SC-m        0      -0.053764  \n",
       "\n",
       "[5 rows x 84 columns]"
      ]
     },
     "execution_count": 13,
     "metadata": {},
     "output_type": "execute_result"
    }
   ],
   "source": [
    "iforest_results = assign_model(iforest)\n",
    "iforest_results.head()"
   ]
  },
  {
   "cell_type": "markdown",
   "id": "e5ac1174-7c36-4f63-b883-673bcde060a9",
   "metadata": {},
   "source": [
    "Notice that two columns `Anomaly` and `Anomaly_Score` are added towards the end. 0 stands for inliers and 1 for outliers/anomalies. `Anomaly_Score` is the values computed by the algorithm. Outliers are assigned with larger anomaly scores. Notice that `iforest_results` also includes `MouseID` feature that we have dropped during `setup()`. It wasn't used for the model and is only appended to the dataset when you use `assign_model()`"
   ]
  },
  {
   "cell_type": "code",
   "execution_count": 16,
   "id": "0cba0ad4-897a-443b-8efe-b918456e646d",
   "metadata": {},
   "outputs": [
    {
     "data": {
      "application/vnd.plotly.v1+json": {
       "config": {
        "plotlyServerURL": "https://plot.ly"
       },
       "data": [
        {
         "customdata": [
          [
           "309_1"
          ],
          [
           "309_2"
          ],
          [
           "309_3"
          ],
          [
           "309_4"
          ],
          [
           "309_5"
          ],
          [
           "309_6"
          ],
          [
           "309_7"
          ],
          [
           "309_8"
          ],
          [
           "309_9"
          ],
          [
           "309_10"
          ],
          [
           "309_11"
          ],
          [
           "309_12"
          ],
          [
           null
          ],
          [
           "309_14"
          ],
          [
           "309_15"
          ],
          [
           "311_1"
          ],
          [
           "311_2"
          ],
          [
           "311_3"
          ],
          [
           "311_4"
          ],
          [
           "311_5"
          ],
          [
           "311_6"
          ],
          [
           null
          ],
          [
           "311_8"
          ],
          [
           "311_9"
          ],
          [
           "311_10"
          ],
          [
           "311_11"
          ],
          [
           "311_12"
          ],
          [
           "311_13"
          ],
          [
           "311_14"
          ],
          [
           null
          ],
          [
           "320_1"
          ],
          [
           "320_2"
          ],
          [
           "320_3"
          ],
          [
           null
          ],
          [
           "320_5"
          ],
          [
           null
          ],
          [
           "320_7"
          ],
          [
           "320_8"
          ],
          [
           "320_9"
          ],
          [
           null
          ],
          [
           "320_11"
          ],
          [
           "320_12"
          ],
          [
           "320_13"
          ],
          [
           "320_14"
          ],
          [
           null
          ],
          [
           "321_1"
          ],
          [
           "321_2"
          ],
          [
           null
          ],
          [
           "321_4"
          ],
          [
           "321_5"
          ],
          [
           "321_6"
          ],
          [
           "321_7"
          ],
          [
           "321_8"
          ],
          [
           "321_9"
          ],
          [
           "321_10"
          ],
          [
           "321_11"
          ],
          [
           "321_12"
          ],
          [
           "321_13"
          ],
          [
           "321_14"
          ],
          [
           "321_15"
          ],
          [
           "322_1"
          ],
          [
           "322_2"
          ],
          [
           "322_3"
          ],
          [
           "322_4"
          ],
          [
           "322_5"
          ],
          [
           "322_6"
          ],
          [
           "322_7"
          ],
          [
           "322_8"
          ],
          [
           "322_9"
          ],
          [
           "322_10"
          ],
          [
           "322_11"
          ],
          [
           "322_12"
          ],
          [
           "322_13"
          ],
          [
           "322_14"
          ],
          [
           "322_15"
          ],
          [
           "3415_1"
          ],
          [
           "3415_2"
          ],
          [
           "3415_3"
          ],
          [
           "3415_4"
          ],
          [
           "3415_5"
          ],
          [
           "3415_6"
          ],
          [
           "3415_7"
          ],
          [
           "3415_8"
          ],
          [
           "3415_9"
          ],
          [
           "3415_10"
          ],
          [
           "3415_11"
          ],
          [
           "3415_12"
          ],
          [
           "3415_13"
          ],
          [
           "3415_14"
          ],
          [
           "3415_15"
          ],
          [
           "3499_1"
          ],
          [
           "3499_2"
          ],
          [
           null
          ],
          [
           "3499_4"
          ],
          [
           "3499_5"
          ],
          [
           "3499_6"
          ],
          [
           "3499_7"
          ],
          [
           "3499_8"
          ],
          [
           "3499_9"
          ],
          [
           "3499_10"
          ],
          [
           null
          ],
          [
           "3499_12"
          ],
          [
           "3499_13"
          ],
          [
           "3499_14"
          ],
          [
           "3499_15"
          ],
          [
           "3507_1"
          ],
          [
           "3507_2"
          ],
          [
           null
          ],
          [
           "3507_4"
          ],
          [
           "3507_5"
          ],
          [
           "3507_6"
          ],
          [
           "3507_7"
          ],
          [
           "3507_8"
          ],
          [
           "3507_9"
          ],
          [
           "3507_10"
          ],
          [
           "3507_11"
          ],
          [
           "3507_12"
          ],
          [
           "3507_13"
          ],
          [
           "3507_14"
          ],
          [
           "3507_15"
          ],
          [
           "3520_1"
          ],
          [
           "3520_2"
          ],
          [
           "3520_3"
          ],
          [
           "3520_4"
          ],
          [
           "3520_5"
          ],
          [
           "3520_6"
          ],
          [
           "3520_7"
          ],
          [
           "3520_8"
          ],
          [
           "3520_9"
          ],
          [
           "3520_10"
          ],
          [
           "3520_11"
          ],
          [
           null
          ],
          [
           "3520_13"
          ],
          [
           "3520_14"
          ],
          [
           "3520_15"
          ],
          [
           "3521_1"
          ],
          [
           "3521_2"
          ],
          [
           "3521_3"
          ],
          [
           "3521_4"
          ],
          [
           "3521_5"
          ],
          [
           "3521_6"
          ],
          [
           "3521_7"
          ],
          [
           "3521_8"
          ],
          [
           "3521_9"
          ],
          [
           "3521_10"
          ],
          [
           "3521_11"
          ],
          [
           "3521_12"
          ],
          [
           "3521_13"
          ],
          [
           "3521_14"
          ],
          [
           "3521_15"
          ],
          [
           "294_1"
          ],
          [
           "294_2"
          ],
          [
           "294_3"
          ],
          [
           "294_4"
          ],
          [
           "294_5"
          ],
          [
           "294_6"
          ],
          [
           "294_7"
          ],
          [
           "294_8"
          ],
          [
           "294_9"
          ],
          [
           "294_10"
          ],
          [
           "294_11"
          ],
          [
           "294_12"
          ],
          [
           "294_13"
          ],
          [
           "294_14"
          ],
          [
           "294_15"
          ],
          [
           "3412_1"
          ],
          [
           "3412_2"
          ],
          [
           "3412_3"
          ],
          [
           "3412_4"
          ],
          [
           null
          ],
          [
           "3412_6"
          ],
          [
           "3412_7"
          ],
          [
           "3412_8"
          ],
          [
           "3412_9"
          ],
          [
           "3412_10"
          ],
          [
           null
          ],
          [
           "3412_12"
          ],
          [
           "3412_13"
          ],
          [
           "3412_14"
          ],
          [
           "3412_15"
          ],
          [
           null
          ],
          [
           "3413_2"
          ],
          [
           "3413_3"
          ],
          [
           null
          ],
          [
           "3413_5"
          ],
          [
           "3413_6"
          ],
          [
           "3413_7"
          ],
          [
           "3413_8"
          ],
          [
           "3413_9"
          ],
          [
           "3413_10"
          ],
          [
           null
          ],
          [
           "3413_12"
          ],
          [
           "3413_13"
          ],
          [
           "3413_14"
          ],
          [
           "3413_15"
          ],
          [
           "3419_1"
          ],
          [
           "3419_2"
          ],
          [
           null
          ],
          [
           "3419_4"
          ],
          [
           "3419_5"
          ],
          [
           "3419_6"
          ],
          [
           null
          ],
          [
           "3419_8"
          ],
          [
           null
          ],
          [
           "3419_10"
          ],
          [
           "3419_11"
          ],
          [
           "3419_12"
          ],
          [
           "3419_13"
          ],
          [
           "3419_14"
          ],
          [
           "3419_15"
          ],
          [
           "3420_1"
          ],
          [
           null
          ],
          [
           "3420_3"
          ],
          [
           "3420_4"
          ],
          [
           "3420_5"
          ],
          [
           null
          ],
          [
           "3420_7"
          ],
          [
           "3420_8"
          ],
          [
           "3420_9"
          ],
          [
           "3420_10"
          ],
          [
           "3420_11"
          ],
          [
           "3420_12"
          ],
          [
           "3420_13"
          ],
          [
           "3420_14"
          ],
          [
           "3420_15"
          ],
          [
           "3500_1"
          ],
          [
           "3500_2"
          ],
          [
           "3500_3"
          ],
          [
           "3500_4"
          ],
          [
           "3500_5"
          ],
          [
           "3500_6"
          ],
          [
           "3500_7"
          ],
          [
           "3500_8"
          ],
          [
           "3500_9"
          ],
          [
           "3500_10"
          ],
          [
           "3500_11"
          ],
          [
           "3500_12"
          ],
          [
           "3500_13"
          ],
          [
           "3500_14"
          ],
          [
           "3500_15"
          ],
          [
           "3503_1"
          ],
          [
           "3503_2"
          ],
          [
           "3503_3"
          ],
          [
           "3503_4"
          ],
          [
           "3503_5"
          ],
          [
           "3503_6"
          ],
          [
           "3503_7"
          ],
          [
           "3503_8"
          ],
          [
           "3503_9"
          ],
          [
           "3503_10"
          ],
          [
           null
          ],
          [
           "3503_12"
          ],
          [
           "3503_13"
          ],
          [
           "3503_14"
          ],
          [
           "3503_15"
          ],
          [
           "362_1"
          ],
          [
           "362_2"
          ],
          [
           null
          ],
          [
           "362_4"
          ],
          [
           "362_5"
          ],
          [
           null
          ],
          [
           "362_7"
          ],
          [
           "362_8"
          ],
          [
           "362_9"
          ],
          [
           "362_10"
          ],
          [
           "362_11"
          ],
          [
           "362_12"
          ],
          [
           "362_13"
          ],
          [
           "362_14"
          ],
          [
           "362_15"
          ],
          [
           "364_1"
          ],
          [
           "364_2"
          ],
          [
           "364_3"
          ],
          [
           "364_4"
          ],
          [
           "364_5"
          ],
          [
           "364_6"
          ],
          [
           null
          ],
          [
           "364_8"
          ],
          [
           "364_9"
          ],
          [
           null
          ],
          [
           "364_11"
          ],
          [
           "364_12"
          ],
          [
           null
          ],
          [
           "364_14"
          ],
          [
           "364_15"
          ],
          [
           "365_1"
          ],
          [
           "365_2"
          ],
          [
           "365_3"
          ],
          [
           "365_4"
          ],
          [
           "365_5"
          ],
          [
           null
          ],
          [
           "365_7"
          ],
          [
           "365_8"
          ],
          [
           "365_9"
          ],
          [
           "365_10"
          ],
          [
           "365_11"
          ],
          [
           "365_12"
          ],
          [
           "365_13"
          ],
          [
           "365_14"
          ],
          [
           "365_15"
          ],
          [
           "3477_1"
          ],
          [
           "3477_2"
          ],
          [
           "3477_3"
          ],
          [
           "3477_4"
          ],
          [
           "3477_5"
          ],
          [
           "3477_6"
          ],
          [
           "3477_7"
          ],
          [
           "3477_8"
          ],
          [
           "3477_9"
          ],
          [
           null
          ],
          [
           "3477_11"
          ],
          [
           "3477_12"
          ],
          [
           null
          ],
          [
           "3477_14"
          ],
          [
           "3477_15"
          ],
          [
           "3478_1"
          ],
          [
           "3478_2"
          ],
          [
           "3478_3"
          ],
          [
           "3478_4"
          ],
          [
           "3478_5"
          ],
          [
           "3478_6"
          ],
          [
           "3478_7"
          ],
          [
           "3478_8"
          ],
          [
           "3478_9"
          ],
          [
           "3478_10"
          ],
          [
           "3478_11"
          ],
          [
           "3478_12"
          ],
          [
           "3478_13"
          ],
          [
           "3478_14"
          ],
          [
           "3478_15"
          ],
          [
           "3479_1"
          ],
          [
           "3479_2"
          ],
          [
           "3479_3"
          ],
          [
           "3479_4"
          ],
          [
           "3479_5"
          ],
          [
           "3479_6"
          ],
          [
           "3479_7"
          ],
          [
           "3479_8"
          ],
          [
           "3479_9"
          ],
          [
           "3479_10"
          ],
          [
           "3479_11"
          ],
          [
           "3479_12"
          ],
          [
           "3479_13"
          ],
          [
           "3479_14"
          ],
          [
           "3479_15"
          ],
          [
           null
          ],
          [
           "3480_2"
          ],
          [
           "3480_3"
          ],
          [
           "3480_4"
          ],
          [
           null
          ],
          [
           "3480_6"
          ],
          [
           "3480_7"
          ],
          [
           "3480_8"
          ],
          [
           "3480_9"
          ],
          [
           "3480_10"
          ],
          [
           "3480_11"
          ],
          [
           null
          ],
          [
           "3480_13"
          ],
          [
           "3480_14"
          ],
          [
           "3480_15"
          ],
          [
           "3484_1"
          ],
          [
           "3484_2"
          ],
          [
           "3484_3"
          ],
          [
           "3484_4"
          ],
          [
           "3484_5"
          ],
          [
           "3484_6"
          ],
          [
           null
          ],
          [
           "3484_8"
          ],
          [
           "3484_9"
          ],
          [
           "3484_10"
          ],
          [
           "3484_11"
          ],
          [
           "3484_12"
          ],
          [
           "3484_13"
          ],
          [
           null
          ],
          [
           "3484_15"
          ],
          [
           "3497_1"
          ],
          [
           "3497_2"
          ],
          [
           "3497_3"
          ],
          [
           "3497_4"
          ],
          [
           "3497_5"
          ],
          [
           "3497_6"
          ],
          [
           "3497_7"
          ],
          [
           "3497_8"
          ],
          [
           "3497_9"
          ],
          [
           "3497_10"
          ],
          [
           "3497_11"
          ],
          [
           "3497_12"
          ],
          [
           "3497_13"
          ],
          [
           "3497_14"
          ],
          [
           "3497_15"
          ],
          [
           "50810A_1"
          ],
          [
           null
          ],
          [
           "50810A_3"
          ],
          [
           null
          ],
          [
           "50810A_5"
          ],
          [
           "50810A_6"
          ],
          [
           "50810A_7"
          ],
          [
           "50810A_8"
          ],
          [
           "50810A_9"
          ],
          [
           "50810A_10"
          ],
          [
           null
          ],
          [
           "50810A_12"
          ],
          [
           null
          ],
          [
           "50810A_14"
          ],
          [
           "50810A_15"
          ],
          [
           "50810D_1"
          ],
          [
           "50810D_2"
          ],
          [
           "50810D_3"
          ],
          [
           "50810D_4"
          ],
          [
           "50810D_5"
          ],
          [
           "50810D_6"
          ],
          [
           "50810D_7"
          ],
          [
           "50810D_8"
          ],
          [
           null
          ],
          [
           "50810D_10"
          ],
          [
           "50810D_11"
          ],
          [
           "50810D_12"
          ],
          [
           "50810D_13"
          ],
          [
           "50810D_14"
          ],
          [
           "50810D_15"
          ],
          [
           "50810F_1"
          ],
          [
           "50810F_2"
          ],
          [
           "50810F_3"
          ],
          [
           "50810F_4"
          ],
          [
           "50810F_5"
          ],
          [
           "50810F_6"
          ],
          [
           "50810F_7"
          ],
          [
           "50810F_8"
          ],
          [
           "50810F_9"
          ],
          [
           "50810F_10"
          ],
          [
           "50810F_11"
          ],
          [
           "50810F_12"
          ],
          [
           "50810F_13"
          ],
          [
           "50810F_14"
          ],
          [
           null
          ],
          [
           "3422_1"
          ],
          [
           "3422_2"
          ],
          [
           "3422_3"
          ],
          [
           "3422_4"
          ],
          [
           "3422_5"
          ],
          [
           "3422_6"
          ],
          [
           "3422_7"
          ],
          [
           "3422_8"
          ],
          [
           "3422_9"
          ],
          [
           "3422_10"
          ],
          [
           "3422_11"
          ],
          [
           "3422_12"
          ],
          [
           "3422_13"
          ],
          [
           "3422_14"
          ],
          [
           "3422_15"
          ],
          [
           "3423_1"
          ],
          [
           "3423_2"
          ],
          [
           "3423_3"
          ],
          [
           "3423_4"
          ],
          [
           "3423_5"
          ],
          [
           "3423_6"
          ],
          [
           null
          ],
          [
           "3423_8"
          ],
          [
           "3423_9"
          ],
          [
           "3423_10"
          ],
          [
           null
          ],
          [
           "3423_12"
          ],
          [
           "3423_13"
          ],
          [
           "3423_14"
          ],
          [
           "3423_15"
          ],
          [
           "3424_1"
          ],
          [
           "3424_2"
          ],
          [
           "3424_3"
          ],
          [
           "3424_4"
          ],
          [
           "3424_5"
          ],
          [
           "3424_6"
          ],
          [
           "3424_7"
          ],
          [
           "3424_8"
          ],
          [
           "3424_9"
          ],
          [
           null
          ],
          [
           "3424_11"
          ],
          [
           "3424_12"
          ],
          [
           "3424_13"
          ],
          [
           "3424_14"
          ],
          [
           "3424_15"
          ],
          [
           "3481_1"
          ],
          [
           null
          ],
          [
           "3481_3"
          ],
          [
           "3481_4"
          ],
          [
           "3481_5"
          ],
          [
           "3481_6"
          ],
          [
           "3481_7"
          ],
          [
           "3481_8"
          ],
          [
           null
          ],
          [
           "3481_10"
          ],
          [
           "3481_11"
          ],
          [
           "3481_12"
          ],
          [
           "3481_13"
          ],
          [
           "3481_14"
          ],
          [
           null
          ],
          [
           null
          ],
          [
           "3488_2"
          ],
          [
           "3488_3"
          ],
          [
           "3488_4"
          ],
          [
           "3488_5"
          ],
          [
           "3488_6"
          ],
          [
           "3488_7"
          ],
          [
           null
          ],
          [
           "3488_9"
          ],
          [
           "3488_10"
          ],
          [
           "3488_11"
          ],
          [
           "3488_12"
          ],
          [
           "3488_13"
          ],
          [
           "3488_14"
          ],
          [
           "3488_15"
          ],
          [
           "3489_1"
          ],
          [
           "3489_2"
          ],
          [
           "3489_3"
          ],
          [
           "3489_4"
          ],
          [
           "3489_5"
          ],
          [
           "3489_6"
          ],
          [
           "3489_7"
          ],
          [
           "3489_8"
          ],
          [
           "3489_9"
          ],
          [
           "3489_10"
          ],
          [
           "3489_11"
          ],
          [
           "3489_12"
          ],
          [
           "3489_13"
          ],
          [
           "3489_14"
          ],
          [
           null
          ],
          [
           "3490_1"
          ],
          [
           "3490_2"
          ],
          [
           "3490_3"
          ],
          [
           "3490_4"
          ],
          [
           "3490_5"
          ],
          [
           "3490_6"
          ],
          [
           "3490_7"
          ],
          [
           "3490_8"
          ],
          [
           "3490_9"
          ],
          [
           "3490_10"
          ],
          [
           null
          ],
          [
           "3490_12"
          ],
          [
           null
          ],
          [
           "3490_14"
          ],
          [
           "3490_15"
          ],
          [
           "3516_1"
          ],
          [
           "3516_2"
          ],
          [
           "3516_3"
          ],
          [
           "3516_4"
          ],
          [
           "3516_5"
          ],
          [
           "3516_6"
          ],
          [
           "3516_7"
          ],
          [
           "3516_8"
          ],
          [
           "3516_9"
          ],
          [
           "3516_10"
          ],
          [
           null
          ],
          [
           "3516_12"
          ],
          [
           "3516_13"
          ],
          [
           "3516_14"
          ],
          [
           null
          ],
          [
           null
          ],
          [
           "J2292_2"
          ],
          [
           "J2292_3"
          ],
          [
           "J2292_4"
          ],
          [
           "J2292_5"
          ],
          [
           "J2292_6"
          ],
          [
           "J2292_7"
          ],
          [
           "J2292_8"
          ],
          [
           "J2292_9"
          ],
          [
           "J2292_10"
          ],
          [
           "J2292_11"
          ],
          [
           null
          ],
          [
           "J2292_13"
          ],
          [
           "J2292_14"
          ],
          [
           "J2292_15"
          ],
          [
           "3414_1"
          ],
          [
           "3414_2"
          ],
          [
           "3414_3"
          ],
          [
           "3414_4"
          ],
          [
           "3414_5"
          ],
          [
           "3414_6"
          ],
          [
           "3414_7"
          ],
          [
           "3414_8"
          ],
          [
           "3414_9"
          ],
          [
           null
          ],
          [
           "3414_11"
          ],
          [
           "3414_12"
          ],
          [
           "3414_13"
          ],
          [
           "3414_14"
          ],
          [
           "3414_15"
          ],
          [
           "3416_1"
          ],
          [
           "3416_2"
          ],
          [
           "3416_3"
          ],
          [
           "3416_4"
          ],
          [
           "3416_5"
          ],
          [
           "3416_6"
          ],
          [
           "3416_7"
          ],
          [
           "3416_8"
          ],
          [
           "3416_9"
          ],
          [
           "3416_10"
          ],
          [
           "3416_11"
          ],
          [
           "3416_12"
          ],
          [
           "3416_13"
          ],
          [
           "3416_14"
          ],
          [
           "3416_15"
          ],
          [
           "3417_1"
          ],
          [
           "3417_2"
          ],
          [
           "3417_3"
          ],
          [
           "3417_4"
          ],
          [
           null
          ],
          [
           "3417_6"
          ],
          [
           "3417_7"
          ],
          [
           "3417_8"
          ],
          [
           "3417_9"
          ],
          [
           "3417_10"
          ],
          [
           "3417_11"
          ],
          [
           "3417_12"
          ],
          [
           "3417_13"
          ],
          [
           "3417_14"
          ],
          [
           "3417_15"
          ],
          [
           "3429_1"
          ],
          [
           "3429_2"
          ],
          [
           "3429_3"
          ],
          [
           "3429_4"
          ],
          [
           "3429_5"
          ],
          [
           "3429_6"
          ],
          [
           "3429_7"
          ],
          [
           null
          ],
          [
           "3429_9"
          ],
          [
           "3429_10"
          ],
          [
           "3429_11"
          ],
          [
           "3429_12"
          ],
          [
           "3429_13"
          ],
          [
           "3429_14"
          ],
          [
           "3429_15"
          ],
          [
           "3504_1"
          ],
          [
           "3504_2"
          ],
          [
           "3504_3"
          ],
          [
           "3504_4"
          ],
          [
           "3504_5"
          ],
          [
           "3504_6"
          ],
          [
           null
          ],
          [
           "3504_8"
          ],
          [
           "3504_9"
          ],
          [
           "3504_10"
          ],
          [
           "3504_11"
          ],
          [
           "3504_12"
          ],
          [
           "3504_13"
          ],
          [
           "3504_14"
          ],
          [
           "3504_15"
          ],
          [
           "3505_1"
          ],
          [
           null
          ],
          [
           null
          ],
          [
           null
          ],
          [
           "3505_5"
          ],
          [
           "3505_6"
          ],
          [
           "3505_7"
          ],
          [
           "3505_8"
          ],
          [
           "3505_9"
          ],
          [
           null
          ],
          [
           "3505_11"
          ],
          [
           "3505_12"
          ],
          [
           "3505_13"
          ],
          [
           "3505_14"
          ],
          [
           "3505_15"
          ],
          [
           "3522_1"
          ],
          [
           null
          ],
          [
           "3522_3"
          ],
          [
           "3522_4"
          ],
          [
           "3522_5"
          ],
          [
           "3522_6"
          ],
          [
           "3522_7"
          ],
          [
           "3522_8"
          ],
          [
           "3522_9"
          ],
          [
           "3522_10"
          ],
          [
           "3522_11"
          ],
          [
           "3522_12"
          ],
          [
           "3522_13"
          ],
          [
           "3522_14"
          ],
          [
           "3522_15"
          ],
          [
           "361_1"
          ],
          [
           "361_2"
          ],
          [
           "361_3"
          ],
          [
           null
          ],
          [
           "361_5"
          ],
          [
           "361_6"
          ],
          [
           "361_7"
          ],
          [
           "361_8"
          ],
          [
           "361_9"
          ],
          [
           "361_10"
          ],
          [
           "361_11"
          ],
          [
           "361_12"
          ],
          [
           "361_13"
          ],
          [
           "361_14"
          ],
          [
           "361_15"
          ],
          [
           "363_1"
          ],
          [
           "363_2"
          ],
          [
           "363_3"
          ],
          [
           "363_4"
          ],
          [
           "363_5"
          ],
          [
           "363_6"
          ],
          [
           "363_7"
          ],
          [
           "363_8"
          ],
          [
           "363_9"
          ],
          [
           "363_10"
          ],
          [
           "363_11"
          ],
          [
           "363_12"
          ],
          [
           "363_13"
          ],
          [
           "363_14"
          ],
          [
           "363_15"
          ],
          [
           "293_1"
          ],
          [
           "293_2"
          ],
          [
           "293_3"
          ],
          [
           "293_4"
          ],
          [
           "293_5"
          ],
          [
           null
          ],
          [
           "293_7"
          ],
          [
           "293_8"
          ],
          [
           "293_9"
          ],
          [
           "293_10"
          ],
          [
           "293_11"
          ],
          [
           "293_12"
          ],
          [
           "293_13"
          ],
          [
           "293_14"
          ],
          [
           "293_15"
          ],
          [
           "3411_1"
          ],
          [
           null
          ],
          [
           "3411_3"
          ],
          [
           "3411_4"
          ],
          [
           "3411_5"
          ],
          [
           "3411_6"
          ],
          [
           null
          ],
          [
           "3411_8"
          ],
          [
           "3411_9"
          ],
          [
           "3411_10"
          ],
          [
           null
          ],
          [
           "3411_12"
          ],
          [
           "3411_13"
          ],
          [
           "3411_14"
          ],
          [
           "3411_15"
          ],
          [
           "3418_1"
          ],
          [
           "3418_2"
          ],
          [
           "3418_3"
          ],
          [
           null
          ],
          [
           "3418_5"
          ],
          [
           "3418_6"
          ],
          [
           null
          ],
          [
           "3418_8"
          ],
          [
           "3418_9"
          ],
          [
           "3418_10"
          ],
          [
           null
          ],
          [
           "3418_12"
          ],
          [
           "3418_13"
          ],
          [
           "3418_14"
          ],
          [
           "3418_15"
          ],
          [
           "3501_1"
          ],
          [
           "3501_2"
          ],
          [
           "3501_3"
          ],
          [
           "3501_4"
          ],
          [
           "3501_5"
          ],
          [
           "3501_6"
          ],
          [
           "3501_7"
          ],
          [
           "3501_8"
          ],
          [
           "3501_9"
          ],
          [
           null
          ],
          [
           "3501_11"
          ],
          [
           "3501_12"
          ],
          [
           null
          ],
          [
           null
          ],
          [
           null
          ],
          [
           "3502_1"
          ],
          [
           "3502_2"
          ],
          [
           "3502_3"
          ],
          [
           "3502_4"
          ],
          [
           "3502_5"
          ],
          [
           "3502_6"
          ],
          [
           "3502_7"
          ],
          [
           null
          ],
          [
           "3502_9"
          ],
          [
           "3502_10"
          ],
          [
           "3502_11"
          ],
          [
           "3502_12"
          ],
          [
           "3502_13"
          ],
          [
           "3502_14"
          ],
          [
           "3502_15"
          ],
          [
           "3530_1"
          ],
          [
           "3530_2"
          ],
          [
           "3530_3"
          ],
          [
           "3530_4"
          ],
          [
           null
          ],
          [
           "3530_6"
          ],
          [
           "3530_7"
          ],
          [
           null
          ],
          [
           "3530_9"
          ],
          [
           "3530_10"
          ],
          [
           "3530_11"
          ],
          [
           "3530_12"
          ],
          [
           "3530_13"
          ],
          [
           "3530_14"
          ],
          [
           "3530_15"
          ],
          [
           "3534_1"
          ],
          [
           "3534_2"
          ],
          [
           null
          ],
          [
           "3534_4"
          ],
          [
           "3534_5"
          ],
          [
           "3534_6"
          ],
          [
           "3534_7"
          ],
          [
           "3534_8"
          ],
          [
           null
          ],
          [
           "3534_10"
          ],
          [
           "3534_11"
          ],
          [
           "3534_12"
          ],
          [
           "3534_13"
          ],
          [
           "3534_14"
          ],
          [
           "3534_15"
          ],
          [
           "3605_1"
          ],
          [
           null
          ],
          [
           "3605_3"
          ],
          [
           "3605_4"
          ],
          [
           "3605_5"
          ],
          [
           "3605_6"
          ],
          [
           null
          ],
          [
           "3605_8"
          ],
          [
           "3605_9"
          ],
          [
           "3605_10"
          ],
          [
           "3605_11"
          ],
          [
           "3605_12"
          ],
          [
           "3605_13"
          ],
          [
           null
          ],
          [
           "3605_15"
          ],
          [
           "3606_1"
          ],
          [
           "3606_2"
          ],
          [
           null
          ],
          [
           "3606_4"
          ],
          [
           "3606_5"
          ],
          [
           "3606_6"
          ],
          [
           "3606_7"
          ],
          [
           null
          ],
          [
           "3606_9"
          ],
          [
           "3606_10"
          ],
          [
           null
          ],
          [
           "3606_12"
          ],
          [
           "3606_13"
          ],
          [
           "3606_14"
          ],
          [
           "3606_15"
          ],
          [
           "18899_1"
          ],
          [
           "18899_2"
          ],
          [
           "18899_3"
          ],
          [
           "18899_4"
          ],
          [
           null
          ],
          [
           "18899_6"
          ],
          [
           "18899_7"
          ],
          [
           null
          ],
          [
           "18899_9"
          ],
          [
           "18899_10"
          ],
          [
           "18899_11"
          ],
          [
           "18899_12"
          ],
          [
           "18899_13"
          ],
          [
           "18899_14"
          ],
          [
           "18899_15"
          ],
          [
           "3476_1"
          ],
          [
           "3476_2"
          ],
          [
           "3476_3"
          ],
          [
           "3476_4"
          ],
          [
           "3476_5"
          ],
          [
           "3476_6"
          ],
          [
           "3476_7"
          ],
          [
           "3476_8"
          ],
          [
           "3476_9"
          ],
          [
           "3476_10"
          ],
          [
           "3476_11"
          ],
          [
           "3476_12"
          ],
          [
           "3476_13"
          ],
          [
           "3476_14"
          ],
          [
           "3476_15"
          ],
          [
           "3483_1"
          ],
          [
           "3483_2"
          ],
          [
           "3483_3"
          ],
          [
           "3483_4"
          ],
          [
           "3483_5"
          ],
          [
           "3483_6"
          ],
          [
           "3483_7"
          ],
          [
           "3483_8"
          ],
          [
           "3483_9"
          ],
          [
           "3483_10"
          ],
          [
           "3483_11"
          ],
          [
           "3483_12"
          ],
          [
           "3483_13"
          ],
          [
           "3483_14"
          ],
          [
           "3483_15"
          ],
          [
           "3498_1"
          ],
          [
           "3498_2"
          ],
          [
           "3498_3"
          ],
          [
           "3498_4"
          ],
          [
           "3498_5"
          ],
          [
           "3498_6"
          ],
          [
           "3498_7"
          ],
          [
           "3498_8"
          ],
          [
           "3498_9"
          ],
          [
           "3498_10"
          ],
          [
           "3498_11"
          ],
          [
           "3498_12"
          ],
          [
           "3498_13"
          ],
          [
           "3498_14"
          ],
          [
           "3498_15"
          ],
          [
           "50810B_1"
          ],
          [
           "50810B_2"
          ],
          [
           "50810B_3"
          ],
          [
           "50810B_4"
          ],
          [
           null
          ],
          [
           "50810B_6"
          ],
          [
           "50810B_7"
          ],
          [
           "50810B_8"
          ],
          [
           null
          ],
          [
           "50810B_10"
          ],
          [
           "50810B_11"
          ],
          [
           null
          ],
          [
           "50810B_13"
          ],
          [
           "50810B_14"
          ],
          [
           "50810B_15"
          ],
          [
           "50810C_1"
          ],
          [
           "50810C_2"
          ],
          [
           "50810C_3"
          ],
          [
           "50810C_4"
          ],
          [
           null
          ],
          [
           "50810C_6"
          ],
          [
           "50810C_7"
          ],
          [
           "50810C_8"
          ],
          [
           null
          ],
          [
           "50810C_10"
          ],
          [
           "50810C_11"
          ],
          [
           "50810C_12"
          ],
          [
           "50810C_13"
          ],
          [
           "50810C_14"
          ],
          [
           "50810C_15"
          ],
          [
           "50810E_1"
          ],
          [
           null
          ],
          [
           "50810E_3"
          ],
          [
           "50810E_4"
          ],
          [
           "50810E_5"
          ],
          [
           "50810E_6"
          ],
          [
           "50810E_7"
          ],
          [
           "50810E_8"
          ],
          [
           "50810E_9"
          ],
          [
           "50810E_10"
          ],
          [
           null
          ],
          [
           "50810E_12"
          ],
          [
           "50810E_13"
          ],
          [
           "50810E_14"
          ],
          [
           null
          ],
          [
           "3421_1"
          ],
          [
           "3421_2"
          ],
          [
           "3421_3"
          ],
          [
           "3421_4"
          ],
          [
           null
          ],
          [
           "3421_6"
          ],
          [
           "3421_7"
          ],
          [
           "3421_8"
          ],
          [
           "3421_9"
          ],
          [
           "3421_10"
          ],
          [
           "3421_11"
          ],
          [
           "3421_12"
          ],
          [
           "3421_13"
          ],
          [
           "3421_14"
          ],
          [
           "3421_15"
          ],
          [
           "3425_1"
          ],
          [
           "3425_2"
          ],
          [
           "3425_3"
          ],
          [
           "3425_4"
          ],
          [
           "3425_5"
          ],
          [
           "3425_6"
          ],
          [
           "3425_7"
          ],
          [
           "3425_8"
          ],
          [
           "3425_9"
          ],
          [
           "3425_10"
          ],
          [
           "3425_11"
          ],
          [
           "3425_12"
          ]
         ],
         "hovertemplate": "0=%{x}<br>1=%{y}<br>Feature=%{customdata[0]}<br>Anomaly=%{marker.color}<extra></extra>",
         "legendgroup": "",
         "marker": {
          "color": [
           0,
           0,
           0,
           0,
           0,
           0,
           0,
           0,
           0,
           0,
           0,
           0,
           0,
           0,
           0,
           0,
           0,
           0,
           0,
           0,
           0,
           0,
           0,
           0,
           0,
           0,
           0,
           0,
           0,
           0,
           0,
           0,
           0,
           0,
           0,
           0,
           0,
           1,
           0,
           0,
           0,
           0,
           0,
           0,
           0,
           0,
           1,
           0,
           0,
           1,
           0,
           0,
           0,
           0,
           0,
           0,
           0,
           0,
           0,
           0,
           0,
           0,
           0,
           0,
           0,
           1,
           0,
           0,
           0,
           0,
           0,
           0,
           0,
           0,
           0,
           0,
           0,
           0,
           0,
           0,
           1,
           0,
           0,
           0,
           0,
           0,
           0,
           0,
           0,
           0,
           0,
           0,
           0,
           0,
           0,
           0,
           0,
           0,
           0,
           0,
           0,
           0,
           0,
           0,
           1,
           0,
           0,
           0,
           0,
           0,
           0,
           0,
           0,
           0,
           0,
           0,
           0,
           0,
           0,
           0,
           0,
           0,
           0,
           0,
           0,
           0,
           0,
           0,
           0,
           0,
           0,
           0,
           0,
           0,
           0,
           0,
           0,
           0,
           0,
           0,
           0,
           0,
           0,
           1,
           0,
           0,
           0,
           0,
           0,
           0,
           0,
           0,
           0,
           0,
           0,
           0,
           0,
           0,
           0,
           0,
           0,
           0,
           0,
           0,
           0,
           0,
           0,
           0,
           0,
           0,
           0,
           0,
           0,
           0,
           0,
           0,
           0,
           0,
           0,
           0,
           0,
           0,
           1,
           0,
           0,
           0,
           0,
           0,
           0,
           0,
           0,
           0,
           0,
           0,
           0,
           1,
           0,
           0,
           1,
           0,
           0,
           0,
           0,
           0,
           0,
           0,
           0,
           0,
           0,
           1,
           0,
           0,
           0,
           0,
           1,
           0,
           0,
           0,
           0,
           0,
           0,
           0,
           0,
           0,
           0,
           0,
           0,
           0,
           1,
           0,
           0,
           0,
           0,
           0,
           0,
           0,
           0,
           0,
           0,
           0,
           0,
           0,
           1,
           0,
           0,
           0,
           0,
           0,
           0,
           0,
           0,
           0,
           0,
           0,
           0,
           0,
           1,
           0,
           0,
           0,
           0,
           0,
           0,
           0,
           0,
           0,
           0,
           0,
           0,
           0,
           0,
           0,
           0,
           0,
           0,
           1,
           0,
           0,
           0,
           0,
           0,
           0,
           0,
           0,
           0,
           0,
           0,
           0,
           0,
           0,
           0,
           0,
           0,
           0,
           0,
           0,
           0,
           0,
           0,
           0,
           0,
           0,
           0,
           0,
           0,
           0,
           0,
           0,
           1,
           0,
           0,
           0,
           0,
           0,
           0,
           0,
           0,
           0,
           0,
           0,
           0,
           1,
           0,
           0,
           0,
           0,
           0,
           0,
           0,
           0,
           0,
           0,
           0,
           0,
           0,
           0,
           0,
           0,
           0,
           0,
           0,
           0,
           0,
           0,
           0,
           0,
           1,
           0,
           0,
           0,
           0,
           0,
           0,
           0,
           0,
           0,
           0,
           0,
           0,
           1,
           0,
           0,
           0,
           0,
           0,
           0,
           0,
           0,
           0,
           0,
           0,
           0,
           0,
           0,
           0,
           0,
           0,
           0,
           0,
           0,
           0,
           0,
           0,
           0,
           1,
           0,
           0,
           0,
           1,
           1,
           0,
           0,
           1,
           0,
           0,
           0,
           0,
           0,
           0,
           0,
           0,
           0,
           0,
           0,
           0,
           0,
           0,
           0,
           0,
           0,
           0,
           0,
           0,
           0,
           0,
           0,
           0,
           0,
           0,
           0,
           0,
           0,
           0,
           0,
           0,
           0,
           0,
           0,
           0,
           0,
           0,
           1,
           0,
           0,
           0,
           0,
           0,
           0,
           0,
           0,
           0,
           0,
           0,
           0,
           0,
           0,
           0,
           0,
           1,
           0,
           0,
           0,
           0,
           0,
           0,
           0,
           0,
           1,
           0,
           0,
           1,
           0,
           0,
           0,
           0,
           0,
           0,
           0,
           0,
           0,
           0,
           0,
           0,
           0,
           0,
           0,
           0,
           0,
           0,
           0,
           0,
           0,
           0,
           0,
           0,
           0,
           0,
           0,
           0,
           0,
           0,
           0,
           0,
           0,
           0,
           0,
           0,
           0,
           0,
           0,
           0,
           0,
           0,
           0,
           0,
           0,
           1,
           1,
           0,
           1,
           0,
           0,
           0,
           0,
           0,
           0,
           0,
           0,
           0,
           0,
           0,
           1,
           0,
           0,
           0,
           0,
           1,
           0,
           1,
           0,
           0,
           0,
           0,
           0,
           0,
           0,
           0,
           0,
           0,
           0,
           0,
           0,
           0,
           0,
           0,
           0,
           0,
           0,
           0,
           0,
           0,
           0,
           0,
           0,
           0,
           0,
           0,
           0,
           0,
           0,
           0,
           0,
           0,
           0,
           0,
           0,
           0,
           0,
           0,
           0,
           0,
           0,
           0,
           0,
           0,
           0,
           0,
           0,
           0,
           0,
           0,
           0,
           0,
           0,
           0,
           0,
           0,
           0,
           0,
           0,
           0,
           0,
           1,
           0,
           0,
           0,
           0,
           0,
           0,
           1,
           1,
           1,
           0,
           0,
           0,
           0,
           0,
           0,
           0,
           0,
           0,
           0,
           0,
           0,
           1,
           0,
           1,
           0,
           0,
           0,
           0,
           0,
           0,
           0,
           0,
           0,
           0,
           1,
           0,
           0,
           0,
           0,
           0,
           0,
           0,
           0,
           0,
           0,
           0,
           0,
           0,
           0,
           0,
           0,
           0,
           0,
           0,
           0,
           0,
           0,
           0,
           0,
           0,
           0,
           0,
           0,
           0,
           0,
           0,
           0,
           1,
           0,
           0,
           0,
           0,
           0,
           0,
           0,
           0,
           0,
           0,
           0,
           0,
           0,
           0,
           0,
           0,
           0,
           0,
           0,
           0,
           0,
           0,
           1,
           0,
           0,
           0,
           0,
           0,
           0,
           0,
           0,
           0,
           0,
           0,
           0,
           0,
           0,
           0,
           0,
           0,
           0,
           0,
           0,
           0,
           0,
           0,
           0,
           0,
           0,
           0,
           0,
           0,
           0,
           0,
           0,
           0,
           0,
           0,
           0,
           0,
           0,
           0,
           0,
           0,
           0,
           0,
           0,
           0,
           0,
           0,
           0,
           0,
           0,
           0,
           0,
           0,
           0,
           0,
           0,
           0,
           0,
           0,
           0,
           0,
           0,
           0,
           0,
           0,
           0,
           0,
           0,
           0,
           0,
           0,
           0,
           0,
           0,
           0,
           0,
           0,
           0,
           0,
           0,
           0,
           0,
           0,
           0,
           1,
           0,
           0,
           0,
           0,
           0,
           1,
           0,
           0,
           0,
           0,
           0,
           0,
           0,
           0,
           0,
           1,
           0,
           0,
           0,
           0,
           0,
           0,
           0,
           0,
           0,
           0,
           0,
           0,
           0,
           0,
           0,
           0,
           0,
           0,
           0,
           0,
           0,
           0,
           0,
           0,
           0,
           1,
           0,
           0,
           0,
           0,
           0,
           0,
           0,
           0,
           0,
           0,
           0,
           1,
           0,
           0,
           0,
           0,
           0,
           0,
           0,
           0,
           0,
           0,
           0,
           0,
           0,
           0,
           0,
           0,
           0,
           0,
           0,
           0,
           0,
           0,
           0,
           0,
           1,
           0,
           0,
           0,
           0,
           0,
           0,
           0,
           0,
           0,
           0,
           0,
           0,
           0,
           0,
           0,
           0,
           0,
           0,
           0,
           0,
           0,
           0,
           0,
           0,
           0,
           0,
           0,
           0,
           0,
           0,
           0,
           0,
           0,
           0,
           0,
           0,
           0,
           0,
           0,
           0,
           0,
           0,
           0,
           0,
           0,
           0,
           0,
           0,
           0,
           0,
           0,
           0,
           0,
           0,
           0,
           0,
           0,
           0,
           0,
           0,
           0,
           0,
           0,
           0,
           0,
           0,
           0,
           0,
           0,
           0,
           0,
           0,
           0,
           0,
           0,
           0,
           0,
           0,
           0,
           0,
           0,
           0,
           0,
           0,
           0,
           0,
           0,
           0,
           0,
           0,
           0,
           0,
           0,
           0,
           0,
           0,
           0,
           0,
           0,
           0,
           0,
           0,
           0,
           0,
           0,
           0,
           0,
           0,
           0,
           0,
           0,
           0,
           0,
           0,
           0,
           0,
           0,
           0,
           0,
           0,
           0,
           0,
           0,
           0
          ],
          "coloraxis": "coloraxis",
          "opacity": 0.7,
          "symbol": "circle"
         },
         "mode": "markers",
         "name": "",
         "orientation": "v",
         "showlegend": false,
         "type": "scatter",
         "x": [
          9.678352355957031,
          12.892694473266602,
          -2.564199686050415,
          1.9168670177459717,
          14.900156021118164,
          1.8604609966278076,
          5.168182849884033,
          11.79626178741455,
          14.189557075500488,
          13.183403015136719,
          -1.7668567895889282,
          11.580948829650879,
          0.909069836139679,
          -2.019275665283203,
          6.246392726898193,
          -1.2210551500320435,
          6.595610618591309,
          -3.489358901977539,
          -1.499648928642273,
          6.747481346130371,
          12.869084358215332,
          13.516867637634277,
          16.219825744628906,
          -1.8771297931671143,
          14.807576179504395,
          -2.156202793121338,
          13.120311737060547,
          1.0952866077423096,
          0.5357378721237183,
          12.057687759399414,
          -0.8194879293441772,
          7.033301830291748,
          0.5063556432723999,
          14.404744148254395,
          14.880193710327148,
          14.450838088989258,
          13.431232452392578,
          14.52115535736084,
          -3.6473333835601807,
          16.234804153442383,
          0.5220375061035156,
          14.890933990478516,
          2.1698129177093506,
          -3.1068408489227295,
          -5.342724800109863,
          12.07289981842041,
          -1.8855234384536743,
          1.5587315559387207,
          7.021921157836914,
          11.256180763244629,
          1.5520963668823242,
          14.656031608581543,
          13.217581748962402,
          14.048137664794922,
          -2.637728214263916,
          0.5447694659233093,
          7.0403923988342285,
          -2.0073189735412598,
          -2.970595121383667,
          12.765785217285156,
          -2.1914708614349365,
          -2.657572031021118,
          12.789051055908203,
          -3.850719690322876,
          -2.4681875705718994,
          -1.7431402206420898,
          6.864254951477051,
          14.537322044372559,
          -0.9287466406822205,
          0.6309632658958435,
          0.3637756407260895,
          -2.3663387298583984,
          12.89736270904541,
          -3.6228935718536377,
          13.048395156860352,
          -2.726271867752075,
          0.03000432252883911,
          -3.344639778137207,
          -0.1961309164762497,
          14.842670440673828,
          -2.122997760772705,
          6.7026047706604,
          2.188815116882324,
          16.237817764282227,
          -3.2882869243621826,
          0.13672441244125366,
          13.116455078125,
          9.548968315124512,
          -2.9750757217407227,
          14.659729957580566,
          6.906162261962891,
          0.31784865260124207,
          6.729248523712158,
          6.70841121673584,
          11.734855651855469,
          -5.086649417877197,
          -4.672702789306641,
          11.824458122253418,
          12.029062271118164,
          0.057659924030303955,
          -2.5461907386779785,
          14.894810676574707,
          -5.351484298706055,
          0.5559383034706116,
          -8.417207717895508,
          1.3193789720535278,
          11.94524097442627,
          9.946746826171875,
          1.4895979166030884,
          1.167607069015503,
          -4.205769062042236,
          -1.0342814922332764,
          2.2034058570861816,
          -0.8746302127838135,
          6.577182769775391,
          9.87297248840332,
          -0.20559947192668915,
          1.92490816116333,
          -1.988013505935669,
          14.539301872253418,
          -5.218296527862549,
          9.837491989135742,
          -2.509006977081299,
          13.45378303527832,
          6.085596561431885,
          12.017559051513672,
          5.171658515930176,
          13.260771751403809,
          2.587951183319092,
          -1.3912595510482788,
          -2.795801877975464,
          7.134728908538818,
          0.9482623934745789,
          0.24120506644248962,
          5.071691513061523,
          12.011367797851562,
          0.5110073685646057,
          14.464067459106445,
          9.797483444213867,
          -2.493640184402466,
          6.143643379211426,
          12.08508014678955,
          14.885637283325195,
          -2.4874889850616455,
          4.972546577453613,
          13.180373191833496,
          9.66929817199707,
          6.112040042877197,
          0.6058081984519958,
          1.71366548538208,
          14.449875831604004,
          -1.5546061992645264,
          -1.6380685567855835,
          -4.189150333404541,
          -0.2860203683376312,
          11.981934547424316,
          -3.566873073577881,
          14.3041353225708,
          9.596120834350586,
          12.704689025878906,
          1.0372463464736938,
          9.704644203186035,
          0.7350395321846008,
          0.9578275084495544,
          11.659235954284668,
          6.7540507316589355,
          -5.2603535652160645,
          14.237707138061523,
          13.076543807983398,
          -2.0877366065979004,
          -2.2943341732025146,
          -2.5302133560180664,
          14.311173439025879,
          12.844014167785645,
          1.375159740447998,
          -1.3856414556503296,
          14.185978889465332,
          1.8780580759048462,
          14.871747016906738,
          12.129663467407227,
          -1.3466476202011108,
          -2.8015096187591553,
          -8.400057792663574,
          1.4149870872497559,
          -4.884403228759766,
          0.6957660913467407,
          6.438879013061523,
          5.044135093688965,
          0.5795919299125671,
          -1.0178254842758179,
          14.864826202392578,
          -4.966473579406738,
          -0.5921034812927246,
          1.1658499240875244,
          -1.7701091766357422,
          7.084585189819336,
          1.5758837461471558,
          -3.525895833969116,
          14.746657371520996,
          1.8976534605026245,
          14.748251914978027,
          2.605024576187134,
          14.897115707397461,
          -0.3887346684932709,
          1.4972939491271973,
          6.3780927658081055,
          -0.6583760380744934,
          1.2241952419281006,
          6.7053141593933105,
          6.488192081451416,
          6.216645240783691,
          11.993855476379395,
          -1.3721591234207153,
          1.7392663955688477,
          -0.6849547028541565,
          13.808992385864258,
          6.593507766723633,
          2.237977981567383,
          -5.014841556549072,
          -3.5052740573883057,
          0.5134972929954529,
          14.848923683166504,
          11.962993621826172,
          -5.281801223754883,
          6.3508148193359375,
          -2.092933177947998,
          9.800134658813477,
          -0.036617569625377655,
          14.111039161682129,
          -2.796962022781372,
          11.644387245178223,
          -8.351188659667969,
          -3.7371997833251953,
          0.4581138491630554,
          0.8986964225769043,
          -2.0025253295898438,
          1.811470627784729,
          14.761589050292969,
          -3.830855131149292,
          16.2324275970459,
          0.4793071746826172,
          13.154056549072266,
          14.726631164550781,
          -2.4704861640930176,
          6.65457820892334,
          0.8122917413711548,
          -2.5842154026031494,
          -2.008744955062866,
          9.508368492126465,
          2.6123294830322266,
          6.056447982788086,
          9.78512954711914,
          9.700163841247559,
          2.459411382675171,
          12.80820083618164,
          13.706600189208984,
          0.41550856828689575,
          -0.1171356737613678,
          6.720636367797852,
          12.236907958984375,
          14.476889610290527,
          4.939685344696045,
          0.4328717887401581,
          12.090672492980957,
          1.5849947929382324,
          -3.75823712348938,
          11.231179237365723,
          -4.3524017333984375,
          0.0021522948518395424,
          0.05016213655471802,
          0.41418421268463135,
          14.6988525390625,
          1.0418858528137207,
          14.629422187805176,
          0.7522100210189819,
          0.49310433864593506,
          -5.193918228149414,
          14.904709815979004,
          -0.643357515335083,
          13.099930763244629,
          2.5987119674682617,
          0.6879026293754578,
          13.210468292236328,
          9.794575691223145,
          1.021338701248169,
          -1.7165586948394775,
          14.351604461669922,
          9.818038940429688,
          9.697107315063477,
          11.333565711975098,
          6.734068393707275,
          -5.12476110458374,
          12.751436233520508,
          -0.5565128326416016,
          -2.255019426345825,
          13.965258598327637,
          -3.3033254146575928,
          -1.5300078392028809,
          0.520803689956665,
          -2.161043405532837,
          1.185524582862854,
          -4.251982688903809,
          9.99683952331543,
          -2.446770668029785,
          0.7359739542007446,
          2.395859479904175,
          5.516661167144775,
          0.191033273935318,
          -8.40555477142334,
          12.052091598510742,
          6.708710670471191,
          13.313743591308594,
          13.044429779052734,
          12.574658393859863,
          9.981389999389648,
          -0.6306660175323486,
          12.890158653259277,
          0.5696166753768921,
          12.829797744750977,
          1.2223790884017944,
          5.497287750244141,
          0.47824573516845703,
          12.701131820678711,
          5.197231292724609,
          16.096094131469727,
          14.136675834655762,
          -2.0397379398345947,
          -0.8291208744049072,
          -2.898218870162964,
          14.802583694458008,
          -2.5273520946502686,
          5.32804536819458,
          -0.212199866771698,
          2.836223602294922,
          5.505307197570801,
          9.610922813415527,
          6.60218620300293,
          1.0464726686477661,
          0.9116926789283752,
          14.45815658569336,
          6.5608086585998535,
          13.776813507080078,
          -0.7696854472160339,
          13.030058860778809,
          13.66090202331543,
          -2.703977346420288,
          7.010054588317871,
          12.181614875793457,
          2.4900078773498535,
          14.188055992126465,
          0.45648953318595886,
          13.485845565795898,
          2.3453211784362793,
          12.717438697814941,
          -2.4153242111206055,
          13.350081443786621,
          -0.5865466594696045,
          0.5794240832328796,
          1.6047393083572388,
          7.144054889678955,
          -2.4941141605377197,
          6.412911415100098,
          1.3132070302963257,
          11.563986778259277,
          6.385015964508057,
          14.870057106018066,
          12.146537780761719,
          0.22415271401405334,
          0.5350695252418518,
          -2.229586124420166,
          13.037118911743164,
          16.180461883544922,
          14.397662162780762,
          -1.4058454036712646,
          12.10166072845459,
          0.8909730315208435,
          14.186140060424805,
          6.302643775939941,
          -1.963998794555664,
          1.7422149181365967,
          -2.2592098712921143,
          9.830921173095703,
          14.809178352355957,
          12.884623527526855,
          -2.3714864253997803,
          6.67636775970459,
          12.708066940307617,
          14.837350845336914,
          7.088805198669434,
          -8.409370422363281,
          -4.257569313049316,
          1.823365569114685,
          6.489978790283203,
          9.352272987365723,
          -2.267347574234009,
          -2.903205633163452,
          -2.7750189304351807,
          -2.544477701187134,
          10.181675910949707,
          -1.9343465566635132,
          5.261411190032959,
          13.371438980102539,
          6.132059097290039,
          1.5729520320892334,
          14.49581241607666,
          9.477524757385254,
          10.064366340637207,
          6.453307151794434,
          -4.711233615875244,
          -1.9170979261398315,
          -5.119132995605469,
          2.4224348068237305,
          6.780955791473389,
          6.562521457672119,
          11.995574951171875,
          12.749276161193848,
          1.6183418035507202,
          -1.8148866891860962,
          12.079658508300781,
          12.5524263381958,
          9.596675872802734,
          5.833775997161865,
          -2.7210159301757812,
          16.143712997436523,
          13.06625747680664,
          1.5694516897201538,
          -2.205312728881836,
          12.533950805664062,
          2.7495956420898438,
          -2.498335599899292,
          14.80721378326416,
          -8.379782676696777,
          13.64123249053955,
          1.5228960514068604,
          -1.0129462480545044,
          -3.2932934761047363,
          4.986016273498535,
          -4.784440517425537,
          14.275761604309082,
          0.3785988986492157,
          12.094669342041016,
          14.873449325561523,
          14.61009407043457,
          14.561120986938477,
          13.302684783935547,
          6.978984832763672,
          -2.1660523414611816,
          6.622965335845947,
          11.89087963104248,
          13.726136207580566,
          11.978469848632812,
          5.500855922698975,
          6.652298927307129,
          6.731258869171143,
          14.328634262084961,
          0.6822807192802429,
          -4.2746686935424805,
          11.270354270935059,
          12.775863647460938,
          14.486380577087402,
          0.4438549876213074,
          9.537880897521973,
          1.6456478834152222,
          13.889704704284668,
          2.164839267730713,
          1.2553322315216064,
          2.1545803546905518,
          0.6608555912971497,
          6.8710222244262695,
          5.6678338050842285,
          13.084656715393066,
          12.091629981994629,
          16.150850296020508,
          -2.3522584438323975,
          14.87043285369873,
          6.726096153259277,
          6.715043544769287,
          14.270929336547852,
          -2.9646201133728027,
          6.323330402374268,
          14.053717613220215,
          1.8918451070785522,
          13.601021766662598,
          -3.735588312149048,
          14.262989044189453,
          -5.18988037109375,
          12.906530380249023,
          11.261699676513672,
          14.412557601928711,
          14.426563262939453,
          4.931677341461182,
          -2.5161964893341064,
          14.608610153198242,
          -8.381895065307617,
          4.977077960968018,
          1.5995184183120728,
          10.060919761657715,
          1.91413152217865,
          1.8552664518356323,
          12.095169067382812,
          0.7413325905799866,
          0.4694836437702179,
          -3.8081541061401367,
          -0.6595094203948975,
          -4.649759292602539,
          11.299552917480469,
          14.54587459564209,
          -8.403287887573242,
          6.369192123413086,
          -3.012946367263794,
          13.691566467285156,
          0.21857328712940216,
          14.757586479187012,
          6.333134651184082,
          0.4325283169746399,
          -2.2226436138153076,
          -3.5374879837036133,
          13.238505363464355,
          14.388249397277832,
          10.088994026184082,
          0.5051965713500977,
          0.6075350046157837,
          12.6408109664917,
          14.736915588378906,
          -2.504399538040161,
          -2.9951162338256836,
          -0.18184182047843933,
          -2.200106620788574,
          11.89025592803955,
          13.281761169433594,
          14.66222858428955,
          12.004756927490234,
          2.1585593223571777,
          14.709632873535156,
          4.978054523468018,
          4.968861103057861,
          -5.131552219390869,
          -0.12860383093357086,
          14.548551559448242,
          1.5719901323318481,
          14.537610054016113,
          1.853601098060608,
          6.700020790100098,
          12.151144027709961,
          12.834795951843262,
          14.707109451293945,
          14.730685234069824,
          1.4587254524230957,
          12.15732192993164,
          0.5512160062789917,
          6.513643264770508,
          12.037050247192383,
          6.299157619476318,
          6.952057838439941,
          13.123995780944824,
          14.793550491333008,
          11.747476577758789,
          12.72216510772705,
          9.816615104675293,
          6.956329822540283,
          11.364777565002441,
          2.0259082317352295,
          6.58453893661499,
          14.704048156738281,
          13.44127082824707,
          1.1092435121536255,
          -2.1356260776519775,
          0.21828070282936096,
          14.521620750427246,
          14.808575630187988,
          6.900519371032715,
          6.725008010864258,
          9.883974075317383,
          -1.7427396774291992,
          7.107546329498291,
          -2.163358211517334,
          13.16228199005127,
          4.988868713378906,
          -3.653291940689087,
          9.881760597229004,
          -3.725402355194092,
          0.8026275634765625,
          7.140378952026367,
          1.4324486255645752,
          -1.4669936895370483,
          1.40628981590271,
          13.028303146362305,
          -2.562840700149536,
          6.828146457672119,
          -2.25762939453125,
          -5.339633941650391,
          12.37386703491211,
          0.47924792766571045,
          -5.036197185516357,
          5.459911823272705,
          -4.686572551727295,
          -2.398001194000244,
          6.151547431945801,
          1.3681597709655762,
          6.13040018081665,
          6.240403652191162,
          -2.0557219982147217,
          -2.34873104095459,
          0.9203944802284241,
          14.465178489685059,
          7.144320487976074,
          0.879721999168396,
          -2.1749582290649414,
          16.125268936157227,
          -5.265895843505859,
          1.939197063446045,
          0.5092615485191345,
          6.714590072631836,
          12.014747619628906,
          11.274500846862793,
          0.6745561361312866,
          0.45337361097335815,
          1.861043095588684,
          12.672061920166016,
          9.747004508972168,
          13.2951021194458,
          12.68957233428955,
          0.5109219551086426,
          -4.335607051849365,
          -0.6935787200927734,
          0.2951100766658783,
          -0.8375739455223083,
          -0.32177335023880005,
          0.7717745900154114,
          -2.1745986938476562,
          -1.426604986190796,
          14.667125701904297,
          -0.6590628623962402,
          -2.425764560699463,
          12.667135238647461,
          1.479232907295227,
          -2.35687255859375,
          14.523914337158203,
          9.678125381469727,
          13.201749801635742,
          -1.993789792060852,
          -2.3434760570526123,
          2.1163008213043213,
          2.0744669437408447,
          11.6187744140625,
          -5.16885232925415,
          -0.6175633668899536,
          -1.1100521087646484,
          -1.2526628971099854,
          1.871601939201355,
          5.064002990722656,
          14.00708293914795,
          2.04262638092041,
          13.182188987731934,
          1.4075676202774048,
          -4.870578289031982,
          10.013781547546387,
          -8.300130844116211,
          11.28958797454834,
          14.052388191223145,
          6.063424110412598,
          12.663354873657227,
          -2.624055862426758,
          12.640852928161621,
          1.5568803548812866,
          1.5537573099136353,
          9.593432426452637,
          -2.600557327270508,
          6.545170307159424,
          -0.08121684938669205,
          -3.054960012435913,
          12.858542442321777,
          11.615309715270996,
          -4.299414157867432,
          -2.8151068687438965,
          10.049949645996094,
          12.990006446838379,
          6.435676574707031,
          -4.687037944793701,
          -2.409848928451538,
          14.415411949157715,
          16.21421241760254,
          13.580879211425781,
          -8.392925262451172,
          11.78101634979248,
          -4.952698707580566,
          -5.324832916259766,
          0.9677830934524536,
          -1.5916106700897217,
          -8.380753517150879,
          13.058865547180176,
          5.563823223114014,
          -2.264529228210449,
          0.5252907872200012,
          0.06228435039520264,
          -2.1765832901000977,
          -2.055957317352295,
          13.556107521057129,
          0.42232343554496765,
          1.2345125675201416,
          0.99079829454422,
          -1.9898666143417358,
          -0.6644818186759949,
          1.746935486793518,
          -2.528428077697754,
          12.76484203338623,
          -0.6926693916320801,
          12.465361595153809,
          -2.265791416168213,
          0.7677420973777771,
          -1.555397629737854,
          -4.706328392028809,
          -0.06693477183580399,
          2.1799371242523193,
          11.926617622375488,
          13.385519027709961,
          5.4638166427612305,
          10.40343189239502,
          0.6999788284301758,
          16.105239868164062,
          -2.440696954727173,
          0.986038863658905,
          -0.10290399938821793,
          14.450308799743652,
          12.911736488342285,
          1.0991042852401733,
          9.439200401306152,
          13.168004989624023,
          -4.381153583526611,
          -2.262968063354492,
          -4.336817264556885,
          6.985429763793945,
          14.352797508239746,
          6.481884479522705,
          12.903810501098633,
          5.517278671264648,
          0.5356111526489258,
          13.84566879272461,
          0.21668767929077148,
          -0.36076974868774414,
          1.4773433208465576,
          0.7023074626922607,
          5.868324279785156,
          0.4936092793941498,
          0.01696050353348255,
          0.6404353976249695,
          9.421009063720703,
          12.555766105651855,
          11.315685272216797,
          14.44953441619873,
          12.107478141784668,
          14.486513137817383,
          1.5626024007797241,
          11.982666969299316,
          0.05702750012278557,
          -3.760199785232544,
          12.647985458374023,
          -2.4397695064544678,
          11.340984344482422,
          -2.52423095703125,
          5.057371616363525,
          14.835433959960938,
          13.35246467590332,
          1.7476065158843994,
          -1.878696322441101,
          1.5500001907348633,
          -0.6971920132637024,
          -2.279388904571533,
          6.214910507202148,
          14.311469078063965,
          6.717553615570068,
          -2.4027259349823,
          9.926558494567871,
          -0.665895938873291,
          -2.363670825958252,
          12.058624267578125,
          16.0565185546875,
          -2.2235639095306396,
          13.292548179626465,
          14.673624992370605,
          12.668703079223633,
          14.459744453430176,
          13.351215362548828,
          14.137554168701172,
          -0.10636807978153229,
          6.47276496887207,
          1.4195808172225952,
          -2.4071898460388184,
          14.561695098876953,
          -0.18571363389492035,
          7.065351486206055,
          14.50767707824707,
          13.725744247436523,
          -1.9348983764648438,
          6.2365641593933105,
          0.7704931497573853,
          2.578399181365967,
          6.651523113250732,
          14.83051586151123,
          11.285037994384766,
          12.49673843383789,
          12.256084442138672,
          -0.4043170213699341,
          16.079261779785156,
          0.977497398853302,
          1.6753512620925903,
          12.961498260498047,
          -2.1769838333129883,
          -0.8341324329376221,
          -3.6406326293945312,
          -8.36567211151123,
          7.039068698883057,
          6.652887344360352,
          2.7166378498077393,
          -0.7243453860282898,
          -4.575273513793945,
          6.8761677742004395,
          -3.5097124576568604,
          0.9261816143989563,
          -3.696976661682129,
          1.6969280242919922,
          6.5912089347839355,
          14.513461112976074,
          -1.3981540203094482,
          -0.5098041892051697,
          6.670201778411865,
          1.636481761932373,
          13.103248596191406,
          -0.2676435112953186,
          2.1655216217041016,
          7.019191741943359,
          -3.459102153778076,
          -3.2846450805664062,
          6.687861442565918,
          2.5518081188201904,
          1.7174385786056519,
          6.9391045570373535,
          5.004356861114502,
          14.365165710449219,
          5.0079731941223145,
          6.279972553253174,
          -2.3291728496551514,
          12.136822700500488,
          6.69848108291626,
          9.895864486694336,
          7.126676082611084,
          0.9447635412216187,
          -8.397470474243164,
          1.650960087776184,
          11.304015159606934,
          14.321634292602539,
          13.955338478088379,
          -5.242803573608398,
          0.329601526260376,
          12.901361465454102,
          -2.0080013275146484,
          -3.174217700958252,
          13.343050003051758,
          9.966578483581543,
          14.856152534484863,
          12.953729629516602,
          5.162174701690674,
          9.598539352416992,
          1.0806080102920532,
          13.000189781188965,
          14.457354545593262,
          -3.1062607765197754,
          0.28976088762283325,
          14.907234191894531,
          13.014239311218262,
          -2.1790578365325928,
          13.676603317260742,
          14.611220359802246,
          14.460675239562988,
          -2.0318386554718018,
          1.0492140054702759,
          14.464672088623047,
          14.38405990600586,
          -5.300614833831787,
          13.508291244506836,
          13.153603553771973,
          9.924941062927246,
          10.072953224182129,
          9.452997207641602,
          9.914668083190918,
          12.704943656921387,
          -4.5438232421875,
          -2.470231533050537,
          9.704879760742188,
          -2.57425856590271,
          6.749503135681152,
          1.4369126558303833,
          6.69642972946167,
          14.827570915222168,
          13.611103057861328,
          -5.167113304138184,
          -2.1939430236816406,
          9.507634162902832,
          9.513900756835938,
          1.4411499500274658,
          1.354832649230957,
          -2.2953407764434814,
          -1.3620550632476807,
          6.850498676300049,
          2.415212392807007,
          0.38091981410980225,
          -1.8919172286987305,
          1.402320146560669,
          -0.9070039987564087,
          6.870928764343262,
          -2.613776683807373,
          0.5602923035621643,
          13.955679893493652,
          11.621694564819336,
          -2.6301016807556152,
          13.526200294494629,
          -4.276780128479004,
          6.179937362670898,
          -2.7842018604278564,
          6.673158645629883,
          -4.668966293334961,
          -0.6836210489273071,
          0.3554518520832062,
          5.84733247756958,
          6.163156986236572,
          12.95504093170166,
          14.35824966430664,
          1.8592808246612549,
          1.546307921409607,
          16.20392417907715,
          -1.9389262199401855,
          -0.2984756827354431,
          5.5005950927734375,
          -3.725468873977661,
          6.841420650482178,
          12.719426155090332,
          14.697813034057617,
          14.619126319885254,
          14.034379959106445,
          -1.8841476440429688,
          1.563629150390625,
          -1.5388550758361816,
          12.349648475646973,
          12.840051651000977,
          -3.54174542427063,
          14.362382888793945,
          -2.2216904163360596,
          13.067058563232422,
          -4.2420268058776855,
          14.045839309692383,
          5.9485931396484375,
          5.153873443603516,
          -3.340174674987793,
          -2.028444528579712,
          1.033772587776184,
          12.49168872833252,
          -3.042788505554199,
          -2.2075283527374268,
          9.94559097290039,
          0.5418772101402283,
          5.2053375244140625,
          -5.276127815246582,
          12.091768264770508,
          13.166296005249023,
          12.154953002929688,
          6.228010177612305,
          10.410369873046875,
          -2.319812536239624,
          6.059895038604736,
          2.144071102142334,
          9.772821426391602,
          1.0671372413635254
         ],
         "xaxis": "x",
         "y": [
          10.236027717590332,
          8.70977783203125,
          9.860487937927246,
          4.350301742553711,
          6.767807960510254,
          4.407514572143555,
          7.045652389526367,
          10.376853942871094,
          9.817350387573242,
          11.078733444213867,
          7.132813453674316,
          10.070300102233887,
          10.070329666137695,
          14.896158218383789,
          8.228333473205566,
          7.466426372528076,
          1.7296757698059082,
          10.585005760192871,
          7.33674955368042,
          1.2490756511688232,
          8.803362846374512,
          9.24928092956543,
          2.5862538814544678,
          7.316027641296387,
          9.67920970916748,
          6.357084274291992,
          11.100279808044434,
          10.239357948303223,
          13.518165588378906,
          9.15526294708252,
          7.275613307952881,
          3.050795555114746,
          13.451115608215332,
          9.18872356414795,
          6.748476505279541,
          9.254222869873047,
          11.077366828918457,
          5.66404390335083,
          10.623156547546387,
          2.5992798805236816,
          13.8992280960083,
          9.197328567504883,
          15.44752025604248,
          8.485541343688965,
          9.449699401855469,
          10.045586585998535,
          11.863508224487305,
          7.001517295837402,
          2.571648120880127,
          3.405205726623535,
          5.353322505950928,
          11.135700225830078,
          11.12804126739502,
          10.358427047729492,
          11.863417625427246,
          13.414523124694824,
          1.864615797996521,
          14.877131462097168,
          8.49932861328125,
          12.249125480651855,
          6.591522216796875,
          9.767045021057129,
          9.22243881225586,
          8.380229949951172,
          6.451511859893799,
          8.603490829467773,
          2.5027406215667725,
          9.205464363098145,
          7.281806468963623,
          7.782454490661621,
          7.0284199714660645,
          9.389199256896973,
          9.256092071533203,
          10.6560697555542,
          9.102690696716309,
          9.902983665466309,
          5.67349910736084,
          8.367863655090332,
          5.781355381011963,
          6.790309429168701,
          11.705595970153809,
          1.265438199043274,
          15.462085723876953,
          2.6126015186309814,
          8.33707046508789,
          5.495584011077881,
          8.991021156311035,
          9.142535209655762,
          10.198729515075684,
          8.9219331741333,
          2.912175178527832,
          5.340169906616211,
          6.830756187438965,
          6.729551792144775,
          10.382723808288574,
          8.666496276855469,
          8.366570472717285,
          10.387516975402832,
          8.751102447509766,
          6.4991350173950195,
          9.66366195678711,
          9.146008491516113,
          9.455101013183594,
          6.9840087890625,
          11.060532569885254,
          7.206056594848633,
          11.190264701843262,
          9.56959056854248,
          7.133642196655273,
          5.903554439544678,
          8.346232414245605,
          7.2696614265441895,
          15.369815826416016,
          7.346922397613525,
          1.7877223491668701,
          10.381843566894531,
          5.7892632484436035,
          15.571243286132812,
          7.045126438140869,
          11.237109184265137,
          9.204148292541504,
          9.567472457885742,
          11.915105819702148,
          9.648486137390137,
          8.124298095703125,
          9.261661529541016,
          7.072678565979004,
          9.597031593322754,
          5.920200824737549,
          6.730146408081055,
          10.619880676269531,
          2.6403892040252686,
          5.917313575744629,
          5.400738716125488,
          7.041799068450928,
          9.528702735900879,
          13.968449592590332,
          11.13158893585205,
          10.354598045349121,
          12.071361541748047,
          8.14901065826416,
          8.740622520446777,
          10.952228546142578,
          12.03331470489502,
          6.5416083335876465,
          10.473366737365723,
          9.056230545043945,
          8.086469650268555,
          5.375434875488281,
          4.6050262451171875,
          6.628274917602539,
          7.338449954986572,
          7.056722640991211,
          8.295320510864258,
          6.3633646965026855,
          11.190836906433105,
          10.547066688537598,
          6.571817398071289,
          10.073019027709961,
          12.20427131652832,
          7.0769362449646,
          10.272461891174316,
          5.404410362243652,
          5.953408718109131,
          10.173879623413086,
          1.1822891235351562,
          9.261841773986816,
          9.877252578735352,
          11.122405052185059,
          7.062082290649414,
          11.73143482208252,
          12.002137184143066,
          6.549631595611572,
          11.623128890991211,
          7.202746868133545,
          7.333845615386963,
          9.858619689941406,
          15.56904411315918,
          9.462058067321777,
          9.963614463806152,
          6.562587261199951,
          10.541686058044434,
          11.043391227722168,
          4.999469757080078,
          8.45727825164795,
          5.9793620109558105,
          8.548317909240723,
          7.019350528717041,
          6.978625297546387,
          7.411137104034424,
          11.00716495513916,
          8.598122596740723,
          13.635574340820312,
          6.440280437469482,
          8.62757396697998,
          2.08449649810791,
          15.274097442626953,
          10.589648246765137,
          10.528261184692383,
          4.359714031219482,
          10.543880462646484,
          5.9544267654418945,
          9.51396656036377,
          6.991847515106201,
          7.088839530944824,
          8.537068367004395,
          13.649137496948242,
          6.4650349617004395,
          6.936886310577393,
          8.745092391967773,
          7.537965297698975,
          8.99494743347168,
          7.308326721191406,
          4.576323509216309,
          13.754629135131836,
          8.76962947845459,
          1.7437351942062378,
          15.491120338439941,
          8.644967079162598,
          10.605021476745605,
          13.966802597045898,
          9.151418685913086,
          8.944504737854004,
          9.334358215332031,
          8.530957221984863,
          14.790077209472656,
          9.590347290039062,
          5.7258124351501465,
          10.333666801452637,
          10.657383918762207,
          10.186236381530762,
          10.99661636352539,
          10.653243064880371,
          13.78189468383789,
          10.069539070129395,
          14.856817245483398,
          15.529133796691895,
          9.621245384216309,
          8.402914047241211,
          2.5950329303741455,
          13.552152633666992,
          8.991009712219238,
          10.494535446166992,
          11.502912521362305,
          2.68080735206604,
          7.973617076873779,
          11.79560661315918,
          14.88669204711914,
          9.99065113067627,
          5.961187839508057,
          7.446488380432129,
          10.337828636169434,
          10.179061889648438,
          5.851902484893799,
          9.243721008300781,
          9.030180931091309,
          6.994410991668701,
          6.058367729187012,
          1.6605072021484375,
          11.116966247558594,
          6.821367263793945,
          7.007721900939941,
          6.805218696594238,
          9.180508613586426,
          5.275115489959717,
          10.668115615844727,
          3.471484422683716,
          8.461791038513184,
          6.111363887786865,
          5.950845241546631,
          5.281769275665283,
          6.934638977050781,
          10.2083101272583,
          8.945500373840332,
          7.845700740814209,
          6.901640892028809,
          8.769840240478516,
          6.734604835510254,
          13.601759910583496,
          11.834046363830566,
          5.8871917724609375,
          7.834799289703369,
          10.353901863098145,
          10.212577819824219,
          10.186310768127441,
          7.171031951904297,
          5.799018859863281,
          9.606345176696777,
          9.052271842956543,
          3.362093687057495,
          6.792082786560059,
          8.705805778503418,
          12.2572021484375,
          13.599516868591309,
          11.882491111755371,
          10.3278169631958,
          8.397181510925293,
          7.386392593383789,
          13.438401222229004,
          6.27874231338501,
          6.432266712188721,
          8.296321868896484,
          9.040472984313965,
          6.543704032897949,
          6.025653839111328,
          5.951700687408447,
          7.36283540725708,
          5.471076011657715,
          11.049249649047852,
          9.614707946777344,
          6.751873970031738,
          11.860494613647461,
          11.024927139282227,
          8.713850021362305,
          9.581931114196777,
          6.302610874176025,
          9.795409202575684,
          7.7056498527526855,
          8.796157836914062,
          6.389650344848633,
          7.348854064941406,
          13.30705451965332,
          12.08558464050293,
          7.090387344360352,
          2.4544472694396973,
          9.798081398010254,
          14.915424346923828,
          7.314168930053711,
          10.142614364624023,
          6.852784633636475,
          11.986706733703613,
          6.886218547821045,
          5.9744367599487305,
          6.365928649902344,
          6.603397846221924,
          10.205617904663086,
          2.3667900562286377,
          10.21191120147705,
          10.08784294128418,
          11.298898696899414,
          1.8274273872375488,
          9.005965232849121,
          7.311844348907471,
          9.136870384216309,
          9.06035041809082,
          10.24547004699707,
          2.9518847465515137,
          9.878562927246094,
          5.8733015060424805,
          9.83179759979248,
          5.257023811340332,
          9.638200759887695,
          5.991130352020264,
          9.020164489746094,
          9.54725170135498,
          11.172406196594238,
          13.619891166687012,
          13.840044975280762,
          6.746936321258545,
          2.718684196472168,
          11.98119068145752,
          2.55118465423584,
          7.185728073120117,
          10.110641479492188,
          8.553418159484863,
          11.031970977783203,
          9.917147636413574,
          5.393577575683594,
          13.444246292114258,
          6.764673233032227,
          11.065254211425781,
          2.541764259338379,
          9.188079833984375,
          6.614346027374268,
          8.748982429504395,
          6.671680450439453,
          9.761573791503906,
          8.241440773010254,
          8.70098876953125,
          15.425936698913574,
          6.334532737731934,
          9.023408889770508,
          6.713386058807373,
          10.170700073242188,
          9.607979774475098,
          1.3029839992523193,
          10.206951141357422,
          9.496838569641113,
          2.0256383419036865,
          11.0524320602417,
          8.32330322265625,
          15.521415710449219,
          8.7396879196167,
          9.803556442260742,
          8.72815227508545,
          10.15212345123291,
          9.995033264160156,
          11.851020812988281,
          9.425171852111816,
          8.692802429199219,
          6.861595153808594,
          9.568814277648926,
          7.52622652053833,
          6.905287742614746,
          6.718313694000244,
          10.004109382629395,
          9.50977897644043,
          8.685909271240234,
          8.335143089294434,
          14.805695533752441,
          8.703240394592285,
          5.881575107574463,
          6.917283535003662,
          2.240405797958374,
          11.184722900390625,
          12.223173141479492,
          15.336346626281738,
          7.201749324798584,
          10.040102005004883,
          9.059041023254395,
          9.088984489440918,
          7.2609992027282715,
          10.22551155090332,
          2.503295421600342,
          10.558300018310547,
          6.813090801239014,
          6.380400657653809,
          8.741905212402344,
          6.345569133758545,
          11.94029712677002,
          9.247655868530273,
          11.023555755615234,
          8.887662887573242,
          7.066797256469727,
          7.254712104797363,
          8.383116722106934,
          6.925638675689697,
          8.361979484558105,
          6.52177619934082,
          5.3014702796936035,
          8.762384414672852,
          10.984755516052246,
          8.943243026733398,
          11.228670120239258,
          11.844943046569824,
          2.604969024658203,
          6.920142650604248,
          1.4144285917282104,
          11.2354097366333,
          8.873025894165039,
          11.189305305480957,
          6.647042274475098,
          2.6886613368988037,
          6.885234832763672,
          6.5779032707214355,
          5.385890483856201,
          8.288337707519531,
          3.3413095474243164,
          12.295912742614746,
          6.760196208953857,
          6.831690311431885,
          10.033512115478516,
          15.325150489807129,
          8.86172866821289,
          15.371740341186523,
          6.424287796020508,
          15.272215843200684,
          7.248192310333252,
          1.1077244281768799,
          7.388030529022217,
          8.208349227905273,
          8.982099533081055,
          2.511126756668091,
          8.671550750732422,
          6.756108283996582,
          6.9181809425354,
          6.895431041717529,
          6.521077632904053,
          8.453478813171387,
          8.269543647766113,
          9.936564445495605,
          4.363970756530762,
          9.110164642333984,
          10.592578887939453,
          5.890988349914551,
          9.132750511169434,
          11.564537048339844,
          3.441528081893921,
          5.732632160186768,
          5.717448711395264,
          6.664663314819336,
          11.707625389099121,
          11.107768058776855,
          11.026283264160156,
          6.624875068664551,
          5.316660404205322,
          8.991630554199219,
          4.341047286987305,
          15.523505210876465,
          9.221139907836914,
          7.857712268829346,
          13.750329971313477,
          8.407485008239746,
          13.746217727661133,
          8.324346542358398,
          3.4168314933776855,
          5.607553482055664,
          11.04644775390625,
          8.541007041931152,
          8.45052719116211,
          9.07601261138916,
          6.2512688636779785,
          8.870186805725098,
          8.509191513061523,
          13.606220245361328,
          6.789216995239258,
          10.58515739440918,
          11.95448112487793,
          6.633450031280518,
          9.52103328704834,
          13.94933032989502,
          7.761050701141357,
          10.201448440551758,
          10.536781311035156,
          12.032425880432129,
          10.233118057250977,
          7.109459400177002,
          6.801314353942871,
          11.233595848083496,
          11.890396118164062,
          9.974239349365234,
          9.351762771606445,
          15.253449440002441,
          8.976286888122559,
          6.576112270355225,
          6.812805652618408,
          8.723146438598633,
          5.9855194091796875,
          5.6243462562561035,
          6.967901706695557,
          6.758457660675049,
          15.545391082763672,
          6.7578349113464355,
          8.776114463806152,
          8.772700309753418,
          10.49847412109375,
          10.541590690612793,
          4.935468673706055,
          9.277905464172363,
          13.60262393951416,
          2.6027674674987793,
          9.555041313171387,
          8.293513298034668,
          2.886751651763916,
          10.442261695861816,
          6.828782081604004,
          10.341586112976074,
          12.165637016296387,
          8.987053871154785,
          2.926373243331909,
          3.4559552669525146,
          15.16508960723877,
          1.7573176622390747,
          6.903054714202881,
          9.40491008758545,
          7.146270751953125,
          11.759185791015625,
          6.338768482208252,
          11.204788208007812,
          9.570846557617188,
          1.1339718103408813,
          1.7162821292877197,
          9.615117073059082,
          8.595930099487305,
          2.0844616889953613,
          6.291704177856445,
          10.420660972595215,
          6.572134971618652,
          8.425458908081055,
          10.422466278076172,
          10.652390480041504,
          6.993656158447266,
          2.6441738605499268,
          4.965282440185547,
          6.636874675750732,
          5.0006794929504395,
          9.209405899047852,
          9.830205917358398,
          1.1752902269363403,
          6.332983493804932,
          9.454700469970703,
          9.146794319152832,
          13.292069435119629,
          8.657027244567871,
          6.629627227783203,
          8.4322509765625,
          9.784524917602539,
          8.205039978027344,
          7.156462669372559,
          8.18309211730957,
          8.242974281311035,
          11.768138885498047,
          9.185140609741211,
          10.088711738586426,
          11.293844223022461,
          2.6530306339263916,
          5.360151767730713,
          6.416557312011719,
          2.4842231273651123,
          9.32178020477295,
          4.348665237426758,
          7.046179294586182,
          1.2502309083938599,
          11.164535522460938,
          3.3884966373443604,
          7.808924198150635,
          13.309331893920898,
          4.410284996032715,
          12.145245552062988,
          10.300599098205566,
          11.168633460998535,
          12.111307144165039,
          13.909762382507324,
          8.462212562561035,
          13.739032745361328,
          5.369196891784668,
          6.427286148071289,
          7.164619445800781,
          7.916611194610596,
          7.1528801918029785,
          6.747536659240723,
          9.356077194213867,
          13.737625122070312,
          11.454480171203613,
          12.124228477478027,
          7.0400071144104,
          9.200858116149902,
          11.202247619628906,
          9.017087936401367,
          11.108696937561035,
          14.857900619506836,
          8.762539863586426,
          15.235389709472656,
          15.236170768737793,
          10.146647453308105,
          9.122955322265625,
          7.216785907745361,
          7.4118123054504395,
          7.422356128692627,
          4.386210918426514,
          7.211397171020508,
          10.365455627441406,
          15.300567626953125,
          10.523642539978027,
          4.981011867523193,
          8.528406143188477,
          10.335705757141113,
          10.95346450805664,
          3.4106149673461914,
          9.933869361877441,
          8.117341995239258,
          9.009095191955566,
          9.79084587097168,
          8.661608695983887,
          5.3215861320495605,
          15.239805221557617,
          10.062095642089844,
          9.74919605255127,
          2.6028494834899902,
          6.123053073883057,
          10.292065620422363,
          8.829801559448242,
          10.139949798583984,
          8.455934524536133,
          10.53482437133789,
          9.600287437438965,
          9.682419776916504,
          8.677727699279785,
          8.367364883422852,
          6.46037483215332,
          6.641993999481201,
          2.5791828632354736,
          9.212287902832031,
          11.036375045776367,
          10.367874145507812,
          8.612943649291992,
          9.464824676513672,
          5.9575114250183105,
          6.80487060546875,
          11.02534008026123,
          11.05180835723877,
          6.664152145385742,
          6.369825839996338,
          13.967087745666504,
          6.418684482574463,
          6.9241533279418945,
          14.920448303222656,
          9.290050506591797,
          13.629388809204102,
          6.38633394241333,
          10.221273422241211,
          14.87302017211914,
          6.343303680419922,
          4.550631046295166,
          12.01439380645752,
          12.258049011230469,
          13.71630573272705,
          8.927151679992676,
          11.752765655517578,
          7.907021522521973,
          6.8465166091918945,
          8.352254867553711,
          6.072455883026123,
          15.305153846740723,
          11.186806678771973,
          11.140480995178223,
          7.319201946258545,
          9.293401718139648,
          5.38743782043457,
          2.4640517234802246,
          6.500627040863037,
          10.147668838500977,
          5.728787422180176,
          11.091207504272461,
          11.467951774597168,
          5.865351676940918,
          9.807202339172363,
          10.508039474487305,
          8.457459449768066,
          7.614609241485596,
          8.381957054138184,
          2.958930015563965,
          5.779606342315674,
          8.724943161010742,
          11.403738975524902,
          6.596778869628906,
          7.72898530960083,
          8.950925827026367,
          5.452221393585205,
          6.97611665725708,
          7.139071941375732,
          6.052971839904785,
          7.490214824676514,
          13.673704147338867,
          5.672593116760254,
          7.760344505310059,
          9.77839183807373,
          8.972086906433105,
          3.4180033206939697,
          11.273149490356445,
          10.870616912841797,
          11.16401481628418,
          5.329285144805908,
          8.971517562866211,
          6.422277450561523,
          10.665106773376465,
          12.12785530090332,
          6.430822372436523,
          3.3228607177734375,
          11.829448699951172,
          7.082424640655518,
          11.049814224243164,
          9.590811729431152,
          4.591316223144531,
          8.717446327209473,
          15.268196105957031,
          13.705924987792969,
          7.6341047286987305,
          8.271968841552734,
          9.231828689575195,
          1.2512080669403076,
          11.757182121276855,
          8.981882095336914,
          6.360551357269287,
          9.199321746826172,
          8.784025192260742,
          2.41475772857666,
          7.58371114730835,
          11.880908966064453,
          9.928061485290527,
          12.224397659301758,
          5.685720443725586,
          10.394157409667969,
          9.952969551086426,
          6.190349102020264,
          2.558767318725586,
          7.0936079025268555,
          11.910908699035645,
          9.036178588867188,
          5.912930011749268,
          2.686558723449707,
          9.078856468200684,
          9.039007186889648,
          14.8207368850708,
          7.560196399688721,
          7.933035373687744,
          5.923608779907227,
          2.3864850997924805,
          9.145105361938477,
          3.398435354232788,
          11.044008255004883,
          11.153491020202637,
          7.019424915313721,
          2.4377052783966064,
          10.135270118713379,
          4.6451873779296875,
          8.86660385131836,
          11.73975944519043,
          7.232181549072266,
          8.398180961608887,
          11.009783744812012,
          1.9162923097610474,
          2.430633544921875,
          6.269017219543457,
          6.304410457611084,
          8.342721939086914,
          1.0705140829086304,
          8.474221229553223,
          10.091851234436035,
          10.630634307861328,
          15.407086372375488,
          2.33496356010437,
          5.658149719238281,
          7.352852821350098,
          13.588703155517578,
          6.789623260498047,
          15.424934387207031,
          9.555021286010742,
          6.378796577453613,
          15.468658447265625,
          1.832223653793335,
          10.646716117858887,
          8.482294082641602,
          6.775906562805176,
          5.892982006072998,
          4.623762130737305,
          2.8829445838928223,
          6.557112216949463,
          5.77861213684082,
          6.586689472198486,
          8.43311882019043,
          8.729714393615723,
          9.96594524383545,
          1.6705800294876099,
          10.418660163879395,
          2.608718156814575,
          10.10898208618164,
          11.040936470031738,
          15.343781471252441,
          3.4104976654052734,
          9.267878532409668,
          10.331958770751953,
          9.382216453552246,
          5.346247673034668,
          8.873917579650879,
          14.879279136657715,
          8.547181129455566,
          11.197278022766113,
          9.001632690429688,
          9.563565254211426,
          8.83084774017334,
          7.111976146697998,
          9.085236549377441,
          5.818584442138672,
          11.771784782409668,
          11.267718315124512,
          8.549548149108887,
          5.380925178527832,
          6.764256954193115,
          8.900782585144043,
          6.535763740539551,
          9.761645317077637,
          10.033881187438965,
          6.741376876831055,
          14.902929306030273,
          10.211718559265137,
          5.683740615844727,
          5.753586292266846,
          9.40518569946289,
          10.433537483215332,
          9.53476333618164,
          9.564825057983398,
          9.033218383789062,
          9.875198364257812,
          10.347671508789062,
          9.083901405334473,
          8.385979652404785,
          6.549412250518799,
          10.178964614868164,
          9.839390754699707,
          2.7352402210235596,
          4.945188522338867,
          6.732453346252441,
          11.013148307800293,
          9.200618743896484,
          9.117738723754883,
          6.341546535491943,
          9.86778736114502,
          9.923611640930176,
          7.182862281799316,
          7.123064994812012,
          8.759393692016602,
          6.685685634613037,
          1.1237238645553589,
          5.940929889678955,
          13.827271461486816,
          8.689289093017578,
          7.21045446395874,
          7.320284843444824,
          1.094989538192749,
          9.7324857711792,
          13.360716819763184,
          10.339082717895508,
          10.198201179504395,
          9.741605758666992,
          9.269315719604492,
          8.3258056640625,
          7.491019248962402,
          10.617481231689453,
          1.2719446420669556,
          8.387683868408203,
          13.694448471069336,
          6.9934797286987305,
          7.447185516357422,
          7.545177936553955,
          11.626446723937988,
          9.227080345153809,
          4.406387805938721,
          6.950078010559082,
          2.5653791427612305,
          8.707671165466309,
          6.346297740936279,
          6.635159492492676,
          8.40358829498291,
          1.124964952468872,
          12.228053092956543,
          9.88300895690918,
          10.03696060180664,
          9.859875679016113,
          8.682209014892578,
          5.2640910148620605,
          6.815568447113037,
          9.201838493347168,
          11.558185577392578,
          10.596036911010742,
          6.6201066970825195,
          6.401583671569824,
          11.769206047058105,
          8.27247142791748,
          9.84603500366211,
          7.408873081207275,
          7.107321739196777,
          8.353801727294922,
          14.901728630065918,
          5.8386406898498535,
          11.030409812927246,
          10.272810935974121,
          6.329975605010986,
          9.072336196899414,
          13.460147857666016,
          6.8607892990112305,
          9.2667818069458,
          9.132464408874512,
          11.90599250793457,
          9.82758617401123,
          8.242361068725586,
          9.272151947021484,
          8.699456214904785,
          8.08858871459961,
          15.449339866638184,
          8.977452278137207,
          7.110511302947998
         ],
         "yaxis": "y"
        }
       ],
       "layout": {
        "coloraxis": {
         "colorbar": {
          "title": {
           "text": "Anomaly"
          }
         },
         "colorscale": [
          [
           0,
           "#0d0887"
          ],
          [
           0.1111111111111111,
           "#46039f"
          ],
          [
           0.2222222222222222,
           "#7201a8"
          ],
          [
           0.3333333333333333,
           "#9c179e"
          ],
          [
           0.4444444444444444,
           "#bd3786"
          ],
          [
           0.5555555555555556,
           "#d8576b"
          ],
          [
           0.6666666666666666,
           "#ed7953"
          ],
          [
           0.7777777777777778,
           "#fb9f3a"
          ],
          [
           0.8888888888888888,
           "#fdca26"
          ],
          [
           1,
           "#f0f921"
          ]
         ]
        },
        "height": 800,
        "legend": {
         "tracegroupgap": 0
        },
        "template": {
         "data": {
          "bar": [
           {
            "error_x": {
             "color": "#2a3f5f"
            },
            "error_y": {
             "color": "#2a3f5f"
            },
            "marker": {
             "line": {
              "color": "#E5ECF6",
              "width": 0.5
             },
             "pattern": {
              "fillmode": "overlay",
              "size": 10,
              "solidity": 0.2
             }
            },
            "type": "bar"
           }
          ],
          "barpolar": [
           {
            "marker": {
             "line": {
              "color": "#E5ECF6",
              "width": 0.5
             },
             "pattern": {
              "fillmode": "overlay",
              "size": 10,
              "solidity": 0.2
             }
            },
            "type": "barpolar"
           }
          ],
          "carpet": [
           {
            "aaxis": {
             "endlinecolor": "#2a3f5f",
             "gridcolor": "white",
             "linecolor": "white",
             "minorgridcolor": "white",
             "startlinecolor": "#2a3f5f"
            },
            "baxis": {
             "endlinecolor": "#2a3f5f",
             "gridcolor": "white",
             "linecolor": "white",
             "minorgridcolor": "white",
             "startlinecolor": "#2a3f5f"
            },
            "type": "carpet"
           }
          ],
          "choropleth": [
           {
            "colorbar": {
             "outlinewidth": 0,
             "ticks": ""
            },
            "type": "choropleth"
           }
          ],
          "contour": [
           {
            "colorbar": {
             "outlinewidth": 0,
             "ticks": ""
            },
            "colorscale": [
             [
              0,
              "#0d0887"
             ],
             [
              0.1111111111111111,
              "#46039f"
             ],
             [
              0.2222222222222222,
              "#7201a8"
             ],
             [
              0.3333333333333333,
              "#9c179e"
             ],
             [
              0.4444444444444444,
              "#bd3786"
             ],
             [
              0.5555555555555556,
              "#d8576b"
             ],
             [
              0.6666666666666666,
              "#ed7953"
             ],
             [
              0.7777777777777778,
              "#fb9f3a"
             ],
             [
              0.8888888888888888,
              "#fdca26"
             ],
             [
              1,
              "#f0f921"
             ]
            ],
            "type": "contour"
           }
          ],
          "contourcarpet": [
           {
            "colorbar": {
             "outlinewidth": 0,
             "ticks": ""
            },
            "type": "contourcarpet"
           }
          ],
          "heatmap": [
           {
            "colorbar": {
             "outlinewidth": 0,
             "ticks": ""
            },
            "colorscale": [
             [
              0,
              "#0d0887"
             ],
             [
              0.1111111111111111,
              "#46039f"
             ],
             [
              0.2222222222222222,
              "#7201a8"
             ],
             [
              0.3333333333333333,
              "#9c179e"
             ],
             [
              0.4444444444444444,
              "#bd3786"
             ],
             [
              0.5555555555555556,
              "#d8576b"
             ],
             [
              0.6666666666666666,
              "#ed7953"
             ],
             [
              0.7777777777777778,
              "#fb9f3a"
             ],
             [
              0.8888888888888888,
              "#fdca26"
             ],
             [
              1,
              "#f0f921"
             ]
            ],
            "type": "heatmap"
           }
          ],
          "heatmapgl": [
           {
            "colorbar": {
             "outlinewidth": 0,
             "ticks": ""
            },
            "colorscale": [
             [
              0,
              "#0d0887"
             ],
             [
              0.1111111111111111,
              "#46039f"
             ],
             [
              0.2222222222222222,
              "#7201a8"
             ],
             [
              0.3333333333333333,
              "#9c179e"
             ],
             [
              0.4444444444444444,
              "#bd3786"
             ],
             [
              0.5555555555555556,
              "#d8576b"
             ],
             [
              0.6666666666666666,
              "#ed7953"
             ],
             [
              0.7777777777777778,
              "#fb9f3a"
             ],
             [
              0.8888888888888888,
              "#fdca26"
             ],
             [
              1,
              "#f0f921"
             ]
            ],
            "type": "heatmapgl"
           }
          ],
          "histogram": [
           {
            "marker": {
             "pattern": {
              "fillmode": "overlay",
              "size": 10,
              "solidity": 0.2
             }
            },
            "type": "histogram"
           }
          ],
          "histogram2d": [
           {
            "colorbar": {
             "outlinewidth": 0,
             "ticks": ""
            },
            "colorscale": [
             [
              0,
              "#0d0887"
             ],
             [
              0.1111111111111111,
              "#46039f"
             ],
             [
              0.2222222222222222,
              "#7201a8"
             ],
             [
              0.3333333333333333,
              "#9c179e"
             ],
             [
              0.4444444444444444,
              "#bd3786"
             ],
             [
              0.5555555555555556,
              "#d8576b"
             ],
             [
              0.6666666666666666,
              "#ed7953"
             ],
             [
              0.7777777777777778,
              "#fb9f3a"
             ],
             [
              0.8888888888888888,
              "#fdca26"
             ],
             [
              1,
              "#f0f921"
             ]
            ],
            "type": "histogram2d"
           }
          ],
          "histogram2dcontour": [
           {
            "colorbar": {
             "outlinewidth": 0,
             "ticks": ""
            },
            "colorscale": [
             [
              0,
              "#0d0887"
             ],
             [
              0.1111111111111111,
              "#46039f"
             ],
             [
              0.2222222222222222,
              "#7201a8"
             ],
             [
              0.3333333333333333,
              "#9c179e"
             ],
             [
              0.4444444444444444,
              "#bd3786"
             ],
             [
              0.5555555555555556,
              "#d8576b"
             ],
             [
              0.6666666666666666,
              "#ed7953"
             ],
             [
              0.7777777777777778,
              "#fb9f3a"
             ],
             [
              0.8888888888888888,
              "#fdca26"
             ],
             [
              1,
              "#f0f921"
             ]
            ],
            "type": "histogram2dcontour"
           }
          ],
          "mesh3d": [
           {
            "colorbar": {
             "outlinewidth": 0,
             "ticks": ""
            },
            "type": "mesh3d"
           }
          ],
          "parcoords": [
           {
            "line": {
             "colorbar": {
              "outlinewidth": 0,
              "ticks": ""
             }
            },
            "type": "parcoords"
           }
          ],
          "pie": [
           {
            "automargin": true,
            "type": "pie"
           }
          ],
          "scatter": [
           {
            "fillpattern": {
             "fillmode": "overlay",
             "size": 10,
             "solidity": 0.2
            },
            "type": "scatter"
           }
          ],
          "scatter3d": [
           {
            "line": {
             "colorbar": {
              "outlinewidth": 0,
              "ticks": ""
             }
            },
            "marker": {
             "colorbar": {
              "outlinewidth": 0,
              "ticks": ""
             }
            },
            "type": "scatter3d"
           }
          ],
          "scattercarpet": [
           {
            "marker": {
             "colorbar": {
              "outlinewidth": 0,
              "ticks": ""
             }
            },
            "type": "scattercarpet"
           }
          ],
          "scattergeo": [
           {
            "marker": {
             "colorbar": {
              "outlinewidth": 0,
              "ticks": ""
             }
            },
            "type": "scattergeo"
           }
          ],
          "scattergl": [
           {
            "marker": {
             "colorbar": {
              "outlinewidth": 0,
              "ticks": ""
             }
            },
            "type": "scattergl"
           }
          ],
          "scattermapbox": [
           {
            "marker": {
             "colorbar": {
              "outlinewidth": 0,
              "ticks": ""
             }
            },
            "type": "scattermapbox"
           }
          ],
          "scatterpolar": [
           {
            "marker": {
             "colorbar": {
              "outlinewidth": 0,
              "ticks": ""
             }
            },
            "type": "scatterpolar"
           }
          ],
          "scatterpolargl": [
           {
            "marker": {
             "colorbar": {
              "outlinewidth": 0,
              "ticks": ""
             }
            },
            "type": "scatterpolargl"
           }
          ],
          "scatterternary": [
           {
            "marker": {
             "colorbar": {
              "outlinewidth": 0,
              "ticks": ""
             }
            },
            "type": "scatterternary"
           }
          ],
          "surface": [
           {
            "colorbar": {
             "outlinewidth": 0,
             "ticks": ""
            },
            "colorscale": [
             [
              0,
              "#0d0887"
             ],
             [
              0.1111111111111111,
              "#46039f"
             ],
             [
              0.2222222222222222,
              "#7201a8"
             ],
             [
              0.3333333333333333,
              "#9c179e"
             ],
             [
              0.4444444444444444,
              "#bd3786"
             ],
             [
              0.5555555555555556,
              "#d8576b"
             ],
             [
              0.6666666666666666,
              "#ed7953"
             ],
             [
              0.7777777777777778,
              "#fb9f3a"
             ],
             [
              0.8888888888888888,
              "#fdca26"
             ],
             [
              1,
              "#f0f921"
             ]
            ],
            "type": "surface"
           }
          ],
          "table": [
           {
            "cells": {
             "fill": {
              "color": "#EBF0F8"
             },
             "line": {
              "color": "white"
             }
            },
            "header": {
             "fill": {
              "color": "#C8D4E3"
             },
             "line": {
              "color": "white"
             }
            },
            "type": "table"
           }
          ]
         },
         "layout": {
          "annotationdefaults": {
           "arrowcolor": "#2a3f5f",
           "arrowhead": 0,
           "arrowwidth": 1
          },
          "autotypenumbers": "strict",
          "coloraxis": {
           "colorbar": {
            "outlinewidth": 0,
            "ticks": ""
           }
          },
          "colorscale": {
           "diverging": [
            [
             0,
             "#8e0152"
            ],
            [
             0.1,
             "#c51b7d"
            ],
            [
             0.2,
             "#de77ae"
            ],
            [
             0.3,
             "#f1b6da"
            ],
            [
             0.4,
             "#fde0ef"
            ],
            [
             0.5,
             "#f7f7f7"
            ],
            [
             0.6,
             "#e6f5d0"
            ],
            [
             0.7,
             "#b8e186"
            ],
            [
             0.8,
             "#7fbc41"
            ],
            [
             0.9,
             "#4d9221"
            ],
            [
             1,
             "#276419"
            ]
           ],
           "sequential": [
            [
             0,
             "#0d0887"
            ],
            [
             0.1111111111111111,
             "#46039f"
            ],
            [
             0.2222222222222222,
             "#7201a8"
            ],
            [
             0.3333333333333333,
             "#9c179e"
            ],
            [
             0.4444444444444444,
             "#bd3786"
            ],
            [
             0.5555555555555556,
             "#d8576b"
            ],
            [
             0.6666666666666666,
             "#ed7953"
            ],
            [
             0.7777777777777778,
             "#fb9f3a"
            ],
            [
             0.8888888888888888,
             "#fdca26"
            ],
            [
             1,
             "#f0f921"
            ]
           ],
           "sequentialminus": [
            [
             0,
             "#0d0887"
            ],
            [
             0.1111111111111111,
             "#46039f"
            ],
            [
             0.2222222222222222,
             "#7201a8"
            ],
            [
             0.3333333333333333,
             "#9c179e"
            ],
            [
             0.4444444444444444,
             "#bd3786"
            ],
            [
             0.5555555555555556,
             "#d8576b"
            ],
            [
             0.6666666666666666,
             "#ed7953"
            ],
            [
             0.7777777777777778,
             "#fb9f3a"
            ],
            [
             0.8888888888888888,
             "#fdca26"
            ],
            [
             1,
             "#f0f921"
            ]
           ]
          },
          "colorway": [
           "#636efa",
           "#EF553B",
           "#00cc96",
           "#ab63fa",
           "#FFA15A",
           "#19d3f3",
           "#FF6692",
           "#B6E880",
           "#FF97FF",
           "#FECB52"
          ],
          "font": {
           "color": "#2a3f5f"
          },
          "geo": {
           "bgcolor": "white",
           "lakecolor": "white",
           "landcolor": "#E5ECF6",
           "showlakes": true,
           "showland": true,
           "subunitcolor": "white"
          },
          "hoverlabel": {
           "align": "left"
          },
          "hovermode": "closest",
          "mapbox": {
           "style": "light"
          },
          "paper_bgcolor": "white",
          "plot_bgcolor": "#E5ECF6",
          "polar": {
           "angularaxis": {
            "gridcolor": "white",
            "linecolor": "white",
            "ticks": ""
           },
           "bgcolor": "#E5ECF6",
           "radialaxis": {
            "gridcolor": "white",
            "linecolor": "white",
            "ticks": ""
           }
          },
          "scene": {
           "xaxis": {
            "backgroundcolor": "#E5ECF6",
            "gridcolor": "white",
            "gridwidth": 2,
            "linecolor": "white",
            "showbackground": true,
            "ticks": "",
            "zerolinecolor": "white"
           },
           "yaxis": {
            "backgroundcolor": "#E5ECF6",
            "gridcolor": "white",
            "gridwidth": 2,
            "linecolor": "white",
            "showbackground": true,
            "ticks": "",
            "zerolinecolor": "white"
           },
           "zaxis": {
            "backgroundcolor": "#E5ECF6",
            "gridcolor": "white",
            "gridwidth": 2,
            "linecolor": "white",
            "showbackground": true,
            "ticks": "",
            "zerolinecolor": "white"
           }
          },
          "shapedefaults": {
           "line": {
            "color": "#2a3f5f"
           }
          },
          "ternary": {
           "aaxis": {
            "gridcolor": "white",
            "linecolor": "white",
            "ticks": ""
           },
           "baxis": {
            "gridcolor": "white",
            "linecolor": "white",
            "ticks": ""
           },
           "bgcolor": "#E5ECF6",
           "caxis": {
            "gridcolor": "white",
            "linecolor": "white",
            "ticks": ""
           }
          },
          "title": {
           "x": 0.05
          },
          "xaxis": {
           "automargin": true,
           "gridcolor": "white",
           "linecolor": "white",
           "ticks": "",
           "title": {
            "standoff": 15
           },
           "zerolinecolor": "white",
           "zerolinewidth": 2
          },
          "yaxis": {
           "automargin": true,
           "gridcolor": "white",
           "linecolor": "white",
           "ticks": "",
           "title": {
            "standoff": 15
           },
           "zerolinecolor": "white",
           "zerolinewidth": 2
          }
         }
        },
        "title": {
         "text": "uMAP Plot for Outliers"
        },
        "width": 900,
        "xaxis": {
         "anchor": "y",
         "autorange": true,
         "domain": [
          0,
          1
         ],
         "range": [
          -9.949144008316626,
          17.769754054703345
         ],
         "title": {
          "text": "0"
         },
         "type": "linear"
        },
        "yaxis": {
         "anchor": "x",
         "autorange": true,
         "domain": [
          0,
          1
         ],
         "range": [
          0.15516378352254434,
          16.4865935855189
         ],
         "title": {
          "text": "1"
         },
         "type": "linear"
        }
       }
      },
      "image/png": "[encoded data removed]",
      "text/html": [
       "<div>                            <div id=\"87e871a5-b60b-448f-b4bf-dace3eb605ab\" class=\"plotly-graph-div\" style=\"height:800px; width:900px;\"></div>            <script type=\"text/javascript\">                require([\"plotly\"], function(Plotly) {                    window.PLOTLYENV=window.PLOTLYENV || {};                                    if (document.getElementById(\"87e871a5-b60b-448f-b4bf-dace3eb605ab\")) {                    Plotly.newPlot(                        \"87e871a5-b60b-448f-b4bf-dace3eb605ab\",                        [{\"customdata\":[[\"309_1\"],[\"309_2\"],[\"309_3\"],[\"309_4\"],[\"309_5\"],[\"309_6\"],[\"309_7\"],[\"309_8\"],[\"309_9\"],[\"309_10\"],[\"309_11\"],[\"309_12\"],[null],[\"309_14\"],[\"309_15\"],[\"311_1\"],[\"311_2\"],[\"311_3\"],[\"311_4\"],[\"311_5\"],[\"311_6\"],[null],[\"311_8\"],[\"311_9\"],[\"311_10\"],[\"311_11\"],[\"311_12\"],[\"311_13\"],[\"311_14\"],[null],[\"320_1\"],[\"320_2\"],[\"320_3\"],[null],[\"320_5\"],[null],[\"320_7\"],[\"320_8\"],[\"320_9\"],[null],[\"320_11\"],[\"320_12\"],[\"320_13\"],[\"320_14\"],[null],[\"321_1\"],[\"321_2\"],[null],[\"321_4\"],[\"321_5\"],[\"321_6\"],[\"321_7\"],[\"321_8\"],[\"321_9\"],[\"321_10\"],[\"321_11\"],[\"321_12\"],[\"321_13\"],[\"321_14\"],[\"321_15\"],[\"322_1\"],[\"322_2\"],[\"322_3\"],[\"322_4\"],[\"322_5\"],[\"322_6\"],[\"322_7\"],[\"322_8\"],[\"322_9\"],[\"322_10\"],[\"322_11\"],[\"322_12\"],[\"322_13\"],[\"322_14\"],[\"322_15\"],[\"3415_1\"],[\"3415_2\"],[\"3415_3\"],[\"3415_4\"],[\"3415_5\"],[\"3415_6\"],[\"3415_7\"],[\"3415_8\"],[\"3415_9\"],[\"3415_10\"],[\"3415_11\"],[\"3415_12\"],[\"3415_13\"],[\"3415_14\"],[\"3415_15\"],[\"3499_1\"],[\"3499_2\"],[null],[\"3499_4\"],[\"3499_5\"],[\"3499_6\"],[\"3499_7\"],[\"3499_8\"],[\"3499_9\"],[\"3499_10\"],[null],[\"3499_12\"],[\"3499_13\"],[\"3499_14\"],[\"3499_15\"],[\"3507_1\"],[\"3507_2\"],[null],[\"3507_4\"],[\"3507_5\"],[\"3507_6\"],[\"3507_7\"],[\"3507_8\"],[\"3507_9\"],[\"3507_10\"],[\"3507_11\"],[\"3507_12\"],[\"3507_13\"],[\"3507_14\"],[\"3507_15\"],[\"3520_1\"],[\"3520_2\"],[\"3520_3\"],[\"3520_4\"],[\"3520_5\"],[\"3520_6\"],[\"3520_7\"],[\"3520_8\"],[\"3520_9\"],[\"3520_10\"],[\"3520_11\"],[null],[\"3520_13\"],[\"3520_14\"],[\"3520_15\"],[\"3521_1\"],[\"3521_2\"],[\"3521_3\"],[\"3521_4\"],[\"3521_5\"],[\"3521_6\"],[\"3521_7\"],[\"3521_8\"],[\"3521_9\"],[\"3521_10\"],[\"3521_11\"],[\"3521_12\"],[\"3521_13\"],[\"3521_14\"],[\"3521_15\"],[\"294_1\"],[\"294_2\"],[\"294_3\"],[\"294_4\"],[\"294_5\"],[\"294_6\"],[\"294_7\"],[\"294_8\"],[\"294_9\"],[\"294_10\"],[\"294_11\"],[\"294_12\"],[\"294_13\"],[\"294_14\"],[\"294_15\"],[\"3412_1\"],[\"3412_2\"],[\"3412_3\"],[\"3412_4\"],[null],[\"3412_6\"],[\"3412_7\"],[\"3412_8\"],[\"3412_9\"],[\"3412_10\"],[null],[\"3412_12\"],[\"3412_13\"],[\"3412_14\"],[\"3412_15\"],[null],[\"3413_2\"],[\"3413_3\"],[null],[\"3413_5\"],[\"3413_6\"],[\"3413_7\"],[\"3413_8\"],[\"3413_9\"],[\"3413_10\"],[null],[\"3413_12\"],[\"3413_13\"],[\"3413_14\"],[\"3413_15\"],[\"3419_1\"],[\"3419_2\"],[null],[\"3419_4\"],[\"3419_5\"],[\"3419_6\"],[null],[\"3419_8\"],[null],[\"3419_10\"],[\"3419_11\"],[\"3419_12\"],[\"3419_13\"],[\"3419_14\"],[\"3419_15\"],[\"3420_1\"],[null],[\"3420_3\"],[\"3420_4\"],[\"3420_5\"],[null],[\"3420_7\"],[\"3420_8\"],[\"3420_9\"],[\"3420_10\"],[\"3420_11\"],[\"3420_12\"],[\"3420_13\"],[\"3420_14\"],[\"3420_15\"],[\"3500_1\"],[\"3500_2\"],[\"3500_3\"],[\"3500_4\"],[\"3500_5\"],[\"3500_6\"],[\"3500_7\"],[\"3500_8\"],[\"3500_9\"],[\"3500_10\"],[\"3500_11\"],[\"3500_12\"],[\"3500_13\"],[\"3500_14\"],[\"3500_15\"],[\"3503_1\"],[\"3503_2\"],[\"3503_3\"],[\"3503_4\"],[\"3503_5\"],[\"3503_6\"],[\"3503_7\"],[\"3503_8\"],[\"3503_9\"],[\"3503_10\"],[null],[\"3503_12\"],[\"3503_13\"],[\"3503_14\"],[\"3503_15\"],[\"362_1\"],[\"362_2\"],[null],[\"362_4\"],[\"362_5\"],[null],[\"362_7\"],[\"362_8\"],[\"362_9\"],[\"362_10\"],[\"362_11\"],[\"362_12\"],[\"362_13\"],[\"362_14\"],[\"362_15\"],[\"364_1\"],[\"364_2\"],[\"364_3\"],[\"364_4\"],[\"364_5\"],[\"364_6\"],[null],[\"364_8\"],[\"364_9\"],[null],[\"364_11\"],[\"364_12\"],[null],[\"364_14\"],[\"364_15\"],[\"365_1\"],[\"365_2\"],[\"365_3\"],[\"365_4\"],[\"365_5\"],[null],[\"365_7\"],[\"365_8\"],[\"365_9\"],[\"365_10\"],[\"365_11\"],[\"365_12\"],[\"365_13\"],[\"365_14\"],[\"365_15\"],[\"3477_1\"],[\"3477_2\"],[\"3477_3\"],[\"3477_4\"],[\"3477_5\"],[\"3477_6\"],[\"3477_7\"],[\"3477_8\"],[\"3477_9\"],[null],[\"3477_11\"],[\"3477_12\"],[null],[\"3477_14\"],[\"3477_15\"],[\"3478_1\"],[\"3478_2\"],[\"3478_3\"],[\"3478_4\"],[\"3478_5\"],[\"3478_6\"],[\"3478_7\"],[\"3478_8\"],[\"3478_9\"],[\"3478_10\"],[\"3478_11\"],[\"3478_12\"],[\"3478_13\"],[\"3478_14\"],[\"3478_15\"],[\"3479_1\"],[\"3479_2\"],[\"3479_3\"],[\"3479_4\"],[\"3479_5\"],[\"3479_6\"],[\"3479_7\"],[\"3479_8\"],[\"3479_9\"],[\"3479_10\"],[\"3479_11\"],[\"3479_12\"],[\"3479_13\"],[\"3479_14\"],[\"3479_15\"],[null],[\"3480_2\"],[\"3480_3\"],[\"3480_4\"],[null],[\"3480_6\"],[\"3480_7\"],[\"3480_8\"],[\"3480_9\"],[\"3480_10\"],[\"3480_11\"],[null],[\"3480_13\"],[\"3480_14\"],[\"3480_15\"],[\"3484_1\"],[\"3484_2\"],[\"3484_3\"],[\"3484_4\"],[\"3484_5\"],[\"3484_6\"],[null],[\"3484_8\"],[\"3484_9\"],[\"3484_10\"],[\"3484_11\"],[\"3484_12\"],[\"3484_13\"],[null],[\"3484_15\"],[\"3497_1\"],[\"3497_2\"],[\"3497_3\"],[\"3497_4\"],[\"3497_5\"],[\"3497_6\"],[\"3497_7\"],[\"3497_8\"],[\"3497_9\"],[\"3497_10\"],[\"3497_11\"],[\"3497_12\"],[\"3497_13\"],[\"3497_14\"],[\"3497_15\"],[\"50810A_1\"],[null],[\"50810A_3\"],[null],[\"50810A_5\"],[\"50810A_6\"],[\"50810A_7\"],[\"50810A_8\"],[\"50810A_9\"],[\"50810A_10\"],[null],[\"50810A_12\"],[null],[\"50810A_14\"],[\"50810A_15\"],[\"50810D_1\"],[\"50810D_2\"],[\"50810D_3\"],[\"50810D_4\"],[\"50810D_5\"],[\"50810D_6\"],[\"50810D_7\"],[\"50810D_8\"],[null],[\"50810D_10\"],[\"50810D_11\"],[\"50810D_12\"],[\"50810D_13\"],[\"50810D_14\"],[\"50810D_15\"],[\"50810F_1\"],[\"50810F_2\"],[\"50810F_3\"],[\"50810F_4\"],[\"50810F_5\"],[\"50810F_6\"],[\"50810F_7\"],[\"50810F_8\"],[\"50810F_9\"],[\"50810F_10\"],[\"50810F_11\"],[\"50810F_12\"],[\"50810F_13\"],[\"50810F_14\"],[null],[\"3422_1\"],[\"3422_2\"],[\"3422_3\"],[\"3422_4\"],[\"3422_5\"],[\"3422_6\"],[\"3422_7\"],[\"3422_8\"],[\"3422_9\"],[\"3422_10\"],[\"3422_11\"],[\"3422_12\"],[\"3422_13\"],[\"3422_14\"],[\"3422_15\"],[\"3423_1\"],[\"3423_2\"],[\"3423_3\"],[\"3423_4\"],[\"3423_5\"],[\"3423_6\"],[null],[\"3423_8\"],[\"3423_9\"],[\"3423_10\"],[null],[\"3423_12\"],[\"3423_13\"],[\"3423_14\"],[\"3423_15\"],[\"3424_1\"],[\"3424_2\"],[\"3424_3\"],[\"3424_4\"],[\"3424_5\"],[\"3424_6\"],[\"3424_7\"],[\"3424_8\"],[\"3424_9\"],[null],[\"3424_11\"],[\"3424_12\"],[\"3424_13\"],[\"3424_14\"],[\"3424_15\"],[\"3481_1\"],[null],[\"3481_3\"],[\"3481_4\"],[\"3481_5\"],[\"3481_6\"],[\"3481_7\"],[\"3481_8\"],[null],[\"3481_10\"],[\"3481_11\"],[\"3481_12\"],[\"3481_13\"],[\"3481_14\"],[null],[null],[\"3488_2\"],[\"3488_3\"],[\"3488_4\"],[\"3488_5\"],[\"3488_6\"],[\"3488_7\"],[null],[\"3488_9\"],[\"3488_10\"],[\"3488_11\"],[\"3488_12\"],[\"3488_13\"],[\"3488_14\"],[\"3488_15\"],[\"3489_1\"],[\"3489_2\"],[\"3489_3\"],[\"3489_4\"],[\"3489_5\"],[\"3489_6\"],[\"3489_7\"],[\"3489_8\"],[\"3489_9\"],[\"3489_10\"],[\"3489_11\"],[\"3489_12\"],[\"3489_13\"],[\"3489_14\"],[null],[\"3490_1\"],[\"3490_2\"],[\"3490_3\"],[\"3490_4\"],[\"3490_5\"],[\"3490_6\"],[\"3490_7\"],[\"3490_8\"],[\"3490_9\"],[\"3490_10\"],[null],[\"3490_12\"],[null],[\"3490_14\"],[\"3490_15\"],[\"3516_1\"],[\"3516_2\"],[\"3516_3\"],[\"3516_4\"],[\"3516_5\"],[\"3516_6\"],[\"3516_7\"],[\"3516_8\"],[\"3516_9\"],[\"3516_10\"],[null],[\"3516_12\"],[\"3516_13\"],[\"3516_14\"],[null],[null],[\"J2292_2\"],[\"J2292_3\"],[\"J2292_4\"],[\"J2292_5\"],[\"J2292_6\"],[\"J2292_7\"],[\"J2292_8\"],[\"J2292_9\"],[\"J2292_10\"],[\"J2292_11\"],[null],[\"J2292_13\"],[\"J2292_14\"],[\"J2292_15\"],[\"3414_1\"],[\"3414_2\"],[\"3414_3\"],[\"3414_4\"],[\"3414_5\"],[\"3414_6\"],[\"3414_7\"],[\"3414_8\"],[\"3414_9\"],[null],[\"3414_11\"],[\"3414_12\"],[\"3414_13\"],[\"3414_14\"],[\"3414_15\"],[\"3416_1\"],[\"3416_2\"],[\"3416_3\"],[\"3416_4\"],[\"3416_5\"],[\"3416_6\"],[\"3416_7\"],[\"3416_8\"],[\"3416_9\"],[\"3416_10\"],[\"3416_11\"],[\"3416_12\"],[\"3416_13\"],[\"3416_14\"],[\"3416_15\"],[\"3417_1\"],[\"3417_2\"],[\"3417_3\"],[\"3417_4\"],[null],[\"3417_6\"],[\"3417_7\"],[\"3417_8\"],[\"3417_9\"],[\"3417_10\"],[\"3417_11\"],[\"3417_12\"],[\"3417_13\"],[\"3417_14\"],[\"3417_15\"],[\"3429_1\"],[\"3429_2\"],[\"3429_3\"],[\"3429_4\"],[\"3429_5\"],[\"3429_6\"],[\"3429_7\"],[null],[\"3429_9\"],[\"3429_10\"],[\"3429_11\"],[\"3429_12\"],[\"3429_13\"],[\"3429_14\"],[\"3429_15\"],[\"3504_1\"],[\"3504_2\"],[\"3504_3\"],[\"3504_4\"],[\"3504_5\"],[\"3504_6\"],[null],[\"3504_8\"],[\"3504_9\"],[\"3504_10\"],[\"3504_11\"],[\"3504_12\"],[\"3504_13\"],[\"3504_14\"],[\"3504_15\"],[\"3505_1\"],[null],[null],[null],[\"3505_5\"],[\"3505_6\"],[\"3505_7\"],[\"3505_8\"],[\"3505_9\"],[null],[\"3505_11\"],[\"3505_12\"],[\"3505_13\"],[\"3505_14\"],[\"3505_15\"],[\"3522_1\"],[null],[\"3522_3\"],[\"3522_4\"],[\"3522_5\"],[\"3522_6\"],[\"3522_7\"],[\"3522_8\"],[\"3522_9\"],[\"3522_10\"],[\"3522_11\"],[\"3522_12\"],[\"3522_13\"],[\"3522_14\"],[\"3522_15\"],[\"361_1\"],[\"361_2\"],[\"361_3\"],[null],[\"361_5\"],[\"361_6\"],[\"361_7\"],[\"361_8\"],[\"361_9\"],[\"361_10\"],[\"361_11\"],[\"361_12\"],[\"361_13\"],[\"361_14\"],[\"361_15\"],[\"363_1\"],[\"363_2\"],[\"363_3\"],[\"363_4\"],[\"363_5\"],[\"363_6\"],[\"363_7\"],[\"363_8\"],[\"363_9\"],[\"363_10\"],[\"363_11\"],[\"363_12\"],[\"363_13\"],[\"363_14\"],[\"363_15\"],[\"293_1\"],[\"293_2\"],[\"293_3\"],[\"293_4\"],[\"293_5\"],[null],[\"293_7\"],[\"293_8\"],[\"293_9\"],[\"293_10\"],[\"293_11\"],[\"293_12\"],[\"293_13\"],[\"293_14\"],[\"293_15\"],[\"3411_1\"],[null],[\"3411_3\"],[\"3411_4\"],[\"3411_5\"],[\"3411_6\"],[null],[\"3411_8\"],[\"3411_9\"],[\"3411_10\"],[null],[\"3411_12\"],[\"3411_13\"],[\"3411_14\"],[\"3411_15\"],[\"3418_1\"],[\"3418_2\"],[\"3418_3\"],[null],[\"3418_5\"],[\"3418_6\"],[null],[\"3418_8\"],[\"3418_9\"],[\"3418_10\"],[null],[\"3418_12\"],[\"3418_13\"],[\"3418_14\"],[\"3418_15\"],[\"3501_1\"],[\"3501_2\"],[\"3501_3\"],[\"3501_4\"],[\"3501_5\"],[\"3501_6\"],[\"3501_7\"],[\"3501_8\"],[\"3501_9\"],[null],[\"3501_11\"],[\"3501_12\"],[null],[null],[null],[\"3502_1\"],[\"3502_2\"],[\"3502_3\"],[\"3502_4\"],[\"3502_5\"],[\"3502_6\"],[\"3502_7\"],[null],[\"3502_9\"],[\"3502_10\"],[\"3502_11\"],[\"3502_12\"],[\"3502_13\"],[\"3502_14\"],[\"3502_15\"],[\"3530_1\"],[\"3530_2\"],[\"3530_3\"],[\"3530_4\"],[null],[\"3530_6\"],[\"3530_7\"],[null],[\"3530_9\"],[\"3530_10\"],[\"3530_11\"],[\"3530_12\"],[\"3530_13\"],[\"3530_14\"],[\"3530_15\"],[\"3534_1\"],[\"3534_2\"],[null],[\"3534_4\"],[\"3534_5\"],[\"3534_6\"],[\"3534_7\"],[\"3534_8\"],[null],[\"3534_10\"],[\"3534_11\"],[\"3534_12\"],[\"3534_13\"],[\"3534_14\"],[\"3534_15\"],[\"3605_1\"],[null],[\"3605_3\"],[\"3605_4\"],[\"3605_5\"],[\"3605_6\"],[null],[\"3605_8\"],[\"3605_9\"],[\"3605_10\"],[\"3605_11\"],[\"3605_12\"],[\"3605_13\"],[null],[\"3605_15\"],[\"3606_1\"],[\"3606_2\"],[null],[\"3606_4\"],[\"3606_5\"],[\"3606_6\"],[\"3606_7\"],[null],[\"3606_9\"],[\"3606_10\"],[null],[\"3606_12\"],[\"3606_13\"],[\"3606_14\"],[\"3606_15\"],[\"18899_1\"],[\"18899_2\"],[\"18899_3\"],[\"18899_4\"],[null],[\"18899_6\"],[\"18899_7\"],[null],[\"18899_9\"],[\"18899_10\"],[\"18899_11\"],[\"18899_12\"],[\"18899_13\"],[\"18899_14\"],[\"18899_15\"],[\"3476_1\"],[\"3476_2\"],[\"3476_3\"],[\"3476_4\"],[\"3476_5\"],[\"3476_6\"],[\"3476_7\"],[\"3476_8\"],[\"3476_9\"],[\"3476_10\"],[\"3476_11\"],[\"3476_12\"],[\"3476_13\"],[\"3476_14\"],[\"3476_15\"],[\"3483_1\"],[\"3483_2\"],[\"3483_3\"],[\"3483_4\"],[\"3483_5\"],[\"3483_6\"],[\"3483_7\"],[\"3483_8\"],[\"3483_9\"],[\"3483_10\"],[\"3483_11\"],[\"3483_12\"],[\"3483_13\"],[\"3483_14\"],[\"3483_15\"],[\"3498_1\"],[\"3498_2\"],[\"3498_3\"],[\"3498_4\"],[\"3498_5\"],[\"3498_6\"],[\"3498_7\"],[\"3498_8\"],[\"3498_9\"],[\"3498_10\"],[\"3498_11\"],[\"3498_12\"],[\"3498_13\"],[\"3498_14\"],[\"3498_15\"],[\"50810B_1\"],[\"50810B_2\"],[\"50810B_3\"],[\"50810B_4\"],[null],[\"50810B_6\"],[\"50810B_7\"],[\"50810B_8\"],[null],[\"50810B_10\"],[\"50810B_11\"],[null],[\"50810B_13\"],[\"50810B_14\"],[\"50810B_15\"],[\"50810C_1\"],[\"50810C_2\"],[\"50810C_3\"],[\"50810C_4\"],[null],[\"50810C_6\"],[\"50810C_7\"],[\"50810C_8\"],[null],[\"50810C_10\"],[\"50810C_11\"],[\"50810C_12\"],[\"50810C_13\"],[\"50810C_14\"],[\"50810C_15\"],[\"50810E_1\"],[null],[\"50810E_3\"],[\"50810E_4\"],[\"50810E_5\"],[\"50810E_6\"],[\"50810E_7\"],[\"50810E_8\"],[\"50810E_9\"],[\"50810E_10\"],[null],[\"50810E_12\"],[\"50810E_13\"],[\"50810E_14\"],[null],[\"3421_1\"],[\"3421_2\"],[\"3421_3\"],[\"3421_4\"],[null],[\"3421_6\"],[\"3421_7\"],[\"3421_8\"],[\"3421_9\"],[\"3421_10\"],[\"3421_11\"],[\"3421_12\"],[\"3421_13\"],[\"3421_14\"],[\"3421_15\"],[\"3425_1\"],[\"3425_2\"],[\"3425_3\"],[\"3425_4\"],[\"3425_5\"],[\"3425_6\"],[\"3425_7\"],[\"3425_8\"],[\"3425_9\"],[\"3425_10\"],[\"3425_11\"],[\"3425_12\"]],\"hovertemplate\":\"0=%{x}<br>1=%{y}<br>Feature=%{customdata[0]}<br>Anomaly=%{marker.color}<extra></extra>\",\"legendgroup\":\"\",\"marker\":{\"color\":[0,0,0,0,0,0,0,0,0,0,0,0,0,0,0,0,0,0,0,0,0,0,0,0,0,0,0,0,0,0,0,0,0,0,0,0,0,1,0,0,0,0,0,0,0,0,1,0,0,1,0,0,0,0,0,0,0,0,0,0,0,0,0,0,0,1,0,0,0,0,0,0,0,0,0,0,0,0,0,0,1,0,0,0,0,0,0,0,0,0,0,0,0,0,0,0,0,0,0,0,0,0,0,0,1,0,0,0,0,0,0,0,0,0,0,0,0,0,0,0,0,0,0,0,0,0,0,0,0,0,0,0,0,0,0,0,0,0,0,0,0,0,0,1,0,0,0,0,0,0,0,0,0,0,0,0,0,0,0,0,0,0,0,0,0,0,0,0,0,0,0,0,0,0,0,0,0,0,0,0,0,0,1,0,0,0,0,0,0,0,0,0,0,0,0,1,0,0,1,0,0,0,0,0,0,0,0,0,0,1,0,0,0,0,1,0,0,0,0,0,0,0,0,0,0,0,0,0,1,0,0,0,0,0,0,0,0,0,0,0,0,0,1,0,0,0,0,0,0,0,0,0,0,0,0,0,1,0,0,0,0,0,0,0,0,0,0,0,0,0,0,0,0,0,0,1,0,0,0,0,0,0,0,0,0,0,0,0,0,0,0,0,0,0,0,0,0,0,0,0,0,0,0,0,0,0,0,0,1,0,0,0,0,0,0,0,0,0,0,0,0,1,0,0,0,0,0,0,0,0,0,0,0,0,0,0,0,0,0,0,0,0,0,0,0,0,1,0,0,0,0,0,0,0,0,0,0,0,0,1,0,0,0,0,0,0,0,0,0,0,0,0,0,0,0,0,0,0,0,0,0,0,0,0,1,0,0,0,1,1,0,0,1,0,0,0,0,0,0,0,0,0,0,0,0,0,0,0,0,0,0,0,0,0,0,0,0,0,0,0,0,0,0,0,0,0,0,0,0,0,0,1,0,0,0,0,0,0,0,0,0,0,0,0,0,0,0,0,1,0,0,0,0,0,0,0,0,1,0,0,1,0,0,0,0,0,0,0,0,0,0,0,0,0,0,0,0,0,0,0,0,0,0,0,0,0,0,0,0,0,0,0,0,0,0,0,0,0,0,0,0,0,0,0,0,0,1,1,0,1,0,0,0,0,0,0,0,0,0,0,0,1,0,0,0,0,1,0,1,0,0,0,0,0,0,0,0,0,0,0,0,0,0,0,0,0,0,0,0,0,0,0,0,0,0,0,0,0,0,0,0,0,0,0,0,0,0,0,0,0,0,0,0,0,0,0,0,0,0,0,0,0,0,0,0,0,0,0,0,0,0,0,1,0,0,0,0,0,0,1,1,1,0,0,0,0,0,0,0,0,0,0,0,0,1,0,1,0,0,0,0,0,0,0,0,0,0,1,0,0,0,0,0,0,0,0,0,0,0,0,0,0,0,0,0,0,0,0,0,0,0,0,0,0,0,0,0,0,0,0,1,0,0,0,0,0,0,0,0,0,0,0,0,0,0,0,0,0,0,0,0,0,0,1,0,0,0,0,0,0,0,0,0,0,0,0,0,0,0,0,0,0,0,0,0,0,0,0,0,0,0,0,0,0,0,0,0,0,0,0,0,0,0,0,0,0,0,0,0,0,0,0,0,0,0,0,0,0,0,0,0,0,0,0,0,0,0,0,0,0,0,0,0,0,0,0,0,0,0,0,0,0,0,0,0,0,0,0,1,0,0,0,0,0,1,0,0,0,0,0,0,0,0,0,1,0,0,0,0,0,0,0,0,0,0,0,0,0,0,0,0,0,0,0,0,0,0,0,0,0,1,0,0,0,0,0,0,0,0,0,0,0,1,0,0,0,0,0,0,0,0,0,0,0,0,0,0,0,0,0,0,0,0,0,0,0,0,1,0,0,0,0,0,0,0,0,0,0,0,0,0,0,0,0,0,0,0,0,0,0,0,0,0,0,0,0,0,0,0,0,0,0,0,0,0,0,0,0,0,0,0,0,0,0,0,0,0,0,0,0,0,0,0,0,0,0,0,0,0,0,0,0,0,0,0,0,0,0,0,0,0,0,0,0,0,0,0,0,0,0,0,0,0,0,0,0,0,0,0,0,0,0,0,0,0,0,0,0,0,0,0,0,0,0,0,0,0,0,0,0,0,0,0,0,0,0,0,0,0,0,0,0],\"coloraxis\":\"coloraxis\",\"opacity\":0.7,\"symbol\":\"circle\"},\"mode\":\"markers\",\"name\":\"\",\"orientation\":\"v\",\"showlegend\":false,\"x\":[9.678352355957031,12.892694473266602,-2.564199686050415,1.9168670177459717,14.900156021118164,1.8604609966278076,5.168182849884033,11.79626178741455,14.189557075500488,13.183403015136719,-1.7668567895889282,11.580948829650879,0.909069836139679,-2.019275665283203,6.246392726898193,-1.2210551500320435,6.595610618591309,-3.489358901977539,-1.499648928642273,6.747481346130371,12.869084358215332,13.516867637634277,16.219825744628906,-1.8771297931671143,14.807576179504395,-2.156202793121338,13.120311737060547,1.0952866077423096,0.5357378721237183,12.057687759399414,-0.8194879293441772,7.033301830291748,0.5063556432723999,14.404744148254395,14.880193710327148,14.450838088989258,13.431232452392578,14.52115535736084,-3.6473333835601807,16.234804153442383,0.5220375061035156,14.890933990478516,2.1698129177093506,-3.1068408489227295,-5.342724800109863,12.07289981842041,-1.8855234384536743,1.5587315559387207,7.021921157836914,11.256180763244629,1.5520963668823242,14.656031608581543,13.217581748962402,14.048137664794922,-2.637728214263916,0.5447694659233093,7.0403923988342285,-2.0073189735412598,-2.970595121383667,12.765785217285156,-2.1914708614349365,-2.657572031021118,12.789051055908203,-3.850719690322876,-2.4681875705718994,-1.7431402206420898,6.864254951477051,14.537322044372559,-0.9287466406822205,0.6309632658958435,0.3637756407260895,-2.3663387298583984,12.89736270904541,-3.6228935718536377,13.048395156860352,-2.726271867752075,0.03000432252883911,-3.344639778137207,-0.1961309164762497,14.842670440673828,-2.122997760772705,6.7026047706604,2.188815116882324,16.237817764282227,-3.2882869243621826,0.13672441244125366,13.116455078125,9.548968315124512,-2.9750757217407227,14.659729957580566,6.906162261962891,0.31784865260124207,6.729248523712158,6.70841121673584,11.734855651855469,-5.086649417877197,-4.672702789306641,11.824458122253418,12.029062271118164,0.057659924030303955,-2.5461907386779785,14.894810676574707,-5.351484298706055,0.5559383034706116,-8.417207717895508,1.3193789720535278,11.94524097442627,9.946746826171875,1.4895979166030884,1.167607069015503,-4.205769062042236,-1.0342814922332764,2.2034058570861816,-0.8746302127838135,6.577182769775391,9.87297248840332,-0.20559947192668915,1.92490816116333,-1.988013505935669,14.539301872253418,-5.218296527862549,9.837491989135742,-2.509006977081299,13.45378303527832,6.085596561431885,12.017559051513672,5.171658515930176,13.260771751403809,2.587951183319092,-1.3912595510482788,-2.795801877975464,7.134728908538818,0.9482623934745789,0.24120506644248962,5.071691513061523,12.011367797851562,0.5110073685646057,14.464067459106445,9.797483444213867,-2.493640184402466,6.143643379211426,12.08508014678955,14.885637283325195,-2.4874889850616455,4.972546577453613,13.180373191833496,9.66929817199707,6.112040042877197,0.6058081984519958,1.71366548538208,14.449875831604004,-1.5546061992645264,-1.6380685567855835,-4.189150333404541,-0.2860203683376312,11.981934547424316,-3.566873073577881,14.3041353225708,9.596120834350586,12.704689025878906,1.0372463464736938,9.704644203186035,0.7350395321846008,0.9578275084495544,11.659235954284668,6.7540507316589355,-5.2603535652160645,14.237707138061523,13.076543807983398,-2.0877366065979004,-2.2943341732025146,-2.5302133560180664,14.311173439025879,12.844014167785645,1.375159740447998,-1.3856414556503296,14.185978889465332,1.8780580759048462,14.871747016906738,12.129663467407227,-1.3466476202011108,-2.8015096187591553,-8.400057792663574,1.4149870872497559,-4.884403228759766,0.6957660913467407,6.438879013061523,5.044135093688965,0.5795919299125671,-1.0178254842758179,14.864826202392578,-4.966473579406738,-0.5921034812927246,1.1658499240875244,-1.7701091766357422,7.084585189819336,1.5758837461471558,-3.525895833969116,14.746657371520996,1.8976534605026245,14.748251914978027,2.605024576187134,14.897115707397461,-0.3887346684932709,1.4972939491271973,6.3780927658081055,-0.6583760380744934,1.2241952419281006,6.7053141593933105,6.488192081451416,6.216645240783691,11.993855476379395,-1.3721591234207153,1.7392663955688477,-0.6849547028541565,13.808992385864258,6.593507766723633,2.237977981567383,-5.014841556549072,-3.5052740573883057,0.5134972929954529,14.848923683166504,11.962993621826172,-5.281801223754883,6.3508148193359375,-2.092933177947998,9.800134658813477,-0.036617569625377655,14.111039161682129,-2.796962022781372,11.644387245178223,-8.351188659667969,-3.7371997833251953,0.4581138491630554,0.8986964225769043,-2.0025253295898438,1.811470627784729,14.761589050292969,-3.830855131149292,16.2324275970459,0.4793071746826172,13.154056549072266,14.726631164550781,-2.4704861640930176,6.65457820892334,0.8122917413711548,-2.5842154026031494,-2.008744955062866,9.508368492126465,2.6123294830322266,6.056447982788086,9.78512954711914,9.700163841247559,2.459411382675171,12.80820083618164,13.706600189208984,0.41550856828689575,-0.1171356737613678,6.720636367797852,12.236907958984375,14.476889610290527,4.939685344696045,0.4328717887401581,12.090672492980957,1.5849947929382324,-3.75823712348938,11.231179237365723,-4.3524017333984375,0.0021522948518395424,0.05016213655471802,0.41418421268463135,14.6988525390625,1.0418858528137207,14.629422187805176,0.7522100210189819,0.49310433864593506,-5.193918228149414,14.904709815979004,-0.643357515335083,13.099930763244629,2.5987119674682617,0.6879026293754578,13.210468292236328,9.794575691223145,1.021338701248169,-1.7165586948394775,14.351604461669922,9.818038940429688,9.697107315063477,11.333565711975098,6.734068393707275,-5.12476110458374,12.751436233520508,-0.5565128326416016,-2.255019426345825,13.965258598327637,-3.3033254146575928,-1.5300078392028809,0.520803689956665,-2.161043405532837,1.185524582862854,-4.251982688903809,9.99683952331543,-2.446770668029785,0.7359739542007446,2.395859479904175,5.516661167144775,0.191033273935318,-8.40555477142334,12.052091598510742,6.708710670471191,13.313743591308594,13.044429779052734,12.574658393859863,9.981389999389648,-0.6306660175323486,12.890158653259277,0.5696166753768921,12.829797744750977,1.2223790884017944,5.497287750244141,0.47824573516845703,12.701131820678711,5.197231292724609,16.096094131469727,14.136675834655762,-2.0397379398345947,-0.8291208744049072,-2.898218870162964,14.802583694458008,-2.5273520946502686,5.32804536819458,-0.212199866771698,2.836223602294922,5.505307197570801,9.610922813415527,6.60218620300293,1.0464726686477661,0.9116926789283752,14.45815658569336,6.5608086585998535,13.776813507080078,-0.7696854472160339,13.030058860778809,13.66090202331543,-2.703977346420288,7.010054588317871,12.181614875793457,2.4900078773498535,14.188055992126465,0.45648953318595886,13.485845565795898,2.3453211784362793,12.717438697814941,-2.4153242111206055,13.350081443786621,-0.5865466594696045,0.5794240832328796,1.6047393083572388,7.144054889678955,-2.4941141605377197,6.412911415100098,1.3132070302963257,11.563986778259277,6.385015964508057,14.870057106018066,12.146537780761719,0.22415271401405334,0.5350695252418518,-2.229586124420166,13.037118911743164,16.180461883544922,14.397662162780762,-1.4058454036712646,12.10166072845459,0.8909730315208435,14.186140060424805,6.302643775939941,-1.963998794555664,1.7422149181365967,-2.2592098712921143,9.830921173095703,14.809178352355957,12.884623527526855,-2.3714864253997803,6.67636775970459,12.708066940307617,14.837350845336914,7.088805198669434,-8.409370422363281,-4.257569313049316,1.823365569114685,6.489978790283203,9.352272987365723,-2.267347574234009,-2.903205633163452,-2.7750189304351807,-2.544477701187134,10.181675910949707,-1.9343465566635132,5.261411190032959,13.371438980102539,6.132059097290039,1.5729520320892334,14.49581241607666,9.477524757385254,10.064366340637207,6.453307151794434,-4.711233615875244,-1.9170979261398315,-5.119132995605469,2.4224348068237305,6.780955791473389,6.562521457672119,11.995574951171875,12.749276161193848,1.6183418035507202,-1.8148866891860962,12.079658508300781,12.5524263381958,9.596675872802734,5.833775997161865,-2.7210159301757812,16.143712997436523,13.06625747680664,1.5694516897201538,-2.205312728881836,12.533950805664062,2.7495956420898438,-2.498335599899292,14.80721378326416,-8.379782676696777,13.64123249053955,1.5228960514068604,-1.0129462480545044,-3.2932934761047363,4.986016273498535,-4.784440517425537,14.275761604309082,0.3785988986492157,12.094669342041016,14.873449325561523,14.61009407043457,14.561120986938477,13.302684783935547,6.978984832763672,-2.1660523414611816,6.622965335845947,11.89087963104248,13.726136207580566,11.978469848632812,5.500855922698975,6.652298927307129,6.731258869171143,14.328634262084961,0.6822807192802429,-4.2746686935424805,11.270354270935059,12.775863647460938,14.486380577087402,0.4438549876213074,9.537880897521973,1.6456478834152222,13.889704704284668,2.164839267730713,1.2553322315216064,2.1545803546905518,0.6608555912971497,6.8710222244262695,5.6678338050842285,13.084656715393066,12.091629981994629,16.150850296020508,-2.3522584438323975,14.87043285369873,6.726096153259277,6.715043544769287,14.270929336547852,-2.9646201133728027,6.323330402374268,14.053717613220215,1.8918451070785522,13.601021766662598,-3.735588312149048,14.262989044189453,-5.18988037109375,12.906530380249023,11.261699676513672,14.412557601928711,14.426563262939453,4.931677341461182,-2.5161964893341064,14.608610153198242,-8.381895065307617,4.977077960968018,1.5995184183120728,10.060919761657715,1.91413152217865,1.8552664518356323,12.095169067382812,0.7413325905799866,0.4694836437702179,-3.8081541061401367,-0.6595094203948975,-4.649759292602539,11.299552917480469,14.54587459564209,-8.403287887573242,6.369192123413086,-3.012946367263794,13.691566467285156,0.21857328712940216,14.757586479187012,6.333134651184082,0.4325283169746399,-2.2226436138153076,-3.5374879837036133,13.238505363464355,14.388249397277832,10.088994026184082,0.5051965713500977,0.6075350046157837,12.6408109664917,14.736915588378906,-2.504399538040161,-2.9951162338256836,-0.18184182047843933,-2.200106620788574,11.89025592803955,13.281761169433594,14.66222858428955,12.004756927490234,2.1585593223571777,14.709632873535156,4.978054523468018,4.968861103057861,-5.131552219390869,-0.12860383093357086,14.548551559448242,1.5719901323318481,14.537610054016113,1.853601098060608,6.700020790100098,12.151144027709961,12.834795951843262,14.707109451293945,14.730685234069824,1.4587254524230957,12.15732192993164,0.5512160062789917,6.513643264770508,12.037050247192383,6.299157619476318,6.952057838439941,13.123995780944824,14.793550491333008,11.747476577758789,12.72216510772705,9.816615104675293,6.956329822540283,11.364777565002441,2.0259082317352295,6.58453893661499,14.704048156738281,13.44127082824707,1.1092435121536255,-2.1356260776519775,0.21828070282936096,14.521620750427246,14.808575630187988,6.900519371032715,6.725008010864258,9.883974075317383,-1.7427396774291992,7.107546329498291,-2.163358211517334,13.16228199005127,4.988868713378906,-3.653291940689087,9.881760597229004,-3.725402355194092,0.8026275634765625,7.140378952026367,1.4324486255645752,-1.4669936895370483,1.40628981590271,13.028303146362305,-2.562840700149536,6.828146457672119,-2.25762939453125,-5.339633941650391,12.37386703491211,0.47924792766571045,-5.036197185516357,5.459911823272705,-4.686572551727295,-2.398001194000244,6.151547431945801,1.3681597709655762,6.13040018081665,6.240403652191162,-2.0557219982147217,-2.34873104095459,0.9203944802284241,14.465178489685059,7.144320487976074,0.879721999168396,-2.1749582290649414,16.125268936157227,-5.265895843505859,1.939197063446045,0.5092615485191345,6.714590072631836,12.014747619628906,11.274500846862793,0.6745561361312866,0.45337361097335815,1.861043095588684,12.672061920166016,9.747004508972168,13.2951021194458,12.68957233428955,0.5109219551086426,-4.335607051849365,-0.6935787200927734,0.2951100766658783,-0.8375739455223083,-0.32177335023880005,0.7717745900154114,-2.1745986938476562,-1.426604986190796,14.667125701904297,-0.6590628623962402,-2.425764560699463,12.667135238647461,1.479232907295227,-2.35687255859375,14.523914337158203,9.678125381469727,13.201749801635742,-1.993789792060852,-2.3434760570526123,2.1163008213043213,2.0744669437408447,11.6187744140625,-5.16885232925415,-0.6175633668899536,-1.1100521087646484,-1.2526628971099854,1.871601939201355,5.064002990722656,14.00708293914795,2.04262638092041,13.182188987731934,1.4075676202774048,-4.870578289031982,10.013781547546387,-8.300130844116211,11.28958797454834,14.052388191223145,6.063424110412598,12.663354873657227,-2.624055862426758,12.640852928161621,1.5568803548812866,1.5537573099136353,9.593432426452637,-2.600557327270508,6.545170307159424,-0.08121684938669205,-3.054960012435913,12.858542442321777,11.615309715270996,-4.299414157867432,-2.8151068687438965,10.049949645996094,12.990006446838379,6.435676574707031,-4.687037944793701,-2.409848928451538,14.415411949157715,16.21421241760254,13.580879211425781,-8.392925262451172,11.78101634979248,-4.952698707580566,-5.324832916259766,0.9677830934524536,-1.5916106700897217,-8.380753517150879,13.058865547180176,5.563823223114014,-2.264529228210449,0.5252907872200012,0.06228435039520264,-2.1765832901000977,-2.055957317352295,13.556107521057129,0.42232343554496765,1.2345125675201416,0.99079829454422,-1.9898666143417358,-0.6644818186759949,1.746935486793518,-2.528428077697754,12.76484203338623,-0.6926693916320801,12.465361595153809,-2.265791416168213,0.7677420973777771,-1.555397629737854,-4.706328392028809,-0.06693477183580399,2.1799371242523193,11.926617622375488,13.385519027709961,5.4638166427612305,10.40343189239502,0.6999788284301758,16.105239868164062,-2.440696954727173,0.986038863658905,-0.10290399938821793,14.450308799743652,12.911736488342285,1.0991042852401733,9.439200401306152,13.168004989624023,-4.381153583526611,-2.262968063354492,-4.336817264556885,6.985429763793945,14.352797508239746,6.481884479522705,12.903810501098633,5.517278671264648,0.5356111526489258,13.84566879272461,0.21668767929077148,-0.36076974868774414,1.4773433208465576,0.7023074626922607,5.868324279785156,0.4936092793941498,0.01696050353348255,0.6404353976249695,9.421009063720703,12.555766105651855,11.315685272216797,14.44953441619873,12.107478141784668,14.486513137817383,1.5626024007797241,11.982666969299316,0.05702750012278557,-3.760199785232544,12.647985458374023,-2.4397695064544678,11.340984344482422,-2.52423095703125,5.057371616363525,14.835433959960938,13.35246467590332,1.7476065158843994,-1.878696322441101,1.5500001907348633,-0.6971920132637024,-2.279388904571533,6.214910507202148,14.311469078063965,6.717553615570068,-2.4027259349823,9.926558494567871,-0.665895938873291,-2.363670825958252,12.058624267578125,16.0565185546875,-2.2235639095306396,13.292548179626465,14.673624992370605,12.668703079223633,14.459744453430176,13.351215362548828,14.137554168701172,-0.10636807978153229,6.47276496887207,1.4195808172225952,-2.4071898460388184,14.561695098876953,-0.18571363389492035,7.065351486206055,14.50767707824707,13.725744247436523,-1.9348983764648438,6.2365641593933105,0.7704931497573853,2.578399181365967,6.651523113250732,14.83051586151123,11.285037994384766,12.49673843383789,12.256084442138672,-0.4043170213699341,16.079261779785156,0.977497398853302,1.6753512620925903,12.961498260498047,-2.1769838333129883,-0.8341324329376221,-3.6406326293945312,-8.36567211151123,7.039068698883057,6.652887344360352,2.7166378498077393,-0.7243453860282898,-4.575273513793945,6.8761677742004395,-3.5097124576568604,0.9261816143989563,-3.696976661682129,1.6969280242919922,6.5912089347839355,14.513461112976074,-1.3981540203094482,-0.5098041892051697,6.670201778411865,1.636481761932373,13.103248596191406,-0.2676435112953186,2.1655216217041016,7.019191741943359,-3.459102153778076,-3.2846450805664062,6.687861442565918,2.5518081188201904,1.7174385786056519,6.9391045570373535,5.004356861114502,14.365165710449219,5.0079731941223145,6.279972553253174,-2.3291728496551514,12.136822700500488,6.69848108291626,9.895864486694336,7.126676082611084,0.9447635412216187,-8.397470474243164,1.650960087776184,11.304015159606934,14.321634292602539,13.955338478088379,-5.242803573608398,0.329601526260376,12.901361465454102,-2.0080013275146484,-3.174217700958252,13.343050003051758,9.966578483581543,14.856152534484863,12.953729629516602,5.162174701690674,9.598539352416992,1.0806080102920532,13.000189781188965,14.457354545593262,-3.1062607765197754,0.28976088762283325,14.907234191894531,13.014239311218262,-2.1790578365325928,13.676603317260742,14.611220359802246,14.460675239562988,-2.0318386554718018,1.0492140054702759,14.464672088623047,14.38405990600586,-5.300614833831787,13.508291244506836,13.153603553771973,9.924941062927246,10.072953224182129,9.452997207641602,9.914668083190918,12.704943656921387,-4.5438232421875,-2.470231533050537,9.704879760742188,-2.57425856590271,6.749503135681152,1.4369126558303833,6.69642972946167,14.827570915222168,13.611103057861328,-5.167113304138184,-2.1939430236816406,9.507634162902832,9.513900756835938,1.4411499500274658,1.354832649230957,-2.2953407764434814,-1.3620550632476807,6.850498676300049,2.415212392807007,0.38091981410980225,-1.8919172286987305,1.402320146560669,-0.9070039987564087,6.870928764343262,-2.613776683807373,0.5602923035621643,13.955679893493652,11.621694564819336,-2.6301016807556152,13.526200294494629,-4.276780128479004,6.179937362670898,-2.7842018604278564,6.673158645629883,-4.668966293334961,-0.6836210489273071,0.3554518520832062,5.84733247756958,6.163156986236572,12.95504093170166,14.35824966430664,1.8592808246612549,1.546307921409607,16.20392417907715,-1.9389262199401855,-0.2984756827354431,5.5005950927734375,-3.725468873977661,6.841420650482178,12.719426155090332,14.697813034057617,14.619126319885254,14.034379959106445,-1.8841476440429688,1.563629150390625,-1.5388550758361816,12.349648475646973,12.840051651000977,-3.54174542427063,14.362382888793945,-2.2216904163360596,13.067058563232422,-4.2420268058776855,14.045839309692383,5.9485931396484375,5.153873443603516,-3.340174674987793,-2.028444528579712,1.033772587776184,12.49168872833252,-3.042788505554199,-2.2075283527374268,9.94559097290039,0.5418772101402283,5.2053375244140625,-5.276127815246582,12.091768264770508,13.166296005249023,12.154953002929688,6.228010177612305,10.410369873046875,-2.319812536239624,6.059895038604736,2.144071102142334,9.772821426391602,1.0671372413635254],\"xaxis\":\"x\",\"y\":[10.236027717590332,8.70977783203125,9.860487937927246,4.350301742553711,6.767807960510254,4.407514572143555,7.045652389526367,10.376853942871094,9.817350387573242,11.078733444213867,7.132813453674316,10.070300102233887,10.070329666137695,14.896158218383789,8.228333473205566,7.466426372528076,1.7296757698059082,10.585005760192871,7.33674955368042,1.2490756511688232,8.803362846374512,9.24928092956543,2.5862538814544678,7.316027641296387,9.67920970916748,6.357084274291992,11.100279808044434,10.239357948303223,13.518165588378906,9.15526294708252,7.275613307952881,3.050795555114746,13.451115608215332,9.18872356414795,6.748476505279541,9.254222869873047,11.077366828918457,5.66404390335083,10.623156547546387,2.5992798805236816,13.8992280960083,9.197328567504883,15.44752025604248,8.485541343688965,9.449699401855469,10.045586585998535,11.863508224487305,7.001517295837402,2.571648120880127,3.405205726623535,5.353322505950928,11.135700225830078,11.12804126739502,10.358427047729492,11.863417625427246,13.414523124694824,1.864615797996521,14.877131462097168,8.49932861328125,12.249125480651855,6.591522216796875,9.767045021057129,9.22243881225586,8.380229949951172,6.451511859893799,8.603490829467773,2.5027406215667725,9.205464363098145,7.281806468963623,7.782454490661621,7.0284199714660645,9.389199256896973,9.256092071533203,10.6560697555542,9.102690696716309,9.902983665466309,5.67349910736084,8.367863655090332,5.781355381011963,6.790309429168701,11.705595970153809,1.265438199043274,15.462085723876953,2.6126015186309814,8.33707046508789,5.495584011077881,8.991021156311035,9.142535209655762,10.198729515075684,8.9219331741333,2.912175178527832,5.340169906616211,6.830756187438965,6.729551792144775,10.382723808288574,8.666496276855469,8.366570472717285,10.387516975402832,8.751102447509766,6.4991350173950195,9.66366195678711,9.146008491516113,9.455101013183594,6.9840087890625,11.060532569885254,7.206056594848633,11.190264701843262,9.56959056854248,7.133642196655273,5.903554439544678,8.346232414245605,7.2696614265441895,15.369815826416016,7.346922397613525,1.7877223491668701,10.381843566894531,5.7892632484436035,15.571243286132812,7.045126438140869,11.237109184265137,9.204148292541504,9.567472457885742,11.915105819702148,9.648486137390137,8.124298095703125,9.261661529541016,7.072678565979004,9.597031593322754,5.920200824737549,6.730146408081055,10.619880676269531,2.6403892040252686,5.917313575744629,5.400738716125488,7.041799068450928,9.528702735900879,13.968449592590332,11.13158893585205,10.354598045349121,12.071361541748047,8.14901065826416,8.740622520446777,10.952228546142578,12.03331470489502,6.5416083335876465,10.473366737365723,9.056230545043945,8.086469650268555,5.375434875488281,4.6050262451171875,6.628274917602539,7.338449954986572,7.056722640991211,8.295320510864258,6.3633646965026855,11.190836906433105,10.547066688537598,6.571817398071289,10.073019027709961,12.20427131652832,7.0769362449646,10.272461891174316,5.404410362243652,5.953408718109131,10.173879623413086,1.1822891235351562,9.261841773986816,9.877252578735352,11.122405052185059,7.062082290649414,11.73143482208252,12.002137184143066,6.549631595611572,11.623128890991211,7.202746868133545,7.333845615386963,9.858619689941406,15.56904411315918,9.462058067321777,9.963614463806152,6.562587261199951,10.541686058044434,11.043391227722168,4.999469757080078,8.45727825164795,5.9793620109558105,8.548317909240723,7.019350528717041,6.978625297546387,7.411137104034424,11.00716495513916,8.598122596740723,13.635574340820312,6.440280437469482,8.62757396697998,2.08449649810791,15.274097442626953,10.589648246765137,10.528261184692383,4.359714031219482,10.543880462646484,5.9544267654418945,9.51396656036377,6.991847515106201,7.088839530944824,8.537068367004395,13.649137496948242,6.4650349617004395,6.936886310577393,8.745092391967773,7.537965297698975,8.99494743347168,7.308326721191406,4.576323509216309,13.754629135131836,8.76962947845459,1.7437351942062378,15.491120338439941,8.644967079162598,10.605021476745605,13.966802597045898,9.151418685913086,8.944504737854004,9.334358215332031,8.530957221984863,14.790077209472656,9.590347290039062,5.7258124351501465,10.333666801452637,10.657383918762207,10.186236381530762,10.99661636352539,10.653243064880371,13.78189468383789,10.069539070129395,14.856817245483398,15.529133796691895,9.621245384216309,8.402914047241211,2.5950329303741455,13.552152633666992,8.991009712219238,10.494535446166992,11.502912521362305,2.68080735206604,7.973617076873779,11.79560661315918,14.88669204711914,9.99065113067627,5.961187839508057,7.446488380432129,10.337828636169434,10.179061889648438,5.851902484893799,9.243721008300781,9.030180931091309,6.994410991668701,6.058367729187012,1.6605072021484375,11.116966247558594,6.821367263793945,7.007721900939941,6.805218696594238,9.180508613586426,5.275115489959717,10.668115615844727,3.471484422683716,8.461791038513184,6.111363887786865,5.950845241546631,5.281769275665283,6.934638977050781,10.2083101272583,8.945500373840332,7.845700740814209,6.901640892028809,8.769840240478516,6.734604835510254,13.601759910583496,11.834046363830566,5.8871917724609375,7.834799289703369,10.353901863098145,10.212577819824219,10.186310768127441,7.171031951904297,5.799018859863281,9.606345176696777,9.052271842956543,3.362093687057495,6.792082786560059,8.705805778503418,12.2572021484375,13.599516868591309,11.882491111755371,10.3278169631958,8.397181510925293,7.386392593383789,13.438401222229004,6.27874231338501,6.432266712188721,8.296321868896484,9.040472984313965,6.543704032897949,6.025653839111328,5.951700687408447,7.36283540725708,5.471076011657715,11.049249649047852,9.614707946777344,6.751873970031738,11.860494613647461,11.024927139282227,8.713850021362305,9.581931114196777,6.302610874176025,9.795409202575684,7.7056498527526855,8.796157836914062,6.389650344848633,7.348854064941406,13.30705451965332,12.08558464050293,7.090387344360352,2.4544472694396973,9.798081398010254,14.915424346923828,7.314168930053711,10.142614364624023,6.852784633636475,11.986706733703613,6.886218547821045,5.9744367599487305,6.365928649902344,6.603397846221924,10.205617904663086,2.3667900562286377,10.21191120147705,10.08784294128418,11.298898696899414,1.8274273872375488,9.005965232849121,7.311844348907471,9.136870384216309,9.06035041809082,10.24547004699707,2.9518847465515137,9.878562927246094,5.8733015060424805,9.83179759979248,5.257023811340332,9.638200759887695,5.991130352020264,9.020164489746094,9.54725170135498,11.172406196594238,13.619891166687012,13.840044975280762,6.746936321258545,2.718684196472168,11.98119068145752,2.55118465423584,7.185728073120117,10.110641479492188,8.553418159484863,11.031970977783203,9.917147636413574,5.393577575683594,13.444246292114258,6.764673233032227,11.065254211425781,2.541764259338379,9.188079833984375,6.614346027374268,8.748982429504395,6.671680450439453,9.761573791503906,8.241440773010254,8.70098876953125,15.425936698913574,6.334532737731934,9.023408889770508,6.713386058807373,10.170700073242188,9.607979774475098,1.3029839992523193,10.206951141357422,9.496838569641113,2.0256383419036865,11.0524320602417,8.32330322265625,15.521415710449219,8.7396879196167,9.803556442260742,8.72815227508545,10.15212345123291,9.995033264160156,11.851020812988281,9.425171852111816,8.692802429199219,6.861595153808594,9.568814277648926,7.52622652053833,6.905287742614746,6.718313694000244,10.004109382629395,9.50977897644043,8.685909271240234,8.335143089294434,14.805695533752441,8.703240394592285,5.881575107574463,6.917283535003662,2.240405797958374,11.184722900390625,12.223173141479492,15.336346626281738,7.201749324798584,10.040102005004883,9.059041023254395,9.088984489440918,7.2609992027282715,10.22551155090332,2.503295421600342,10.558300018310547,6.813090801239014,6.380400657653809,8.741905212402344,6.345569133758545,11.94029712677002,9.247655868530273,11.023555755615234,8.887662887573242,7.066797256469727,7.254712104797363,8.383116722106934,6.925638675689697,8.361979484558105,6.52177619934082,5.3014702796936035,8.762384414672852,10.984755516052246,8.943243026733398,11.228670120239258,11.844943046569824,2.604969024658203,6.920142650604248,1.4144285917282104,11.2354097366333,8.873025894165039,11.189305305480957,6.647042274475098,2.6886613368988037,6.885234832763672,6.5779032707214355,5.385890483856201,8.288337707519531,3.3413095474243164,12.295912742614746,6.760196208953857,6.831690311431885,10.033512115478516,15.325150489807129,8.86172866821289,15.371740341186523,6.424287796020508,15.272215843200684,7.248192310333252,1.1077244281768799,7.388030529022217,8.208349227905273,8.982099533081055,2.511126756668091,8.671550750732422,6.756108283996582,6.9181809425354,6.895431041717529,6.521077632904053,8.453478813171387,8.269543647766113,9.936564445495605,4.363970756530762,9.110164642333984,10.592578887939453,5.890988349914551,9.132750511169434,11.564537048339844,3.441528081893921,5.732632160186768,5.717448711395264,6.664663314819336,11.707625389099121,11.107768058776855,11.026283264160156,6.624875068664551,5.316660404205322,8.991630554199219,4.341047286987305,15.523505210876465,9.221139907836914,7.857712268829346,13.750329971313477,8.407485008239746,13.746217727661133,8.324346542358398,3.4168314933776855,5.607553482055664,11.04644775390625,8.541007041931152,8.45052719116211,9.07601261138916,6.2512688636779785,8.870186805725098,8.509191513061523,13.606220245361328,6.789216995239258,10.58515739440918,11.95448112487793,6.633450031280518,9.52103328704834,13.94933032989502,7.761050701141357,10.201448440551758,10.536781311035156,12.032425880432129,10.233118057250977,7.109459400177002,6.801314353942871,11.233595848083496,11.890396118164062,9.974239349365234,9.351762771606445,15.253449440002441,8.976286888122559,6.576112270355225,6.812805652618408,8.723146438598633,5.9855194091796875,5.6243462562561035,6.967901706695557,6.758457660675049,15.545391082763672,6.7578349113464355,8.776114463806152,8.772700309753418,10.49847412109375,10.541590690612793,4.935468673706055,9.277905464172363,13.60262393951416,2.6027674674987793,9.555041313171387,8.293513298034668,2.886751651763916,10.442261695861816,6.828782081604004,10.341586112976074,12.165637016296387,8.987053871154785,2.926373243331909,3.4559552669525146,15.16508960723877,1.7573176622390747,6.903054714202881,9.40491008758545,7.146270751953125,11.759185791015625,6.338768482208252,11.204788208007812,9.570846557617188,1.1339718103408813,1.7162821292877197,9.615117073059082,8.595930099487305,2.0844616889953613,6.291704177856445,10.420660972595215,6.572134971618652,8.425458908081055,10.422466278076172,10.652390480041504,6.993656158447266,2.6441738605499268,4.965282440185547,6.636874675750732,5.0006794929504395,9.209405899047852,9.830205917358398,1.1752902269363403,6.332983493804932,9.454700469970703,9.146794319152832,13.292069435119629,8.657027244567871,6.629627227783203,8.4322509765625,9.784524917602539,8.205039978027344,7.156462669372559,8.18309211730957,8.242974281311035,11.768138885498047,9.185140609741211,10.088711738586426,11.293844223022461,2.6530306339263916,5.360151767730713,6.416557312011719,2.4842231273651123,9.32178020477295,4.348665237426758,7.046179294586182,1.2502309083938599,11.164535522460938,3.3884966373443604,7.808924198150635,13.309331893920898,4.410284996032715,12.145245552062988,10.300599098205566,11.168633460998535,12.111307144165039,13.909762382507324,8.462212562561035,13.739032745361328,5.369196891784668,6.427286148071289,7.164619445800781,7.916611194610596,7.1528801918029785,6.747536659240723,9.356077194213867,13.737625122070312,11.454480171203613,12.124228477478027,7.0400071144104,9.200858116149902,11.202247619628906,9.017087936401367,11.108696937561035,14.857900619506836,8.762539863586426,15.235389709472656,15.236170768737793,10.146647453308105,9.122955322265625,7.216785907745361,7.4118123054504395,7.422356128692627,4.386210918426514,7.211397171020508,10.365455627441406,15.300567626953125,10.523642539978027,4.981011867523193,8.528406143188477,10.335705757141113,10.95346450805664,3.4106149673461914,9.933869361877441,8.117341995239258,9.009095191955566,9.79084587097168,8.661608695983887,5.3215861320495605,15.239805221557617,10.062095642089844,9.74919605255127,2.6028494834899902,6.123053073883057,10.292065620422363,8.829801559448242,10.139949798583984,8.455934524536133,10.53482437133789,9.600287437438965,9.682419776916504,8.677727699279785,8.367364883422852,6.46037483215332,6.641993999481201,2.5791828632354736,9.212287902832031,11.036375045776367,10.367874145507812,8.612943649291992,9.464824676513672,5.9575114250183105,6.80487060546875,11.02534008026123,11.05180835723877,6.664152145385742,6.369825839996338,13.967087745666504,6.418684482574463,6.9241533279418945,14.920448303222656,9.290050506591797,13.629388809204102,6.38633394241333,10.221273422241211,14.87302017211914,6.343303680419922,4.550631046295166,12.01439380645752,12.258049011230469,13.71630573272705,8.927151679992676,11.752765655517578,7.907021522521973,6.8465166091918945,8.352254867553711,6.072455883026123,15.305153846740723,11.186806678771973,11.140480995178223,7.319201946258545,9.293401718139648,5.38743782043457,2.4640517234802246,6.500627040863037,10.147668838500977,5.728787422180176,11.091207504272461,11.467951774597168,5.865351676940918,9.807202339172363,10.508039474487305,8.457459449768066,7.614609241485596,8.381957054138184,2.958930015563965,5.779606342315674,8.724943161010742,11.403738975524902,6.596778869628906,7.72898530960083,8.950925827026367,5.452221393585205,6.97611665725708,7.139071941375732,6.052971839904785,7.490214824676514,13.673704147338867,5.672593116760254,7.760344505310059,9.77839183807373,8.972086906433105,3.4180033206939697,11.273149490356445,10.870616912841797,11.16401481628418,5.329285144805908,8.971517562866211,6.422277450561523,10.665106773376465,12.12785530090332,6.430822372436523,3.3228607177734375,11.829448699951172,7.082424640655518,11.049814224243164,9.590811729431152,4.591316223144531,8.717446327209473,15.268196105957031,13.705924987792969,7.6341047286987305,8.271968841552734,9.231828689575195,1.2512080669403076,11.757182121276855,8.981882095336914,6.360551357269287,9.199321746826172,8.784025192260742,2.41475772857666,7.58371114730835,11.880908966064453,9.928061485290527,12.224397659301758,5.685720443725586,10.394157409667969,9.952969551086426,6.190349102020264,2.558767318725586,7.0936079025268555,11.910908699035645,9.036178588867188,5.912930011749268,2.686558723449707,9.078856468200684,9.039007186889648,14.8207368850708,7.560196399688721,7.933035373687744,5.923608779907227,2.3864850997924805,9.145105361938477,3.398435354232788,11.044008255004883,11.153491020202637,7.019424915313721,2.4377052783966064,10.135270118713379,4.6451873779296875,8.86660385131836,11.73975944519043,7.232181549072266,8.398180961608887,11.009783744812012,1.9162923097610474,2.430633544921875,6.269017219543457,6.304410457611084,8.342721939086914,1.0705140829086304,8.474221229553223,10.091851234436035,10.630634307861328,15.407086372375488,2.33496356010437,5.658149719238281,7.352852821350098,13.588703155517578,6.789623260498047,15.424934387207031,9.555021286010742,6.378796577453613,15.468658447265625,1.832223653793335,10.646716117858887,8.482294082641602,6.775906562805176,5.892982006072998,4.623762130737305,2.8829445838928223,6.557112216949463,5.77861213684082,6.586689472198486,8.43311882019043,8.729714393615723,9.96594524383545,1.6705800294876099,10.418660163879395,2.608718156814575,10.10898208618164,11.040936470031738,15.343781471252441,3.4104976654052734,9.267878532409668,10.331958770751953,9.382216453552246,5.346247673034668,8.873917579650879,14.879279136657715,8.547181129455566,11.197278022766113,9.001632690429688,9.563565254211426,8.83084774017334,7.111976146697998,9.085236549377441,5.818584442138672,11.771784782409668,11.267718315124512,8.549548149108887,5.380925178527832,6.764256954193115,8.900782585144043,6.535763740539551,9.761645317077637,10.033881187438965,6.741376876831055,14.902929306030273,10.211718559265137,5.683740615844727,5.753586292266846,9.40518569946289,10.433537483215332,9.53476333618164,9.564825057983398,9.033218383789062,9.875198364257812,10.347671508789062,9.083901405334473,8.385979652404785,6.549412250518799,10.178964614868164,9.839390754699707,2.7352402210235596,4.945188522338867,6.732453346252441,11.013148307800293,9.200618743896484,9.117738723754883,6.341546535491943,9.86778736114502,9.923611640930176,7.182862281799316,7.123064994812012,8.759393692016602,6.685685634613037,1.1237238645553589,5.940929889678955,13.827271461486816,8.689289093017578,7.21045446395874,7.320284843444824,1.094989538192749,9.7324857711792,13.360716819763184,10.339082717895508,10.198201179504395,9.741605758666992,9.269315719604492,8.3258056640625,7.491019248962402,10.617481231689453,1.2719446420669556,8.387683868408203,13.694448471069336,6.9934797286987305,7.447185516357422,7.545177936553955,11.626446723937988,9.227080345153809,4.406387805938721,6.950078010559082,2.5653791427612305,8.707671165466309,6.346297740936279,6.635159492492676,8.40358829498291,1.124964952468872,12.228053092956543,9.88300895690918,10.03696060180664,9.859875679016113,8.682209014892578,5.2640910148620605,6.815568447113037,9.201838493347168,11.558185577392578,10.596036911010742,6.6201066970825195,6.401583671569824,11.769206047058105,8.27247142791748,9.84603500366211,7.408873081207275,7.107321739196777,8.353801727294922,14.901728630065918,5.8386406898498535,11.030409812927246,10.272810935974121,6.329975605010986,9.072336196899414,13.460147857666016,6.8607892990112305,9.2667818069458,9.132464408874512,11.90599250793457,9.82758617401123,8.242361068725586,9.272151947021484,8.699456214904785,8.08858871459961,15.449339866638184,8.977452278137207,7.110511302947998],\"yaxis\":\"y\",\"type\":\"scatter\"}],                        {\"template\":{\"data\":{\"histogram2dcontour\":[{\"type\":\"histogram2dcontour\",\"colorbar\":{\"outlinewidth\":0,\"ticks\":\"\"},\"colorscale\":[[0.0,\"#0d0887\"],[0.1111111111111111,\"#46039f\"],[0.2222222222222222,\"#7201a8\"],[0.3333333333333333,\"#9c179e\"],[0.4444444444444444,\"#bd3786\"],[0.5555555555555556,\"#d8576b\"],[0.6666666666666666,\"#ed7953\"],[0.7777777777777778,\"#fb9f3a\"],[0.8888888888888888,\"#fdca26\"],[1.0,\"#f0f921\"]]}],\"choropleth\":[{\"type\":\"choropleth\",\"colorbar\":{\"outlinewidth\":0,\"ticks\":\"\"}}],\"histogram2d\":[{\"type\":\"histogram2d\",\"colorbar\":{\"outlinewidth\":0,\"ticks\":\"\"},\"colorscale\":[[0.0,\"#0d0887\"],[0.1111111111111111,\"#46039f\"],[0.2222222222222222,\"#7201a8\"],[0.3333333333333333,\"#9c179e\"],[0.4444444444444444,\"#bd3786\"],[0.5555555555555556,\"#d8576b\"],[0.6666666666666666,\"#ed7953\"],[0.7777777777777778,\"#fb9f3a\"],[0.8888888888888888,\"#fdca26\"],[1.0,\"#f0f921\"]]}],\"heatmap\":[{\"type\":\"heatmap\",\"colorbar\":{\"outlinewidth\":0,\"ticks\":\"\"},\"colorscale\":[[0.0,\"#0d0887\"],[0.1111111111111111,\"#46039f\"],[0.2222222222222222,\"#7201a8\"],[0.3333333333333333,\"#9c179e\"],[0.4444444444444444,\"#bd3786\"],[0.5555555555555556,\"#d8576b\"],[0.6666666666666666,\"#ed7953\"],[0.7777777777777778,\"#fb9f3a\"],[0.8888888888888888,\"#fdca26\"],[1.0,\"#f0f921\"]]}],\"heatmapgl\":[{\"type\":\"heatmapgl\",\"colorbar\":{\"outlinewidth\":0,\"ticks\":\"\"},\"colorscale\":[[0.0,\"#0d0887\"],[0.1111111111111111,\"#46039f\"],[0.2222222222222222,\"#7201a8\"],[0.3333333333333333,\"#9c179e\"],[0.4444444444444444,\"#bd3786\"],[0.5555555555555556,\"#d8576b\"],[0.6666666666666666,\"#ed7953\"],[0.7777777777777778,\"#fb9f3a\"],[0.8888888888888888,\"#fdca26\"],[1.0,\"#f0f921\"]]}],\"contourcarpet\":[{\"type\":\"contourcarpet\",\"colorbar\":{\"outlinewidth\":0,\"ticks\":\"\"}}],\"contour\":[{\"type\":\"contour\",\"colorbar\":{\"outlinewidth\":0,\"ticks\":\"\"},\"colorscale\":[[0.0,\"#0d0887\"],[0.1111111111111111,\"#46039f\"],[0.2222222222222222,\"#7201a8\"],[0.3333333333333333,\"#9c179e\"],[0.4444444444444444,\"#bd3786\"],[0.5555555555555556,\"#d8576b\"],[0.6666666666666666,\"#ed7953\"],[0.7777777777777778,\"#fb9f3a\"],[0.8888888888888888,\"#fdca26\"],[1.0,\"#f0f921\"]]}],\"surface\":[{\"type\":\"surface\",\"colorbar\":{\"outlinewidth\":0,\"ticks\":\"\"},\"colorscale\":[[0.0,\"#0d0887\"],[0.1111111111111111,\"#46039f\"],[0.2222222222222222,\"#7201a8\"],[0.3333333333333333,\"#9c179e\"],[0.4444444444444444,\"#bd3786\"],[0.5555555555555556,\"#d8576b\"],[0.6666666666666666,\"#ed7953\"],[0.7777777777777778,\"#fb9f3a\"],[0.8888888888888888,\"#fdca26\"],[1.0,\"#f0f921\"]]}],\"mesh3d\":[{\"type\":\"mesh3d\",\"colorbar\":{\"outlinewidth\":0,\"ticks\":\"\"}}],\"scatter\":[{\"fillpattern\":{\"fillmode\":\"overlay\",\"size\":10,\"solidity\":0.2},\"type\":\"scatter\"}],\"parcoords\":[{\"type\":\"parcoords\",\"line\":{\"colorbar\":{\"outlinewidth\":0,\"ticks\":\"\"}}}],\"scatterpolargl\":[{\"type\":\"scatterpolargl\",\"marker\":{\"colorbar\":{\"outlinewidth\":0,\"ticks\":\"\"}}}],\"bar\":[{\"error_x\":{\"color\":\"#2a3f5f\"},\"error_y\":{\"color\":\"#2a3f5f\"},\"marker\":{\"line\":{\"color\":\"#E5ECF6\",\"width\":0.5},\"pattern\":{\"fillmode\":\"overlay\",\"size\":10,\"solidity\":0.2}},\"type\":\"bar\"}],\"scattergeo\":[{\"type\":\"scattergeo\",\"marker\":{\"colorbar\":{\"outlinewidth\":0,\"ticks\":\"\"}}}],\"scatterpolar\":[{\"type\":\"scatterpolar\",\"marker\":{\"colorbar\":{\"outlinewidth\":0,\"ticks\":\"\"}}}],\"histogram\":[{\"marker\":{\"pattern\":{\"fillmode\":\"overlay\",\"size\":10,\"solidity\":0.2}},\"type\":\"histogram\"}],\"scattergl\":[{\"type\":\"scattergl\",\"marker\":{\"colorbar\":{\"outlinewidth\":0,\"ticks\":\"\"}}}],\"scatter3d\":[{\"type\":\"scatter3d\",\"line\":{\"colorbar\":{\"outlinewidth\":0,\"ticks\":\"\"}},\"marker\":{\"colorbar\":{\"outlinewidth\":0,\"ticks\":\"\"}}}],\"scattermapbox\":[{\"type\":\"scattermapbox\",\"marker\":{\"colorbar\":{\"outlinewidth\":0,\"ticks\":\"\"}}}],\"scatterternary\":[{\"type\":\"scatterternary\",\"marker\":{\"colorbar\":{\"outlinewidth\":0,\"ticks\":\"\"}}}],\"scattercarpet\":[{\"type\":\"scattercarpet\",\"marker\":{\"colorbar\":{\"outlinewidth\":0,\"ticks\":\"\"}}}],\"carpet\":[{\"aaxis\":{\"endlinecolor\":\"#2a3f5f\",\"gridcolor\":\"white\",\"linecolor\":\"white\",\"minorgridcolor\":\"white\",\"startlinecolor\":\"#2a3f5f\"},\"baxis\":{\"endlinecolor\":\"#2a3f5f\",\"gridcolor\":\"white\",\"linecolor\":\"white\",\"minorgridcolor\":\"white\",\"startlinecolor\":\"#2a3f5f\"},\"type\":\"carpet\"}],\"table\":[{\"cells\":{\"fill\":{\"color\":\"#EBF0F8\"},\"line\":{\"color\":\"white\"}},\"header\":{\"fill\":{\"color\":\"#C8D4E3\"},\"line\":{\"color\":\"white\"}},\"type\":\"table\"}],\"barpolar\":[{\"marker\":{\"line\":{\"color\":\"#E5ECF6\",\"width\":0.5},\"pattern\":{\"fillmode\":\"overlay\",\"size\":10,\"solidity\":0.2}},\"type\":\"barpolar\"}],\"pie\":[{\"automargin\":true,\"type\":\"pie\"}]},\"layout\":{\"autotypenumbers\":\"strict\",\"colorway\":[\"#636efa\",\"#EF553B\",\"#00cc96\",\"#ab63fa\",\"#FFA15A\",\"#19d3f3\",\"#FF6692\",\"#B6E880\",\"#FF97FF\",\"#FECB52\"],\"font\":{\"color\":\"#2a3f5f\"},\"hovermode\":\"closest\",\"hoverlabel\":{\"align\":\"left\"},\"paper_bgcolor\":\"white\",\"plot_bgcolor\":\"#E5ECF6\",\"polar\":{\"bgcolor\":\"#E5ECF6\",\"angularaxis\":{\"gridcolor\":\"white\",\"linecolor\":\"white\",\"ticks\":\"\"},\"radialaxis\":{\"gridcolor\":\"white\",\"linecolor\":\"white\",\"ticks\":\"\"}},\"ternary\":{\"bgcolor\":\"#E5ECF6\",\"aaxis\":{\"gridcolor\":\"white\",\"linecolor\":\"white\",\"ticks\":\"\"},\"baxis\":{\"gridcolor\":\"white\",\"linecolor\":\"white\",\"ticks\":\"\"},\"caxis\":{\"gridcolor\":\"white\",\"linecolor\":\"white\",\"ticks\":\"\"}},\"coloraxis\":{\"colorbar\":{\"outlinewidth\":0,\"ticks\":\"\"}},\"colorscale\":{\"sequential\":[[0.0,\"#0d0887\"],[0.1111111111111111,\"#46039f\"],[0.2222222222222222,\"#7201a8\"],[0.3333333333333333,\"#9c179e\"],[0.4444444444444444,\"#bd3786\"],[0.5555555555555556,\"#d8576b\"],[0.6666666666666666,\"#ed7953\"],[0.7777777777777778,\"#fb9f3a\"],[0.8888888888888888,\"#fdca26\"],[1.0,\"#f0f921\"]],\"sequentialminus\":[[0.0,\"#0d0887\"],[0.1111111111111111,\"#46039f\"],[0.2222222222222222,\"#7201a8\"],[0.3333333333333333,\"#9c179e\"],[0.4444444444444444,\"#bd3786\"],[0.5555555555555556,\"#d8576b\"],[0.6666666666666666,\"#ed7953\"],[0.7777777777777778,\"#fb9f3a\"],[0.8888888888888888,\"#fdca26\"],[1.0,\"#f0f921\"]],\"diverging\":[[0,\"#8e0152\"],[0.1,\"#c51b7d\"],[0.2,\"#de77ae\"],[0.3,\"#f1b6da\"],[0.4,\"#fde0ef\"],[0.5,\"#f7f7f7\"],[0.6,\"#e6f5d0\"],[0.7,\"#b8e186\"],[0.8,\"#7fbc41\"],[0.9,\"#4d9221\"],[1,\"#276419\"]]},\"xaxis\":{\"gridcolor\":\"white\",\"linecolor\":\"white\",\"ticks\":\"\",\"title\":{\"standoff\":15},\"zerolinecolor\":\"white\",\"automargin\":true,\"zerolinewidth\":2},\"yaxis\":{\"gridcolor\":\"white\",\"linecolor\":\"white\",\"ticks\":\"\",\"title\":{\"standoff\":15},\"zerolinecolor\":\"white\",\"automargin\":true,\"zerolinewidth\":2},\"scene\":{\"xaxis\":{\"backgroundcolor\":\"#E5ECF6\",\"gridcolor\":\"white\",\"linecolor\":\"white\",\"showbackground\":true,\"ticks\":\"\",\"zerolinecolor\":\"white\",\"gridwidth\":2},\"yaxis\":{\"backgroundcolor\":\"#E5ECF6\",\"gridcolor\":\"white\",\"linecolor\":\"white\",\"showbackground\":true,\"ticks\":\"\",\"zerolinecolor\":\"white\",\"gridwidth\":2},\"zaxis\":{\"backgroundcolor\":\"#E5ECF6\",\"gridcolor\":\"white\",\"linecolor\":\"white\",\"showbackground\":true,\"ticks\":\"\",\"zerolinecolor\":\"white\",\"gridwidth\":2}},\"shapedefaults\":{\"line\":{\"color\":\"#2a3f5f\"}},\"annotationdefaults\":{\"arrowcolor\":\"#2a3f5f\",\"arrowhead\":0,\"arrowwidth\":1},\"geo\":{\"bgcolor\":\"white\",\"landcolor\":\"#E5ECF6\",\"subunitcolor\":\"white\",\"showland\":true,\"showlakes\":true,\"lakecolor\":\"white\"},\"title\":{\"x\":0.05},\"mapbox\":{\"style\":\"light\"}}},\"xaxis\":{\"anchor\":\"y\",\"domain\":[0.0,1.0],\"title\":{\"text\":\"0\"}},\"yaxis\":{\"anchor\":\"x\",\"domain\":[0.0,1.0],\"title\":{\"text\":\"1\"}},\"coloraxis\":{\"colorbar\":{\"title\":{\"text\":\"Anomaly\"}},\"colorscale\":[[0.0,\"#0d0887\"],[0.1111111111111111,\"#46039f\"],[0.2222222222222222,\"#7201a8\"],[0.3333333333333333,\"#9c179e\"],[0.4444444444444444,\"#bd3786\"],[0.5555555555555556,\"#d8576b\"],[0.6666666666666666,\"#ed7953\"],[0.7777777777777778,\"#fb9f3a\"],[0.8888888888888888,\"#fdca26\"],[1.0,\"#f0f921\"]]},\"legend\":{\"tracegroupgap\":0},\"title\":{\"text\":\"uMAP Plot for Outliers\"},\"height\":800,\"width\":900},                        {\"responsive\": true}                    ).then(function(){\n",
       "                            \n",
       "var gd = document.getElementById('87e871a5-b60b-448f-b4bf-dace3eb605ab');\n",
       "var x = new MutationObserver(function (mutations, observer) {{\n",
       "        var display = window.getComputedStyle(gd).display;\n",
       "        if (!display || display === 'none') {{\n",
       "            console.log([gd, 'removed!']);\n",
       "            Plotly.purge(gd);\n",
       "            observer.disconnect();\n",
       "        }}\n",
       "}});\n",
       "\n",
       "// Listen for the removal of the full notebook cells\n",
       "var notebookContainer = gd.closest('#notebook-container');\n",
       "if (notebookContainer) {{\n",
       "    x.observe(notebookContainer, {childList: true});\n",
       "}}\n",
       "\n",
       "// Listen for the clearing of the current output cell\n",
       "var outputEl = gd.closest('.output');\n",
       "if (outputEl) {{\n",
       "    x.observe(outputEl, {childList: true});\n",
       "}}\n",
       "\n",
       "                        })                };                });            </script>        </div>"
      ]
     },
     "metadata": {},
     "output_type": "display_data"
    }
   ],
   "source": [
    "plot_model(iforest, plot = 'umap')"
   ]
  },
  {
   "cell_type": "markdown",
   "id": "8a1406f4-6a87-4f97-9dd4-50e4de993fc8",
   "metadata": {},
   "source": [
    "### Predict on unseen data"
   ]
  },
  {
   "cell_type": "code",
   "execution_count": 17,
   "id": "ad79ac39-a626-428e-bed3-138cb6bec94a",
   "metadata": {},
   "outputs": [
    {
     "data": {
      "text/html": [
       "<div>\n",
       "<style scoped>\n",
       "    .dataframe tbody tr th:only-of-type {\n",
       "        vertical-align: middle;\n",
       "    }\n",
       "\n",
       "    .dataframe tbody tr th {\n",
       "        vertical-align: top;\n",
       "    }\n",
       "\n",
       "    .dataframe thead th {\n",
       "        text-align: right;\n",
       "    }\n",
       "</style>\n",
       "<table border=\"1\" class=\"dataframe\">\n",
       "  <thead>\n",
       "    <tr style=\"text-align: right;\">\n",
       "      <th></th>\n",
       "      <th>index</th>\n",
       "      <th>MouseID</th>\n",
       "      <th>DYRK1A_N</th>\n",
       "      <th>ITSN1_N</th>\n",
       "      <th>BDNF_N</th>\n",
       "      <th>NR1_N</th>\n",
       "      <th>NR2A_N</th>\n",
       "      <th>pAKT_N</th>\n",
       "      <th>pBRAF_N</th>\n",
       "      <th>pCAMKII_N</th>\n",
       "      <th>...</th>\n",
       "      <th>H3AcK18_N</th>\n",
       "      <th>EGR1_N</th>\n",
       "      <th>H3MeK4_N</th>\n",
       "      <th>CaNA_N</th>\n",
       "      <th>Genotype</th>\n",
       "      <th>Treatment</th>\n",
       "      <th>Behavior</th>\n",
       "      <th>class</th>\n",
       "      <th>Anomaly</th>\n",
       "      <th>Anomaly_Score</th>\n",
       "    </tr>\n",
       "  </thead>\n",
       "  <tbody>\n",
       "    <tr>\n",
       "      <th>0</th>\n",
       "      <td>12</td>\n",
       "      <td>309_13</td>\n",
       "      <td>0.364873</td>\n",
       "      <td>0.482102</td>\n",
       "      <td>0.312539</td>\n",
       "      <td>1.946201</td>\n",
       "      <td>3.349592</td>\n",
       "      <td>0.230898</td>\n",
       "      <td>0.188821</td>\n",
       "      <td>1.508687</td>\n",
       "      <td>...</td>\n",
       "      <td>0.168370</td>\n",
       "      <td>0.236878</td>\n",
       "      <td>0.214088</td>\n",
       "      <td>1.426934</td>\n",
       "      <td>Control</td>\n",
       "      <td>Memantine</td>\n",
       "      <td>C/S</td>\n",
       "      <td>c-CS-m</td>\n",
       "      <td>0</td>\n",
       "      <td>-0.072362</td>\n",
       "    </tr>\n",
       "    <tr>\n",
       "      <th>1</th>\n",
       "      <td>21</td>\n",
       "      <td>311_7</td>\n",
       "      <td>0.702608</td>\n",
       "      <td>0.699581</td>\n",
       "      <td>0.387750</td>\n",
       "      <td>2.437587</td>\n",
       "      <td>4.449231</td>\n",
       "      <td>0.258500</td>\n",
       "      <td>0.197019</td>\n",
       "      <td>2.091057</td>\n",
       "      <td>...</td>\n",
       "      <td>0.148026</td>\n",
       "      <td>0.215089</td>\n",
       "      <td>0.239907</td>\n",
       "      <td>1.178248</td>\n",
       "      <td>Control</td>\n",
       "      <td>Memantine</td>\n",
       "      <td>C/S</td>\n",
       "      <td>c-CS-m</td>\n",
       "      <td>0</td>\n",
       "      <td>-0.026771</td>\n",
       "    </tr>\n",
       "    <tr>\n",
       "      <th>2</th>\n",
       "      <td>29</td>\n",
       "      <td>311_15</td>\n",
       "      <td>0.485100</td>\n",
       "      <td>0.556375</td>\n",
       "      <td>0.287250</td>\n",
       "      <td>1.892166</td>\n",
       "      <td>2.847005</td>\n",
       "      <td>0.223041</td>\n",
       "      <td>0.177573</td>\n",
       "      <td>1.462366</td>\n",
       "      <td>...</td>\n",
       "      <td>0.143278</td>\n",
       "      <td>0.218929</td>\n",
       "      <td>0.208286</td>\n",
       "      <td>1.030948</td>\n",
       "      <td>Control</td>\n",
       "      <td>Memantine</td>\n",
       "      <td>C/S</td>\n",
       "      <td>c-CS-m</td>\n",
       "      <td>0</td>\n",
       "      <td>-0.022413</td>\n",
       "    </tr>\n",
       "    <tr>\n",
       "      <th>3</th>\n",
       "      <td>33</td>\n",
       "      <td>320_4</td>\n",
       "      <td>0.568229</td>\n",
       "      <td>0.812018</td>\n",
       "      <td>0.393465</td>\n",
       "      <td>2.606780</td>\n",
       "      <td>5.808102</td>\n",
       "      <td>0.218211</td>\n",
       "      <td>0.179905</td>\n",
       "      <td>2.312324</td>\n",
       "      <td>...</td>\n",
       "      <td>0.123122</td>\n",
       "      <td>0.156108</td>\n",
       "      <td>NaN</td>\n",
       "      <td>1.682222</td>\n",
       "      <td>Control</td>\n",
       "      <td>Memantine</td>\n",
       "      <td>C/S</td>\n",
       "      <td>c-CS-m</td>\n",
       "      <td>0</td>\n",
       "      <td>-0.057504</td>\n",
       "    </tr>\n",
       "    <tr>\n",
       "      <th>4</th>\n",
       "      <td>35</td>\n",
       "      <td>320_6</td>\n",
       "      <td>0.595904</td>\n",
       "      <td>0.861763</td>\n",
       "      <td>0.421204</td>\n",
       "      <td>2.831169</td>\n",
       "      <td>6.368257</td>\n",
       "      <td>0.233017</td>\n",
       "      <td>0.187687</td>\n",
       "      <td>2.406219</td>\n",
       "      <td>...</td>\n",
       "      <td>0.136727</td>\n",
       "      <td>0.176219</td>\n",
       "      <td>NaN</td>\n",
       "      <td>1.610816</td>\n",
       "      <td>Control</td>\n",
       "      <td>Memantine</td>\n",
       "      <td>C/S</td>\n",
       "      <td>c-CS-m</td>\n",
       "      <td>0</td>\n",
       "      <td>-0.027773</td>\n",
       "    </tr>\n",
       "  </tbody>\n",
       "</table>\n",
       "<p>5 rows × 85 columns</p>\n",
       "</div>"
      ],
      "text/plain": [
       "   index MouseID  DYRK1A_N   ITSN1_N    BDNF_N     NR1_N    NR2A_N    pAKT_N  \\\n",
       "0     12  309_13  0.364873  0.482102  0.312539  1.946201  3.349592  0.230898   \n",
       "1     21   311_7  0.702608  0.699581  0.387750  2.437587  4.449231  0.258500   \n",
       "2     29  311_15  0.485100  0.556375  0.287250  1.892166  2.847005  0.223041   \n",
       "3     33   320_4  0.568229  0.812018  0.393465  2.606780  5.808102  0.218211   \n",
       "4     35   320_6  0.595904  0.861763  0.421204  2.831169  6.368257  0.233017   \n",
       "\n",
       "    pBRAF_N  pCAMKII_N  ...  H3AcK18_N    EGR1_N  H3MeK4_N    CaNA_N  \\\n",
       "0  0.188821   1.508687  ...   0.168370  0.236878  0.214088  1.426934   \n",
       "1  0.197019   2.091057  ...   0.148026  0.215089  0.239907  1.178248   \n",
       "2  0.177573   1.462366  ...   0.143278  0.218929  0.208286  1.030948   \n",
       "3  0.179905   2.312324  ...   0.123122  0.156108       NaN  1.682222   \n",
       "4  0.187687   2.406219  ...   0.136727  0.176219       NaN  1.610816   \n",
       "\n",
       "   Genotype  Treatment  Behavior   class  Anomaly  Anomaly_Score  \n",
       "0   Control  Memantine       C/S  c-CS-m        0      -0.072362  \n",
       "1   Control  Memantine       C/S  c-CS-m        0      -0.026771  \n",
       "2   Control  Memantine       C/S  c-CS-m        0      -0.022413  \n",
       "3   Control  Memantine       C/S  c-CS-m        0      -0.057504  \n",
       "4   Control  Memantine       C/S  c-CS-m        0      -0.027773  \n",
       "\n",
       "[5 rows x 85 columns]"
      ]
     },
     "execution_count": 17,
     "metadata": {},
     "output_type": "execute_result"
    }
   ],
   "source": [
    "pred = predict_model(iforest, data=test)\n",
    "pred.head()"
   ]
  },
  {
   "cell_type": "markdown",
   "id": "c675a724-361c-4cb7-907c-340fb00a6807",
   "metadata": {},
   "source": [
    "### Saving the model"
   ]
  },
  {
   "cell_type": "code",
   "execution_count": null,
   "id": "88b1a375-4b43-4e64-b81b-ac06471b62ab",
   "metadata": {},
   "outputs": [],
   "source": [
    "save_model(iforest,'Final IForest Model')\n",
    "model = load_model('Final IForest Model')\n",
    "pred = predict_model(model, data=test)"
   ]
  },
  {
   "cell_type": "code",
   "execution_count": null,
   "id": "9f9ba708-60cb-4f69-92ae-7c1dc6d35a91",
   "metadata": {},
   "outputs": [],
   "source": []
  },
  {
   "cell_type": "code",
   "execution_count": null,
   "id": "4dc00030-2bb5-45c8-9441-5a192430775a",
   "metadata": {},
   "outputs": [],
   "source": []
  }
 ],
 "metadata": {
  "kernelspec": {
   "display_name": "Python 3 (ipykernel)",
   "language": "python",
   "name": "python3"
  },
  "language_info": {
   "codemirror_mode": {
    "name": "ipython",
    "version": 3
   },
   "file_extension": ".py",
   "mimetype": "text/x-python",
   "name": "python",
   "nbconvert_exporter": "python",
   "pygments_lexer": "ipython3",
   "version": "3.7.13"
  }
 },
 "nbformat": 4,
 "nbformat_minor": 5
}
